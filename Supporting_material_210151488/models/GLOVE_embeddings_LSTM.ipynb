{
  "nbformat": 4,
  "nbformat_minor": 0,
  "metadata": {
    "colab": {
      "name": "GLOVE_embeddings_LSTM.ipynb",
      "provenance": [],
      "collapsed_sections": [],
      "machine_shape": "hm",
      "toc_visible": true
    },
    "kernelspec": {
      "name": "python3",
      "display_name": "Python 3"
    },
    "language_info": {
      "name": "python"
    },
    "accelerator": "GPU"
  },
  "cells": [
    {
      "cell_type": "markdown",
      "source": [
        "# Instructions:\n",
        "1. I have tested GLOVE embeddings + hate words + LSTM model on FormSpring and Youtube dataset\n",
        "\n",
        "2. To run for a specific dataset, you can directly scroll to that particular data and run the code. For example, if you want to run for the YouTube dataset, you can start running from \"2.YouTube Dataset\".\n",
        "\n",
        "3. To run the code, please upload form_spring_clean.csv and utube_clean.csv files provided under clean_data folder."
      ],
      "metadata": {
        "id": "L46UoLWOdeBL"
      }
    },
    {
      "cell_type": "markdown",
      "source": [
        "# 1.Form Spring Dataset"
      ],
      "metadata": {
        "id": "dPp10Mw_OhGq"
      }
    },
    {
      "cell_type": "markdown",
      "source": [
        "##1.1 Installing dependencies and importing packages"
      ],
      "metadata": {
        "id": "nv14c5N7EzF0"
      }
    },
    {
      "cell_type": "code",
      "metadata": {
        "id": "Wj_-hW-4BZ7U",
        "colab": {
          "base_uri": "https://localhost:8080/"
        },
        "outputId": "a138ab7d-732e-4200-b575-331034876086"
      },
      "source": [
        "import tensorflow as tf\n",
        "from tensorflow.keras.preprocessing.text import Tokenizer\n",
        "from tensorflow.keras.preprocessing.sequence import pad_sequences\n",
        "from tensorflow.keras.models import Sequential\n",
        "from tensorflow.keras.layers import Dense,Flatten,Embedding,Activation, Dropout,Input\n",
        "from tensorflow.keras.layers import Conv1D, MaxPooling1D, GlobalMaxPooling1D, LSTM \n",
        "from tensorflow.keras.optimizers import Adam\n",
        "from tensorflow.keras.models import Model\n",
        "\n",
        "import numpy as np\n",
        "from numpy import array\n",
        "import pandas as pd\n",
        "\n",
        "from sklearn.model_selection import train_test_split\n",
        "from keras.callbacks import ModelCheckpoint, EarlyStopping\n",
        "\n",
        "import re\n",
        "from tqdm import tqdm_notebook\n",
        "\n",
        "from nltk.corpus import stopwords\n",
        "\n",
        "import nltk\n",
        "nltk.download('stopwords')\n",
        "\n",
        "import matplotlib.pyplot as plt"
      ],
      "execution_count": 1,
      "outputs": [
        {
          "output_type": "stream",
          "name": "stderr",
          "text": [
            "[nltk_data] Downloading package stopwords to /root/nltk_data...\n",
            "[nltk_data]   Unzipping corpora/stopwords.zip.\n"
          ]
        }
      ]
    },
    {
      "cell_type": "markdown",
      "source": [
        "## 1.2 Reading and preparing the dataset"
      ],
      "metadata": {
        "id": "U3D92zF9E6gc"
      }
    },
    {
      "cell_type": "code",
      "metadata": {
        "colab": {
          "base_uri": "https://localhost:8080/",
          "height": 302
        },
        "id": "7GpX0oY0Clma",
        "outputId": "6be4e1ee-5af9-447d-8127-680681365b0a"
      },
      "source": [
        "#Reading dataset\n",
        "df_form= pd.read_csv('form_spring_clean.csv')\n",
        "df_form.head()"
      ],
      "execution_count": 2,
      "outputs": [
        {
          "output_type": "execute_result",
          "data": {
            "text/plain": [
              "                                                Text hate_words  Label  \\\n",
              "0  Q: what&#039;s your favorite song? :D<br>A: I ...          0      0   \n",
              "1                     Q: <3<br>A: </3 ? haha jk! <33          0      0   \n",
              "2  Q: &quot;hey angel  you duh sexy&quot;<br>A: R...          0      0   \n",
              "3                                     Q: (:<br>A: ;(          0      0   \n",
              "4  Q: ******************MEOWWW*******************...          0      0   \n",
              "\n",
              "                                          Text_clean hate_words_clean  \\\n",
              "0  q what039s favorite song d a i like many songs...                0   \n",
              "1                                 q 3 a 3 haha jk 33                0   \n",
              "2  q quothey angel duh sexyquot a really thanks haha                0   \n",
              "3                                                q a                0   \n",
              "4                                    q meowww a rawr                0   \n",
              "\n",
              "          category  \n",
              "0  non_hate_speech  \n",
              "1  non_hate_speech  \n",
              "2  non_hate_speech  \n",
              "3  non_hate_speech  \n",
              "4  non_hate_speech  "
            ],
            "text/html": [
              "\n",
              "  <div id=\"df-d3fe16a4-3b2e-4ca7-9bf6-d33bcaebea93\">\n",
              "    <div class=\"colab-df-container\">\n",
              "      <div>\n",
              "<style scoped>\n",
              "    .dataframe tbody tr th:only-of-type {\n",
              "        vertical-align: middle;\n",
              "    }\n",
              "\n",
              "    .dataframe tbody tr th {\n",
              "        vertical-align: top;\n",
              "    }\n",
              "\n",
              "    .dataframe thead th {\n",
              "        text-align: right;\n",
              "    }\n",
              "</style>\n",
              "<table border=\"1\" class=\"dataframe\">\n",
              "  <thead>\n",
              "    <tr style=\"text-align: right;\">\n",
              "      <th></th>\n",
              "      <th>Text</th>\n",
              "      <th>hate_words</th>\n",
              "      <th>Label</th>\n",
              "      <th>Text_clean</th>\n",
              "      <th>hate_words_clean</th>\n",
              "      <th>category</th>\n",
              "    </tr>\n",
              "  </thead>\n",
              "  <tbody>\n",
              "    <tr>\n",
              "      <th>0</th>\n",
              "      <td>Q: what&amp;#039;s your favorite song? :D&lt;br&gt;A: I ...</td>\n",
              "      <td>0</td>\n",
              "      <td>0</td>\n",
              "      <td>q what039s favorite song d a i like many songs...</td>\n",
              "      <td>0</td>\n",
              "      <td>non_hate_speech</td>\n",
              "    </tr>\n",
              "    <tr>\n",
              "      <th>1</th>\n",
              "      <td>Q: &lt;3&lt;br&gt;A: &lt;/3 ? haha jk! &lt;33</td>\n",
              "      <td>0</td>\n",
              "      <td>0</td>\n",
              "      <td>q 3 a 3 haha jk 33</td>\n",
              "      <td>0</td>\n",
              "      <td>non_hate_speech</td>\n",
              "    </tr>\n",
              "    <tr>\n",
              "      <th>2</th>\n",
              "      <td>Q: &amp;quot;hey angel  you duh sexy&amp;quot;&lt;br&gt;A: R...</td>\n",
              "      <td>0</td>\n",
              "      <td>0</td>\n",
              "      <td>q quothey angel duh sexyquot a really thanks haha</td>\n",
              "      <td>0</td>\n",
              "      <td>non_hate_speech</td>\n",
              "    </tr>\n",
              "    <tr>\n",
              "      <th>3</th>\n",
              "      <td>Q: (:&lt;br&gt;A: ;(</td>\n",
              "      <td>0</td>\n",
              "      <td>0</td>\n",
              "      <td>q a</td>\n",
              "      <td>0</td>\n",
              "      <td>non_hate_speech</td>\n",
              "    </tr>\n",
              "    <tr>\n",
              "      <th>4</th>\n",
              "      <td>Q: ******************MEOWWW*******************...</td>\n",
              "      <td>0</td>\n",
              "      <td>0</td>\n",
              "      <td>q meowww a rawr</td>\n",
              "      <td>0</td>\n",
              "      <td>non_hate_speech</td>\n",
              "    </tr>\n",
              "  </tbody>\n",
              "</table>\n",
              "</div>\n",
              "      <button class=\"colab-df-convert\" onclick=\"convertToInteractive('df-d3fe16a4-3b2e-4ca7-9bf6-d33bcaebea93')\"\n",
              "              title=\"Convert this dataframe to an interactive table.\"\n",
              "              style=\"display:none;\">\n",
              "        \n",
              "  <svg xmlns=\"http://www.w3.org/2000/svg\" height=\"24px\"viewBox=\"0 0 24 24\"\n",
              "       width=\"24px\">\n",
              "    <path d=\"M0 0h24v24H0V0z\" fill=\"none\"/>\n",
              "    <path d=\"M18.56 5.44l.94 2.06.94-2.06 2.06-.94-2.06-.94-.94-2.06-.94 2.06-2.06.94zm-11 1L8.5 8.5l.94-2.06 2.06-.94-2.06-.94L8.5 2.5l-.94 2.06-2.06.94zm10 10l.94 2.06.94-2.06 2.06-.94-2.06-.94-.94-2.06-.94 2.06-2.06.94z\"/><path d=\"M17.41 7.96l-1.37-1.37c-.4-.4-.92-.59-1.43-.59-.52 0-1.04.2-1.43.59L10.3 9.45l-7.72 7.72c-.78.78-.78 2.05 0 2.83L4 21.41c.39.39.9.59 1.41.59.51 0 1.02-.2 1.41-.59l7.78-7.78 2.81-2.81c.8-.78.8-2.07 0-2.86zM5.41 20L4 18.59l7.72-7.72 1.47 1.35L5.41 20z\"/>\n",
              "  </svg>\n",
              "      </button>\n",
              "      \n",
              "  <style>\n",
              "    .colab-df-container {\n",
              "      display:flex;\n",
              "      flex-wrap:wrap;\n",
              "      gap: 12px;\n",
              "    }\n",
              "\n",
              "    .colab-df-convert {\n",
              "      background-color: #E8F0FE;\n",
              "      border: none;\n",
              "      border-radius: 50%;\n",
              "      cursor: pointer;\n",
              "      display: none;\n",
              "      fill: #1967D2;\n",
              "      height: 32px;\n",
              "      padding: 0 0 0 0;\n",
              "      width: 32px;\n",
              "    }\n",
              "\n",
              "    .colab-df-convert:hover {\n",
              "      background-color: #E2EBFA;\n",
              "      box-shadow: 0px 1px 2px rgba(60, 64, 67, 0.3), 0px 1px 3px 1px rgba(60, 64, 67, 0.15);\n",
              "      fill: #174EA6;\n",
              "    }\n",
              "\n",
              "    [theme=dark] .colab-df-convert {\n",
              "      background-color: #3B4455;\n",
              "      fill: #D2E3FC;\n",
              "    }\n",
              "\n",
              "    [theme=dark] .colab-df-convert:hover {\n",
              "      background-color: #434B5C;\n",
              "      box-shadow: 0px 1px 3px 1px rgba(0, 0, 0, 0.15);\n",
              "      filter: drop-shadow(0px 1px 2px rgba(0, 0, 0, 0.3));\n",
              "      fill: #FFFFFF;\n",
              "    }\n",
              "  </style>\n",
              "\n",
              "      <script>\n",
              "        const buttonEl =\n",
              "          document.querySelector('#df-d3fe16a4-3b2e-4ca7-9bf6-d33bcaebea93 button.colab-df-convert');\n",
              "        buttonEl.style.display =\n",
              "          google.colab.kernel.accessAllowed ? 'block' : 'none';\n",
              "\n",
              "        async function convertToInteractive(key) {\n",
              "          const element = document.querySelector('#df-d3fe16a4-3b2e-4ca7-9bf6-d33bcaebea93');\n",
              "          const dataTable =\n",
              "            await google.colab.kernel.invokeFunction('convertToInteractive',\n",
              "                                                     [key], {});\n",
              "          if (!dataTable) return;\n",
              "\n",
              "          const docLinkHtml = 'Like what you see? Visit the ' +\n",
              "            '<a target=\"_blank\" href=https://colab.research.google.com/notebooks/data_table.ipynb>data table notebook</a>'\n",
              "            + ' to learn more about interactive tables.';\n",
              "          element.innerHTML = '';\n",
              "          dataTable['output_type'] = 'display_data';\n",
              "          await google.colab.output.renderOutput(dataTable, element);\n",
              "          const docLink = document.createElement('div');\n",
              "          docLink.innerHTML = docLinkHtml;\n",
              "          element.appendChild(docLink);\n",
              "        }\n",
              "      </script>\n",
              "    </div>\n",
              "  </div>\n",
              "  "
            ]
          },
          "metadata": {},
          "execution_count": 2
        }
      ]
    },
    {
      "cell_type": "code",
      "source": [
        "# Grouping data by label\n",
        "df_form.groupby('Label').count()"
      ],
      "metadata": {
        "colab": {
          "base_uri": "https://localhost:8080/",
          "height": 143
        },
        "id": "YUPQF1evHXUZ",
        "outputId": "c0eb42f9-e32a-4ebd-c893-bbca4a81d6a7"
      },
      "execution_count": 3,
      "outputs": [
        {
          "output_type": "execute_result",
          "data": {
            "text/plain": [
              "        Text  hate_words  Text_clean  hate_words_clean  category\n",
              "Label                                                           \n",
              "0      13616       13616       13616             13507     13616\n",
              "1       3411        3411        3411              3335      3411"
            ],
            "text/html": [
              "\n",
              "  <div id=\"df-26dfcc35-945d-4951-acf9-cded3ec2ce20\">\n",
              "    <div class=\"colab-df-container\">\n",
              "      <div>\n",
              "<style scoped>\n",
              "    .dataframe tbody tr th:only-of-type {\n",
              "        vertical-align: middle;\n",
              "    }\n",
              "\n",
              "    .dataframe tbody tr th {\n",
              "        vertical-align: top;\n",
              "    }\n",
              "\n",
              "    .dataframe thead th {\n",
              "        text-align: right;\n",
              "    }\n",
              "</style>\n",
              "<table border=\"1\" class=\"dataframe\">\n",
              "  <thead>\n",
              "    <tr style=\"text-align: right;\">\n",
              "      <th></th>\n",
              "      <th>Text</th>\n",
              "      <th>hate_words</th>\n",
              "      <th>Text_clean</th>\n",
              "      <th>hate_words_clean</th>\n",
              "      <th>category</th>\n",
              "    </tr>\n",
              "    <tr>\n",
              "      <th>Label</th>\n",
              "      <th></th>\n",
              "      <th></th>\n",
              "      <th></th>\n",
              "      <th></th>\n",
              "      <th></th>\n",
              "    </tr>\n",
              "  </thead>\n",
              "  <tbody>\n",
              "    <tr>\n",
              "      <th>0</th>\n",
              "      <td>13616</td>\n",
              "      <td>13616</td>\n",
              "      <td>13616</td>\n",
              "      <td>13507</td>\n",
              "      <td>13616</td>\n",
              "    </tr>\n",
              "    <tr>\n",
              "      <th>1</th>\n",
              "      <td>3411</td>\n",
              "      <td>3411</td>\n",
              "      <td>3411</td>\n",
              "      <td>3335</td>\n",
              "      <td>3411</td>\n",
              "    </tr>\n",
              "  </tbody>\n",
              "</table>\n",
              "</div>\n",
              "      <button class=\"colab-df-convert\" onclick=\"convertToInteractive('df-26dfcc35-945d-4951-acf9-cded3ec2ce20')\"\n",
              "              title=\"Convert this dataframe to an interactive table.\"\n",
              "              style=\"display:none;\">\n",
              "        \n",
              "  <svg xmlns=\"http://www.w3.org/2000/svg\" height=\"24px\"viewBox=\"0 0 24 24\"\n",
              "       width=\"24px\">\n",
              "    <path d=\"M0 0h24v24H0V0z\" fill=\"none\"/>\n",
              "    <path d=\"M18.56 5.44l.94 2.06.94-2.06 2.06-.94-2.06-.94-.94-2.06-.94 2.06-2.06.94zm-11 1L8.5 8.5l.94-2.06 2.06-.94-2.06-.94L8.5 2.5l-.94 2.06-2.06.94zm10 10l.94 2.06.94-2.06 2.06-.94-2.06-.94-.94-2.06-.94 2.06-2.06.94z\"/><path d=\"M17.41 7.96l-1.37-1.37c-.4-.4-.92-.59-1.43-.59-.52 0-1.04.2-1.43.59L10.3 9.45l-7.72 7.72c-.78.78-.78 2.05 0 2.83L4 21.41c.39.39.9.59 1.41.59.51 0 1.02-.2 1.41-.59l7.78-7.78 2.81-2.81c.8-.78.8-2.07 0-2.86zM5.41 20L4 18.59l7.72-7.72 1.47 1.35L5.41 20z\"/>\n",
              "  </svg>\n",
              "      </button>\n",
              "      \n",
              "  <style>\n",
              "    .colab-df-container {\n",
              "      display:flex;\n",
              "      flex-wrap:wrap;\n",
              "      gap: 12px;\n",
              "    }\n",
              "\n",
              "    .colab-df-convert {\n",
              "      background-color: #E8F0FE;\n",
              "      border: none;\n",
              "      border-radius: 50%;\n",
              "      cursor: pointer;\n",
              "      display: none;\n",
              "      fill: #1967D2;\n",
              "      height: 32px;\n",
              "      padding: 0 0 0 0;\n",
              "      width: 32px;\n",
              "    }\n",
              "\n",
              "    .colab-df-convert:hover {\n",
              "      background-color: #E2EBFA;\n",
              "      box-shadow: 0px 1px 2px rgba(60, 64, 67, 0.3), 0px 1px 3px 1px rgba(60, 64, 67, 0.15);\n",
              "      fill: #174EA6;\n",
              "    }\n",
              "\n",
              "    [theme=dark] .colab-df-convert {\n",
              "      background-color: #3B4455;\n",
              "      fill: #D2E3FC;\n",
              "    }\n",
              "\n",
              "    [theme=dark] .colab-df-convert:hover {\n",
              "      background-color: #434B5C;\n",
              "      box-shadow: 0px 1px 3px 1px rgba(0, 0, 0, 0.15);\n",
              "      filter: drop-shadow(0px 1px 2px rgba(0, 0, 0, 0.3));\n",
              "      fill: #FFFFFF;\n",
              "    }\n",
              "  </style>\n",
              "\n",
              "      <script>\n",
              "        const buttonEl =\n",
              "          document.querySelector('#df-26dfcc35-945d-4951-acf9-cded3ec2ce20 button.colab-df-convert');\n",
              "        buttonEl.style.display =\n",
              "          google.colab.kernel.accessAllowed ? 'block' : 'none';\n",
              "\n",
              "        async function convertToInteractive(key) {\n",
              "          const element = document.querySelector('#df-26dfcc35-945d-4951-acf9-cded3ec2ce20');\n",
              "          const dataTable =\n",
              "            await google.colab.kernel.invokeFunction('convertToInteractive',\n",
              "                                                     [key], {});\n",
              "          if (!dataTable) return;\n",
              "\n",
              "          const docLinkHtml = 'Like what you see? Visit the ' +\n",
              "            '<a target=\"_blank\" href=https://colab.research.google.com/notebooks/data_table.ipynb>data table notebook</a>'\n",
              "            + ' to learn more about interactive tables.';\n",
              "          element.innerHTML = '';\n",
              "          dataTable['output_type'] = 'display_data';\n",
              "          await google.colab.output.renderOutput(dataTable, element);\n",
              "          const docLink = document.createElement('div');\n",
              "          docLink.innerHTML = docLinkHtml;\n",
              "          element.appendChild(docLink);\n",
              "        }\n",
              "      </script>\n",
              "    </div>\n",
              "  </div>\n",
              "  "
            ]
          },
          "metadata": {},
          "execution_count": 3
        }
      ]
    },
    {
      "cell_type": "code",
      "source": [
        "df_form['category'].value_counts()"
      ],
      "metadata": {
        "colab": {
          "base_uri": "https://localhost:8080/"
        },
        "id": "HFUs0zaxHXQ6",
        "outputId": "d18b6594-3777-42c2-e319-a4e870a4dc48"
      },
      "execution_count": 4,
      "outputs": [
        {
          "output_type": "execute_result",
          "data": {
            "text/plain": [
              "non_hate_speech    13616\n",
              "hate_speech         3411\n",
              "Name: category, dtype: int64"
            ]
          },
          "metadata": {},
          "execution_count": 4
        }
      ]
    },
    {
      "cell_type": "code",
      "source": [
        "non_hate_speech, hate_speech = np.bincount(df_form['Label'])\n",
        "total = hate_speech + non_hate_speech\n",
        "print('Examples:\\n    Total: {}\\n    non_hate_speech: {} ({:.2f}% of total)\\n'.format(\n",
        "    total, non_hate_speech, 100 *  non_hate_speech / total))\n",
        "print('Examples:\\n    Total: {}\\n    hate_speech: {} ({:.2f}% of total)\\n'.format(\n",
        "    total, hate_speech, 100 * hate_speech / total))\n"
      ],
      "metadata": {
        "colab": {
          "base_uri": "https://localhost:8080/"
        },
        "id": "Ol0RjPWXHXOA",
        "outputId": "f3e5408c-c833-42b3-f465-6bf55ee7a826"
      },
      "execution_count": 5,
      "outputs": [
        {
          "output_type": "stream",
          "name": "stdout",
          "text": [
            "Examples:\n",
            "    Total: 17027\n",
            "    non_hate_speech: 13616 (79.97% of total)\n",
            "\n",
            "Examples:\n",
            "    Total: 17027\n",
            "    hate_speech: 3411 (20.03% of total)\n",
            "\n"
          ]
        }
      ]
    },
    {
      "cell_type": "markdown",
      "source": [
        "###1.2.1 Splitting the data between train, validation and test sets"
      ],
      "metadata": {
        "id": "-Ct_lY04FB53"
      }
    },
    {
      "cell_type": "code",
      "source": [
        "X_train_, X_test, y_train_, y_test = train_test_split(\n",
        "    df_form.index.values,\n",
        "    df_form.Label.values,\n",
        "    test_size=0.10,\n",
        "    random_state=42,\n",
        "    stratify=df_form.Label.values,    \n",
        ")"
      ],
      "metadata": {
        "id": "Pm-ujqYEHXLU"
      },
      "execution_count": 6,
      "outputs": []
    },
    {
      "cell_type": "code",
      "source": [
        "X_train_.shape"
      ],
      "metadata": {
        "colab": {
          "base_uri": "https://localhost:8080/"
        },
        "id": "gZ106DCwHkbB",
        "outputId": "2fc6d20b-1023-4e11-f6f1-34df782e797c"
      },
      "execution_count": 7,
      "outputs": [
        {
          "output_type": "execute_result",
          "data": {
            "text/plain": [
              "(15324,)"
            ]
          },
          "metadata": {},
          "execution_count": 7
        }
      ]
    },
    {
      "cell_type": "code",
      "source": [
        "X_train, X_val, y_train, y_val = train_test_split(\n",
        "    df_form.loc[X_train_].index.values,\n",
        "    df_form.loc[X_train_].Label.values,\n",
        "    test_size=0.10,\n",
        "    random_state=42,\n",
        "    stratify=df_form.loc[X_train_].Label.values,  \n",
        ")"
      ],
      "metadata": {
        "id": "CNVri7DgHXIi"
      },
      "execution_count": 8,
      "outputs": []
    },
    {
      "cell_type": "code",
      "source": [
        "df_form['data_type'] = ['not_set']*df_form.shape[0]\n",
        "df_form.loc[X_train, 'data_type'] = 'train'\n",
        "df_form.loc[X_val, 'data_type'] = 'val'\n",
        "df_form.loc[X_test, 'data_type'] = 'test'"
      ],
      "metadata": {
        "id": "pgqTYMaYHyWa"
      },
      "execution_count": 9,
      "outputs": []
    },
    {
      "cell_type": "code",
      "source": [
        "df_form.groupby(['category', 'Label', 'data_type']).count()"
      ],
      "metadata": {
        "colab": {
          "base_uri": "https://localhost:8080/",
          "height": 269
        },
        "id": "yHj3bQdDH0xi",
        "outputId": "b4a1d3b4-76b4-4fa1-d7d4-559d7ab08924"
      },
      "execution_count": 10,
      "outputs": [
        {
          "output_type": "execute_result",
          "data": {
            "text/plain": [
              "                                  Text  hate_words  Text_clean  \\\n",
              "category        Label data_type                                  \n",
              "hate_speech     1     test         341         341         341   \n",
              "                      train       2763        2763        2763   \n",
              "                      val          307         307         307   \n",
              "non_hate_speech 0     test        1362        1362        1362   \n",
              "                      train      11028       11028       11028   \n",
              "                      val         1226        1226        1226   \n",
              "\n",
              "                                 hate_words_clean  \n",
              "category        Label data_type                    \n",
              "hate_speech     1     test                    336  \n",
              "                      train                  2700  \n",
              "                      val                     299  \n",
              "non_hate_speech 0     test                   1351  \n",
              "                      train                 10941  \n",
              "                      val                    1215  "
            ],
            "text/html": [
              "\n",
              "  <div id=\"df-59b7364a-3cdc-4c3e-9e76-5bd537198560\">\n",
              "    <div class=\"colab-df-container\">\n",
              "      <div>\n",
              "<style scoped>\n",
              "    .dataframe tbody tr th:only-of-type {\n",
              "        vertical-align: middle;\n",
              "    }\n",
              "\n",
              "    .dataframe tbody tr th {\n",
              "        vertical-align: top;\n",
              "    }\n",
              "\n",
              "    .dataframe thead th {\n",
              "        text-align: right;\n",
              "    }\n",
              "</style>\n",
              "<table border=\"1\" class=\"dataframe\">\n",
              "  <thead>\n",
              "    <tr style=\"text-align: right;\">\n",
              "      <th></th>\n",
              "      <th></th>\n",
              "      <th></th>\n",
              "      <th>Text</th>\n",
              "      <th>hate_words</th>\n",
              "      <th>Text_clean</th>\n",
              "      <th>hate_words_clean</th>\n",
              "    </tr>\n",
              "    <tr>\n",
              "      <th>category</th>\n",
              "      <th>Label</th>\n",
              "      <th>data_type</th>\n",
              "      <th></th>\n",
              "      <th></th>\n",
              "      <th></th>\n",
              "      <th></th>\n",
              "    </tr>\n",
              "  </thead>\n",
              "  <tbody>\n",
              "    <tr>\n",
              "      <th rowspan=\"3\" valign=\"top\">hate_speech</th>\n",
              "      <th rowspan=\"3\" valign=\"top\">1</th>\n",
              "      <th>test</th>\n",
              "      <td>341</td>\n",
              "      <td>341</td>\n",
              "      <td>341</td>\n",
              "      <td>336</td>\n",
              "    </tr>\n",
              "    <tr>\n",
              "      <th>train</th>\n",
              "      <td>2763</td>\n",
              "      <td>2763</td>\n",
              "      <td>2763</td>\n",
              "      <td>2700</td>\n",
              "    </tr>\n",
              "    <tr>\n",
              "      <th>val</th>\n",
              "      <td>307</td>\n",
              "      <td>307</td>\n",
              "      <td>307</td>\n",
              "      <td>299</td>\n",
              "    </tr>\n",
              "    <tr>\n",
              "      <th rowspan=\"3\" valign=\"top\">non_hate_speech</th>\n",
              "      <th rowspan=\"3\" valign=\"top\">0</th>\n",
              "      <th>test</th>\n",
              "      <td>1362</td>\n",
              "      <td>1362</td>\n",
              "      <td>1362</td>\n",
              "      <td>1351</td>\n",
              "    </tr>\n",
              "    <tr>\n",
              "      <th>train</th>\n",
              "      <td>11028</td>\n",
              "      <td>11028</td>\n",
              "      <td>11028</td>\n",
              "      <td>10941</td>\n",
              "    </tr>\n",
              "    <tr>\n",
              "      <th>val</th>\n",
              "      <td>1226</td>\n",
              "      <td>1226</td>\n",
              "      <td>1226</td>\n",
              "      <td>1215</td>\n",
              "    </tr>\n",
              "  </tbody>\n",
              "</table>\n",
              "</div>\n",
              "      <button class=\"colab-df-convert\" onclick=\"convertToInteractive('df-59b7364a-3cdc-4c3e-9e76-5bd537198560')\"\n",
              "              title=\"Convert this dataframe to an interactive table.\"\n",
              "              style=\"display:none;\">\n",
              "        \n",
              "  <svg xmlns=\"http://www.w3.org/2000/svg\" height=\"24px\"viewBox=\"0 0 24 24\"\n",
              "       width=\"24px\">\n",
              "    <path d=\"M0 0h24v24H0V0z\" fill=\"none\"/>\n",
              "    <path d=\"M18.56 5.44l.94 2.06.94-2.06 2.06-.94-2.06-.94-.94-2.06-.94 2.06-2.06.94zm-11 1L8.5 8.5l.94-2.06 2.06-.94-2.06-.94L8.5 2.5l-.94 2.06-2.06.94zm10 10l.94 2.06.94-2.06 2.06-.94-2.06-.94-.94-2.06-.94 2.06-2.06.94z\"/><path d=\"M17.41 7.96l-1.37-1.37c-.4-.4-.92-.59-1.43-.59-.52 0-1.04.2-1.43.59L10.3 9.45l-7.72 7.72c-.78.78-.78 2.05 0 2.83L4 21.41c.39.39.9.59 1.41.59.51 0 1.02-.2 1.41-.59l7.78-7.78 2.81-2.81c.8-.78.8-2.07 0-2.86zM5.41 20L4 18.59l7.72-7.72 1.47 1.35L5.41 20z\"/>\n",
              "  </svg>\n",
              "      </button>\n",
              "      \n",
              "  <style>\n",
              "    .colab-df-container {\n",
              "      display:flex;\n",
              "      flex-wrap:wrap;\n",
              "      gap: 12px;\n",
              "    }\n",
              "\n",
              "    .colab-df-convert {\n",
              "      background-color: #E8F0FE;\n",
              "      border: none;\n",
              "      border-radius: 50%;\n",
              "      cursor: pointer;\n",
              "      display: none;\n",
              "      fill: #1967D2;\n",
              "      height: 32px;\n",
              "      padding: 0 0 0 0;\n",
              "      width: 32px;\n",
              "    }\n",
              "\n",
              "    .colab-df-convert:hover {\n",
              "      background-color: #E2EBFA;\n",
              "      box-shadow: 0px 1px 2px rgba(60, 64, 67, 0.3), 0px 1px 3px 1px rgba(60, 64, 67, 0.15);\n",
              "      fill: #174EA6;\n",
              "    }\n",
              "\n",
              "    [theme=dark] .colab-df-convert {\n",
              "      background-color: #3B4455;\n",
              "      fill: #D2E3FC;\n",
              "    }\n",
              "\n",
              "    [theme=dark] .colab-df-convert:hover {\n",
              "      background-color: #434B5C;\n",
              "      box-shadow: 0px 1px 3px 1px rgba(0, 0, 0, 0.15);\n",
              "      filter: drop-shadow(0px 1px 2px rgba(0, 0, 0, 0.3));\n",
              "      fill: #FFFFFF;\n",
              "    }\n",
              "  </style>\n",
              "\n",
              "      <script>\n",
              "        const buttonEl =\n",
              "          document.querySelector('#df-59b7364a-3cdc-4c3e-9e76-5bd537198560 button.colab-df-convert');\n",
              "        buttonEl.style.display =\n",
              "          google.colab.kernel.accessAllowed ? 'block' : 'none';\n",
              "\n",
              "        async function convertToInteractive(key) {\n",
              "          const element = document.querySelector('#df-59b7364a-3cdc-4c3e-9e76-5bd537198560');\n",
              "          const dataTable =\n",
              "            await google.colab.kernel.invokeFunction('convertToInteractive',\n",
              "                                                     [key], {});\n",
              "          if (!dataTable) return;\n",
              "\n",
              "          const docLinkHtml = 'Like what you see? Visit the ' +\n",
              "            '<a target=\"_blank\" href=https://colab.research.google.com/notebooks/data_table.ipynb>data table notebook</a>'\n",
              "            + ' to learn more about interactive tables.';\n",
              "          element.innerHTML = '';\n",
              "          dataTable['output_type'] = 'display_data';\n",
              "          await google.colab.output.renderOutput(dataTable, element);\n",
              "          const docLink = document.createElement('div');\n",
              "          docLink.innerHTML = docLinkHtml;\n",
              "          element.appendChild(docLink);\n",
              "        }\n",
              "      </script>\n",
              "    </div>\n",
              "  </div>\n",
              "  "
            ]
          },
          "metadata": {},
          "execution_count": 10
        }
      ]
    },
    {
      "cell_type": "code",
      "source": [
        "df_train = df_form.loc[df_form[\"data_type\"]==\"train\"]\n",
        "df_train.head(5)"
      ],
      "metadata": {
        "colab": {
          "base_uri": "https://localhost:8080/",
          "height": 302
        },
        "id": "qzGZZHMfH0uD",
        "outputId": "9845a820-28e7-4e1d-8d4f-d4ae11627afe"
      },
      "execution_count": 11,
      "outputs": [
        {
          "output_type": "execute_result",
          "data": {
            "text/plain": [
              "                                                Text hate_words  Label  \\\n",
              "0  Q: what&#039;s your favorite song? :D<br>A: I ...          0      0   \n",
              "1                     Q: <3<br>A: </3 ? haha jk! <33          0      0   \n",
              "2  Q: &quot;hey angel  you duh sexy&quot;<br>A: R...          0      0   \n",
              "3                                     Q: (:<br>A: ;(          0      0   \n",
              "6  Q: Apriiiiiiiiiiiill!!! I miss uuuu! It&#039;s...          0      0   \n",
              "\n",
              "                                          Text_clean hate_words_clean  \\\n",
              "0  q what039s favorite song d a i like many songs...                0   \n",
              "1                                 q 3 a 3 haha jk 33                0   \n",
              "2  q quothey angel duh sexyquot a really thanks haha                0   \n",
              "3                                                q a                0   \n",
              "6  q apriiiiiiiiiiiill i miss uuuu it039s emma bt...                0   \n",
              "\n",
              "          category data_type  \n",
              "0  non_hate_speech     train  \n",
              "1  non_hate_speech     train  \n",
              "2  non_hate_speech     train  \n",
              "3  non_hate_speech     train  \n",
              "6  non_hate_speech     train  "
            ],
            "text/html": [
              "\n",
              "  <div id=\"df-c8003a52-ad5c-4126-b0c3-625354bf086e\">\n",
              "    <div class=\"colab-df-container\">\n",
              "      <div>\n",
              "<style scoped>\n",
              "    .dataframe tbody tr th:only-of-type {\n",
              "        vertical-align: middle;\n",
              "    }\n",
              "\n",
              "    .dataframe tbody tr th {\n",
              "        vertical-align: top;\n",
              "    }\n",
              "\n",
              "    .dataframe thead th {\n",
              "        text-align: right;\n",
              "    }\n",
              "</style>\n",
              "<table border=\"1\" class=\"dataframe\">\n",
              "  <thead>\n",
              "    <tr style=\"text-align: right;\">\n",
              "      <th></th>\n",
              "      <th>Text</th>\n",
              "      <th>hate_words</th>\n",
              "      <th>Label</th>\n",
              "      <th>Text_clean</th>\n",
              "      <th>hate_words_clean</th>\n",
              "      <th>category</th>\n",
              "      <th>data_type</th>\n",
              "    </tr>\n",
              "  </thead>\n",
              "  <tbody>\n",
              "    <tr>\n",
              "      <th>0</th>\n",
              "      <td>Q: what&amp;#039;s your favorite song? :D&lt;br&gt;A: I ...</td>\n",
              "      <td>0</td>\n",
              "      <td>0</td>\n",
              "      <td>q what039s favorite song d a i like many songs...</td>\n",
              "      <td>0</td>\n",
              "      <td>non_hate_speech</td>\n",
              "      <td>train</td>\n",
              "    </tr>\n",
              "    <tr>\n",
              "      <th>1</th>\n",
              "      <td>Q: &lt;3&lt;br&gt;A: &lt;/3 ? haha jk! &lt;33</td>\n",
              "      <td>0</td>\n",
              "      <td>0</td>\n",
              "      <td>q 3 a 3 haha jk 33</td>\n",
              "      <td>0</td>\n",
              "      <td>non_hate_speech</td>\n",
              "      <td>train</td>\n",
              "    </tr>\n",
              "    <tr>\n",
              "      <th>2</th>\n",
              "      <td>Q: &amp;quot;hey angel  you duh sexy&amp;quot;&lt;br&gt;A: R...</td>\n",
              "      <td>0</td>\n",
              "      <td>0</td>\n",
              "      <td>q quothey angel duh sexyquot a really thanks haha</td>\n",
              "      <td>0</td>\n",
              "      <td>non_hate_speech</td>\n",
              "      <td>train</td>\n",
              "    </tr>\n",
              "    <tr>\n",
              "      <th>3</th>\n",
              "      <td>Q: (:&lt;br&gt;A: ;(</td>\n",
              "      <td>0</td>\n",
              "      <td>0</td>\n",
              "      <td>q a</td>\n",
              "      <td>0</td>\n",
              "      <td>non_hate_speech</td>\n",
              "      <td>train</td>\n",
              "    </tr>\n",
              "    <tr>\n",
              "      <th>6</th>\n",
              "      <td>Q: Apriiiiiiiiiiiill!!! I miss uuuu! It&amp;#039;s...</td>\n",
              "      <td>0</td>\n",
              "      <td>0</td>\n",
              "      <td>q apriiiiiiiiiiiill i miss uuuu it039s emma bt...</td>\n",
              "      <td>0</td>\n",
              "      <td>non_hate_speech</td>\n",
              "      <td>train</td>\n",
              "    </tr>\n",
              "  </tbody>\n",
              "</table>\n",
              "</div>\n",
              "      <button class=\"colab-df-convert\" onclick=\"convertToInteractive('df-c8003a52-ad5c-4126-b0c3-625354bf086e')\"\n",
              "              title=\"Convert this dataframe to an interactive table.\"\n",
              "              style=\"display:none;\">\n",
              "        \n",
              "  <svg xmlns=\"http://www.w3.org/2000/svg\" height=\"24px\"viewBox=\"0 0 24 24\"\n",
              "       width=\"24px\">\n",
              "    <path d=\"M0 0h24v24H0V0z\" fill=\"none\"/>\n",
              "    <path d=\"M18.56 5.44l.94 2.06.94-2.06 2.06-.94-2.06-.94-.94-2.06-.94 2.06-2.06.94zm-11 1L8.5 8.5l.94-2.06 2.06-.94-2.06-.94L8.5 2.5l-.94 2.06-2.06.94zm10 10l.94 2.06.94-2.06 2.06-.94-2.06-.94-.94-2.06-.94 2.06-2.06.94z\"/><path d=\"M17.41 7.96l-1.37-1.37c-.4-.4-.92-.59-1.43-.59-.52 0-1.04.2-1.43.59L10.3 9.45l-7.72 7.72c-.78.78-.78 2.05 0 2.83L4 21.41c.39.39.9.59 1.41.59.51 0 1.02-.2 1.41-.59l7.78-7.78 2.81-2.81c.8-.78.8-2.07 0-2.86zM5.41 20L4 18.59l7.72-7.72 1.47 1.35L5.41 20z\"/>\n",
              "  </svg>\n",
              "      </button>\n",
              "      \n",
              "  <style>\n",
              "    .colab-df-container {\n",
              "      display:flex;\n",
              "      flex-wrap:wrap;\n",
              "      gap: 12px;\n",
              "    }\n",
              "\n",
              "    .colab-df-convert {\n",
              "      background-color: #E8F0FE;\n",
              "      border: none;\n",
              "      border-radius: 50%;\n",
              "      cursor: pointer;\n",
              "      display: none;\n",
              "      fill: #1967D2;\n",
              "      height: 32px;\n",
              "      padding: 0 0 0 0;\n",
              "      width: 32px;\n",
              "    }\n",
              "\n",
              "    .colab-df-convert:hover {\n",
              "      background-color: #E2EBFA;\n",
              "      box-shadow: 0px 1px 2px rgba(60, 64, 67, 0.3), 0px 1px 3px 1px rgba(60, 64, 67, 0.15);\n",
              "      fill: #174EA6;\n",
              "    }\n",
              "\n",
              "    [theme=dark] .colab-df-convert {\n",
              "      background-color: #3B4455;\n",
              "      fill: #D2E3FC;\n",
              "    }\n",
              "\n",
              "    [theme=dark] .colab-df-convert:hover {\n",
              "      background-color: #434B5C;\n",
              "      box-shadow: 0px 1px 3px 1px rgba(0, 0, 0, 0.15);\n",
              "      filter: drop-shadow(0px 1px 2px rgba(0, 0, 0, 0.3));\n",
              "      fill: #FFFFFF;\n",
              "    }\n",
              "  </style>\n",
              "\n",
              "      <script>\n",
              "        const buttonEl =\n",
              "          document.querySelector('#df-c8003a52-ad5c-4126-b0c3-625354bf086e button.colab-df-convert');\n",
              "        buttonEl.style.display =\n",
              "          google.colab.kernel.accessAllowed ? 'block' : 'none';\n",
              "\n",
              "        async function convertToInteractive(key) {\n",
              "          const element = document.querySelector('#df-c8003a52-ad5c-4126-b0c3-625354bf086e');\n",
              "          const dataTable =\n",
              "            await google.colab.kernel.invokeFunction('convertToInteractive',\n",
              "                                                     [key], {});\n",
              "          if (!dataTable) return;\n",
              "\n",
              "          const docLinkHtml = 'Like what you see? Visit the ' +\n",
              "            '<a target=\"_blank\" href=https://colab.research.google.com/notebooks/data_table.ipynb>data table notebook</a>'\n",
              "            + ' to learn more about interactive tables.';\n",
              "          element.innerHTML = '';\n",
              "          dataTable['output_type'] = 'display_data';\n",
              "          await google.colab.output.renderOutput(dataTable, element);\n",
              "          const docLink = document.createElement('div');\n",
              "          docLink.innerHTML = docLinkHtml;\n",
              "          element.appendChild(docLink);\n",
              "        }\n",
              "      </script>\n",
              "    </div>\n",
              "  </div>\n",
              "  "
            ]
          },
          "metadata": {},
          "execution_count": 11
        }
      ]
    },
    {
      "cell_type": "code",
      "source": [
        "df_val = df_form.loc[df_form[\"data_type\"]==\"val\"]\n",
        "df_val.head(5)"
      ],
      "metadata": {
        "colab": {
          "base_uri": "https://localhost:8080/",
          "height": 337
        },
        "id": "T8XlVJMTH0rB",
        "outputId": "619caf0d-ce29-430d-bbf0-e76d6b394c1d"
      },
      "execution_count": 12,
      "outputs": [
        {
          "output_type": "execute_result",
          "data": {
            "text/plain": [
              "                                                  Text hate_words  Label  \\\n",
              "60   Q: have you ever been on itellyouthat.com? go ...          0      0   \n",
              "75   Q: heyyyyyy!!! how u doin!!!!!<br>A: Im doing ...          0      0   \n",
              "83   Q: i love youu chica!<33<br>A: NO no no! I Lov...          0      0   \n",
              "106  Q: If you could make one person fall in love w...          0      0   \n",
              "112  Q: If you had to cook dinner for someone tonig...          0      0   \n",
              "\n",
              "                                            Text_clean hate_words_clean  \\\n",
              "60   q ever itellyouthat com go tell something worl...                0   \n",
              "75      q heyyyyyy u doin a im good thankyuh heyyy hbu                0   \n",
              "83   q love youu chica 33 a no i love youuu moreee3...                0   \n",
              "106  q if could make one person fall love would a m...                0   \n",
              "112  q if cook dinner someone tonight would make a ...                0   \n",
              "\n",
              "            category data_type  \n",
              "60   non_hate_speech       val  \n",
              "75   non_hate_speech       val  \n",
              "83   non_hate_speech       val  \n",
              "106  non_hate_speech       val  \n",
              "112  non_hate_speech       val  "
            ],
            "text/html": [
              "\n",
              "  <div id=\"df-41ce0ec7-04cc-4168-a2bf-e342e5ffba18\">\n",
              "    <div class=\"colab-df-container\">\n",
              "      <div>\n",
              "<style scoped>\n",
              "    .dataframe tbody tr th:only-of-type {\n",
              "        vertical-align: middle;\n",
              "    }\n",
              "\n",
              "    .dataframe tbody tr th {\n",
              "        vertical-align: top;\n",
              "    }\n",
              "\n",
              "    .dataframe thead th {\n",
              "        text-align: right;\n",
              "    }\n",
              "</style>\n",
              "<table border=\"1\" class=\"dataframe\">\n",
              "  <thead>\n",
              "    <tr style=\"text-align: right;\">\n",
              "      <th></th>\n",
              "      <th>Text</th>\n",
              "      <th>hate_words</th>\n",
              "      <th>Label</th>\n",
              "      <th>Text_clean</th>\n",
              "      <th>hate_words_clean</th>\n",
              "      <th>category</th>\n",
              "      <th>data_type</th>\n",
              "    </tr>\n",
              "  </thead>\n",
              "  <tbody>\n",
              "    <tr>\n",
              "      <th>60</th>\n",
              "      <td>Q: have you ever been on itellyouthat.com? go ...</td>\n",
              "      <td>0</td>\n",
              "      <td>0</td>\n",
              "      <td>q ever itellyouthat com go tell something worl...</td>\n",
              "      <td>0</td>\n",
              "      <td>non_hate_speech</td>\n",
              "      <td>val</td>\n",
              "    </tr>\n",
              "    <tr>\n",
              "      <th>75</th>\n",
              "      <td>Q: heyyyyyy!!! how u doin!!!!!&lt;br&gt;A: Im doing ...</td>\n",
              "      <td>0</td>\n",
              "      <td>0</td>\n",
              "      <td>q heyyyyyy u doin a im good thankyuh heyyy hbu</td>\n",
              "      <td>0</td>\n",
              "      <td>non_hate_speech</td>\n",
              "      <td>val</td>\n",
              "    </tr>\n",
              "    <tr>\n",
              "      <th>83</th>\n",
              "      <td>Q: i love youu chica!&lt;33&lt;br&gt;A: NO no no! I Lov...</td>\n",
              "      <td>0</td>\n",
              "      <td>0</td>\n",
              "      <td>q love youu chica 33 a no i love youuu moreee3...</td>\n",
              "      <td>0</td>\n",
              "      <td>non_hate_speech</td>\n",
              "      <td>val</td>\n",
              "    </tr>\n",
              "    <tr>\n",
              "      <th>106</th>\n",
              "      <td>Q: If you could make one person fall in love w...</td>\n",
              "      <td>0</td>\n",
              "      <td>0</td>\n",
              "      <td>q if could make one person fall love would a m...</td>\n",
              "      <td>0</td>\n",
              "      <td>non_hate_speech</td>\n",
              "      <td>val</td>\n",
              "    </tr>\n",
              "    <tr>\n",
              "      <th>112</th>\n",
              "      <td>Q: If you had to cook dinner for someone tonig...</td>\n",
              "      <td>0</td>\n",
              "      <td>0</td>\n",
              "      <td>q if cook dinner someone tonight would make a ...</td>\n",
              "      <td>0</td>\n",
              "      <td>non_hate_speech</td>\n",
              "      <td>val</td>\n",
              "    </tr>\n",
              "  </tbody>\n",
              "</table>\n",
              "</div>\n",
              "      <button class=\"colab-df-convert\" onclick=\"convertToInteractive('df-41ce0ec7-04cc-4168-a2bf-e342e5ffba18')\"\n",
              "              title=\"Convert this dataframe to an interactive table.\"\n",
              "              style=\"display:none;\">\n",
              "        \n",
              "  <svg xmlns=\"http://www.w3.org/2000/svg\" height=\"24px\"viewBox=\"0 0 24 24\"\n",
              "       width=\"24px\">\n",
              "    <path d=\"M0 0h24v24H0V0z\" fill=\"none\"/>\n",
              "    <path d=\"M18.56 5.44l.94 2.06.94-2.06 2.06-.94-2.06-.94-.94-2.06-.94 2.06-2.06.94zm-11 1L8.5 8.5l.94-2.06 2.06-.94-2.06-.94L8.5 2.5l-.94 2.06-2.06.94zm10 10l.94 2.06.94-2.06 2.06-.94-2.06-.94-.94-2.06-.94 2.06-2.06.94z\"/><path d=\"M17.41 7.96l-1.37-1.37c-.4-.4-.92-.59-1.43-.59-.52 0-1.04.2-1.43.59L10.3 9.45l-7.72 7.72c-.78.78-.78 2.05 0 2.83L4 21.41c.39.39.9.59 1.41.59.51 0 1.02-.2 1.41-.59l7.78-7.78 2.81-2.81c.8-.78.8-2.07 0-2.86zM5.41 20L4 18.59l7.72-7.72 1.47 1.35L5.41 20z\"/>\n",
              "  </svg>\n",
              "      </button>\n",
              "      \n",
              "  <style>\n",
              "    .colab-df-container {\n",
              "      display:flex;\n",
              "      flex-wrap:wrap;\n",
              "      gap: 12px;\n",
              "    }\n",
              "\n",
              "    .colab-df-convert {\n",
              "      background-color: #E8F0FE;\n",
              "      border: none;\n",
              "      border-radius: 50%;\n",
              "      cursor: pointer;\n",
              "      display: none;\n",
              "      fill: #1967D2;\n",
              "      height: 32px;\n",
              "      padding: 0 0 0 0;\n",
              "      width: 32px;\n",
              "    }\n",
              "\n",
              "    .colab-df-convert:hover {\n",
              "      background-color: #E2EBFA;\n",
              "      box-shadow: 0px 1px 2px rgba(60, 64, 67, 0.3), 0px 1px 3px 1px rgba(60, 64, 67, 0.15);\n",
              "      fill: #174EA6;\n",
              "    }\n",
              "\n",
              "    [theme=dark] .colab-df-convert {\n",
              "      background-color: #3B4455;\n",
              "      fill: #D2E3FC;\n",
              "    }\n",
              "\n",
              "    [theme=dark] .colab-df-convert:hover {\n",
              "      background-color: #434B5C;\n",
              "      box-shadow: 0px 1px 3px 1px rgba(0, 0, 0, 0.15);\n",
              "      filter: drop-shadow(0px 1px 2px rgba(0, 0, 0, 0.3));\n",
              "      fill: #FFFFFF;\n",
              "    }\n",
              "  </style>\n",
              "\n",
              "      <script>\n",
              "        const buttonEl =\n",
              "          document.querySelector('#df-41ce0ec7-04cc-4168-a2bf-e342e5ffba18 button.colab-df-convert');\n",
              "        buttonEl.style.display =\n",
              "          google.colab.kernel.accessAllowed ? 'block' : 'none';\n",
              "\n",
              "        async function convertToInteractive(key) {\n",
              "          const element = document.querySelector('#df-41ce0ec7-04cc-4168-a2bf-e342e5ffba18');\n",
              "          const dataTable =\n",
              "            await google.colab.kernel.invokeFunction('convertToInteractive',\n",
              "                                                     [key], {});\n",
              "          if (!dataTable) return;\n",
              "\n",
              "          const docLinkHtml = 'Like what you see? Visit the ' +\n",
              "            '<a target=\"_blank\" href=https://colab.research.google.com/notebooks/data_table.ipynb>data table notebook</a>'\n",
              "            + ' to learn more about interactive tables.';\n",
              "          element.innerHTML = '';\n",
              "          dataTable['output_type'] = 'display_data';\n",
              "          await google.colab.output.renderOutput(dataTable, element);\n",
              "          const docLink = document.createElement('div');\n",
              "          docLink.innerHTML = docLinkHtml;\n",
              "          element.appendChild(docLink);\n",
              "        }\n",
              "      </script>\n",
              "    </div>\n",
              "  </div>\n",
              "  "
            ]
          },
          "metadata": {},
          "execution_count": 12
        }
      ]
    },
    {
      "cell_type": "code",
      "source": [
        "df_test = df_form.loc[df_form[\"data_type\"]==\"test\"]\n",
        "df_test.head(5)"
      ],
      "metadata": {
        "colab": {
          "base_uri": "https://localhost:8080/",
          "height": 458
        },
        "id": "uVJtG7pYH0oN",
        "outputId": "9be9243e-52d6-4ad9-f4e1-77ebbc7d6b10"
      },
      "execution_count": 13,
      "outputs": [
        {
          "output_type": "execute_result",
          "data": {
            "text/plain": [
              "                                                 Text  \\\n",
              "4   Q: ******************MEOWWW*******************...   \n",
              "5   Q: any makeup tips? i suck at doing my makeup ...   \n",
              "9   Q: are you a trusting person?<br>A: Yes veryy ...   \n",
              "17  Q: Bitch u thee bomb like Tick TICK!<br>A: Hah...   \n",
              "64  Q: Hello bitch! How&#039;s ur day going? Good ...   \n",
              "\n",
              "                          hate_words  Label  \\\n",
              "4                                  0      0   \n",
              "5                                  0      0   \n",
              "9                                  0      0   \n",
              "17  Bitch u thee bomb like Tick TICK      1   \n",
              "64                                 0      0   \n",
              "\n",
              "                                           Text_clean  \\\n",
              "4                                     q meowww a rawr   \n",
              "5   q makeup tips suck makeup lol a sure like tell...   \n",
              "9   q trusting person a yes veryy trustin person m...   \n",
              "17  q bitch u thee bomb like tick tick a hahah thanks   \n",
              "64  q hello bitch how039s ur day going good i hope...   \n",
              "\n",
              "                    hate_words_clean         category data_type  \n",
              "4                                  0  non_hate_speech      test  \n",
              "5                                  0  non_hate_speech      test  \n",
              "9                                  0  non_hate_speech      test  \n",
              "17  bitch u thee bomb like tick tick      hate_speech      test  \n",
              "64                                 0  non_hate_speech      test  "
            ],
            "text/html": [
              "\n",
              "  <div id=\"df-b838e657-4867-49fc-a3f9-cd1150b23106\">\n",
              "    <div class=\"colab-df-container\">\n",
              "      <div>\n",
              "<style scoped>\n",
              "    .dataframe tbody tr th:only-of-type {\n",
              "        vertical-align: middle;\n",
              "    }\n",
              "\n",
              "    .dataframe tbody tr th {\n",
              "        vertical-align: top;\n",
              "    }\n",
              "\n",
              "    .dataframe thead th {\n",
              "        text-align: right;\n",
              "    }\n",
              "</style>\n",
              "<table border=\"1\" class=\"dataframe\">\n",
              "  <thead>\n",
              "    <tr style=\"text-align: right;\">\n",
              "      <th></th>\n",
              "      <th>Text</th>\n",
              "      <th>hate_words</th>\n",
              "      <th>Label</th>\n",
              "      <th>Text_clean</th>\n",
              "      <th>hate_words_clean</th>\n",
              "      <th>category</th>\n",
              "      <th>data_type</th>\n",
              "    </tr>\n",
              "  </thead>\n",
              "  <tbody>\n",
              "    <tr>\n",
              "      <th>4</th>\n",
              "      <td>Q: ******************MEOWWW*******************...</td>\n",
              "      <td>0</td>\n",
              "      <td>0</td>\n",
              "      <td>q meowww a rawr</td>\n",
              "      <td>0</td>\n",
              "      <td>non_hate_speech</td>\n",
              "      <td>test</td>\n",
              "    </tr>\n",
              "    <tr>\n",
              "      <th>5</th>\n",
              "      <td>Q: any makeup tips? i suck at doing my makeup ...</td>\n",
              "      <td>0</td>\n",
              "      <td>0</td>\n",
              "      <td>q makeup tips suck makeup lol a sure like tell...</td>\n",
              "      <td>0</td>\n",
              "      <td>non_hate_speech</td>\n",
              "      <td>test</td>\n",
              "    </tr>\n",
              "    <tr>\n",
              "      <th>9</th>\n",
              "      <td>Q: are you a trusting person?&lt;br&gt;A: Yes veryy ...</td>\n",
              "      <td>0</td>\n",
              "      <td>0</td>\n",
              "      <td>q trusting person a yes veryy trustin person m...</td>\n",
              "      <td>0</td>\n",
              "      <td>non_hate_speech</td>\n",
              "      <td>test</td>\n",
              "    </tr>\n",
              "    <tr>\n",
              "      <th>17</th>\n",
              "      <td>Q: Bitch u thee bomb like Tick TICK!&lt;br&gt;A: Hah...</td>\n",
              "      <td>Bitch u thee bomb like Tick TICK</td>\n",
              "      <td>1</td>\n",
              "      <td>q bitch u thee bomb like tick tick a hahah thanks</td>\n",
              "      <td>bitch u thee bomb like tick tick</td>\n",
              "      <td>hate_speech</td>\n",
              "      <td>test</td>\n",
              "    </tr>\n",
              "    <tr>\n",
              "      <th>64</th>\n",
              "      <td>Q: Hello bitch! How&amp;#039;s ur day going? Good ...</td>\n",
              "      <td>0</td>\n",
              "      <td>0</td>\n",
              "      <td>q hello bitch how039s ur day going good i hope...</td>\n",
              "      <td>0</td>\n",
              "      <td>non_hate_speech</td>\n",
              "      <td>test</td>\n",
              "    </tr>\n",
              "  </tbody>\n",
              "</table>\n",
              "</div>\n",
              "      <button class=\"colab-df-convert\" onclick=\"convertToInteractive('df-b838e657-4867-49fc-a3f9-cd1150b23106')\"\n",
              "              title=\"Convert this dataframe to an interactive table.\"\n",
              "              style=\"display:none;\">\n",
              "        \n",
              "  <svg xmlns=\"http://www.w3.org/2000/svg\" height=\"24px\"viewBox=\"0 0 24 24\"\n",
              "       width=\"24px\">\n",
              "    <path d=\"M0 0h24v24H0V0z\" fill=\"none\"/>\n",
              "    <path d=\"M18.56 5.44l.94 2.06.94-2.06 2.06-.94-2.06-.94-.94-2.06-.94 2.06-2.06.94zm-11 1L8.5 8.5l.94-2.06 2.06-.94-2.06-.94L8.5 2.5l-.94 2.06-2.06.94zm10 10l.94 2.06.94-2.06 2.06-.94-2.06-.94-.94-2.06-.94 2.06-2.06.94z\"/><path d=\"M17.41 7.96l-1.37-1.37c-.4-.4-.92-.59-1.43-.59-.52 0-1.04.2-1.43.59L10.3 9.45l-7.72 7.72c-.78.78-.78 2.05 0 2.83L4 21.41c.39.39.9.59 1.41.59.51 0 1.02-.2 1.41-.59l7.78-7.78 2.81-2.81c.8-.78.8-2.07 0-2.86zM5.41 20L4 18.59l7.72-7.72 1.47 1.35L5.41 20z\"/>\n",
              "  </svg>\n",
              "      </button>\n",
              "      \n",
              "  <style>\n",
              "    .colab-df-container {\n",
              "      display:flex;\n",
              "      flex-wrap:wrap;\n",
              "      gap: 12px;\n",
              "    }\n",
              "\n",
              "    .colab-df-convert {\n",
              "      background-color: #E8F0FE;\n",
              "      border: none;\n",
              "      border-radius: 50%;\n",
              "      cursor: pointer;\n",
              "      display: none;\n",
              "      fill: #1967D2;\n",
              "      height: 32px;\n",
              "      padding: 0 0 0 0;\n",
              "      width: 32px;\n",
              "    }\n",
              "\n",
              "    .colab-df-convert:hover {\n",
              "      background-color: #E2EBFA;\n",
              "      box-shadow: 0px 1px 2px rgba(60, 64, 67, 0.3), 0px 1px 3px 1px rgba(60, 64, 67, 0.15);\n",
              "      fill: #174EA6;\n",
              "    }\n",
              "\n",
              "    [theme=dark] .colab-df-convert {\n",
              "      background-color: #3B4455;\n",
              "      fill: #D2E3FC;\n",
              "    }\n",
              "\n",
              "    [theme=dark] .colab-df-convert:hover {\n",
              "      background-color: #434B5C;\n",
              "      box-shadow: 0px 1px 3px 1px rgba(0, 0, 0, 0.15);\n",
              "      filter: drop-shadow(0px 1px 2px rgba(0, 0, 0, 0.3));\n",
              "      fill: #FFFFFF;\n",
              "    }\n",
              "  </style>\n",
              "\n",
              "      <script>\n",
              "        const buttonEl =\n",
              "          document.querySelector('#df-b838e657-4867-49fc-a3f9-cd1150b23106 button.colab-df-convert');\n",
              "        buttonEl.style.display =\n",
              "          google.colab.kernel.accessAllowed ? 'block' : 'none';\n",
              "\n",
              "        async function convertToInteractive(key) {\n",
              "          const element = document.querySelector('#df-b838e657-4867-49fc-a3f9-cd1150b23106');\n",
              "          const dataTable =\n",
              "            await google.colab.kernel.invokeFunction('convertToInteractive',\n",
              "                                                     [key], {});\n",
              "          if (!dataTable) return;\n",
              "\n",
              "          const docLinkHtml = 'Like what you see? Visit the ' +\n",
              "            '<a target=\"_blank\" href=https://colab.research.google.com/notebooks/data_table.ipynb>data table notebook</a>'\n",
              "            + ' to learn more about interactive tables.';\n",
              "          element.innerHTML = '';\n",
              "          dataTable['output_type'] = 'display_data';\n",
              "          await google.colab.output.renderOutput(dataTable, element);\n",
              "          const docLink = document.createElement('div');\n",
              "          docLink.innerHTML = docLinkHtml;\n",
              "          element.appendChild(docLink);\n",
              "        }\n",
              "      </script>\n",
              "    </div>\n",
              "  </div>\n",
              "  "
            ]
          },
          "metadata": {},
          "execution_count": 13
        }
      ]
    },
    {
      "cell_type": "markdown",
      "source": [
        "##1.3 GLOVE embeddings pre-processing"
      ],
      "metadata": {
        "id": "L-8E3B98FOuA"
      }
    },
    {
      "cell_type": "code",
      "source": [
        "def readGloveFile(gloveFile):\n",
        "    with open(gloveFile, 'r') as f:\n",
        "        wordToGlove = {}  \n",
        "        wordToIndex = {}  \n",
        "        indexToWord = {}  \n",
        "\n",
        "        for line in f:\n",
        "            record = line.strip().split()\n",
        "            token = record[0] \n",
        "            wordToGlove[token] = np.array(record[1:], dtype=np.float64) \n",
        "            \n",
        "        tokens = sorted(wordToGlove.keys())\n",
        "        for idx, tok in enumerate(tokens):\n",
        "            kerasIdx = idx + 1  \n",
        "            wordToIndex[tok] = kerasIdx \n",
        "            indexToWord[kerasIdx] = tok \n",
        "\n",
        "    return wordToIndex, indexToWord, wordToGlove"
      ],
      "metadata": {
        "id": "ee5DwBPINPQ2"
      },
      "execution_count": 14,
      "outputs": []
    },
    {
      "cell_type": "code",
      "source": [
        "from keras.initializers import Constant\n",
        "\n",
        "def createPretrainedEmbeddingLayer(wordToGlove, wordToIndex, isTrainable):\n",
        "    vocabLen = len(wordToIndex) + 1  \n",
        "    embDim = next(iter(wordToGlove.values())).shape[0]  \n",
        "   \n",
        "    embeddingMatrix = np.zeros((vocabLen, embDim))  \n",
        "    for word, index in wordToIndex.items():\n",
        "        embeddingMatrix[index, :] = wordToGlove[word] \n",
        "\n",
        "    embeddingLayer = Embedding(vocabLen, embDim, embeddings_initializer=Constant(embeddingMatrix), trainable=isTrainable, name='GloVe_Embeddings')\n",
        "    return embeddingLayer"
      ],
      "metadata": {
        "id": "TOrt96RDNPOT"
      },
      "execution_count": 15,
      "outputs": []
    },
    {
      "cell_type": "code",
      "source": [
        "!wget http://nlp.stanford.edu/data/glove.6B.zip\n",
        "!unzip '/content/glove.6B.zip'"
      ],
      "metadata": {
        "colab": {
          "base_uri": "https://localhost:8080/"
        },
        "id": "MEtT6o6dNPLr",
        "outputId": "f85a9676-9fc5-4b80-f635-457def9f63a0"
      },
      "execution_count": 16,
      "outputs": [
        {
          "output_type": "stream",
          "name": "stdout",
          "text": [
            "--2022-08-14 15:14:27--  http://nlp.stanford.edu/data/glove.6B.zip\n",
            "Resolving nlp.stanford.edu (nlp.stanford.edu)... 171.64.67.140\n",
            "Connecting to nlp.stanford.edu (nlp.stanford.edu)|171.64.67.140|:80... connected.\n",
            "HTTP request sent, awaiting response... 302 Found\n",
            "Location: https://nlp.stanford.edu/data/glove.6B.zip [following]\n",
            "--2022-08-14 15:14:27--  https://nlp.stanford.edu/data/glove.6B.zip\n",
            "Connecting to nlp.stanford.edu (nlp.stanford.edu)|171.64.67.140|:443... connected.\n",
            "HTTP request sent, awaiting response... 301 Moved Permanently\n",
            "Location: https://downloads.cs.stanford.edu/nlp/data/glove.6B.zip [following]\n",
            "--2022-08-14 15:14:27--  https://downloads.cs.stanford.edu/nlp/data/glove.6B.zip\n",
            "Resolving downloads.cs.stanford.edu (downloads.cs.stanford.edu)... 171.64.64.22\n",
            "Connecting to downloads.cs.stanford.edu (downloads.cs.stanford.edu)|171.64.64.22|:443... connected.\n",
            "HTTP request sent, awaiting response... 200 OK\n",
            "Length: 862182613 (822M) [application/zip]\n",
            "Saving to: ‘glove.6B.zip’\n",
            "\n",
            "glove.6B.zip        100%[===================>] 822.24M  5.02MB/s    in 2m 39s  \n",
            "\n",
            "2022-08-14 15:17:06 (5.18 MB/s) - ‘glove.6B.zip’ saved [862182613/862182613]\n",
            "\n",
            "Archive:  /content/glove.6B.zip\n",
            "  inflating: glove.6B.50d.txt        \n",
            "  inflating: glove.6B.100d.txt       \n",
            "  inflating: glove.6B.200d.txt       \n",
            "  inflating: glove.6B.300d.txt       \n"
          ]
        }
      ]
    },
    {
      "cell_type": "code",
      "source": [
        "wordToIndex,indexToWord,wordToGlove=readGloveFile('/content/glove.6B.300d.txt')\n",
        "EMBED_SIZE = next(iter(wordToGlove.values())).shape[0]\n",
        "print('Size of Embedding: ',EMBED_SIZE)"
      ],
      "metadata": {
        "colab": {
          "base_uri": "https://localhost:8080/"
        },
        "id": "ITOst2N9NPJH",
        "outputId": "5418ec04-fb73-435d-f460-b1d37683e784"
      },
      "execution_count": 17,
      "outputs": [
        {
          "output_type": "stream",
          "name": "stdout",
          "text": [
            "Size of Embedding:  300\n"
          ]
        }
      ]
    },
    {
      "cell_type": "code",
      "source": [
        "len(wordToIndex)"
      ],
      "metadata": {
        "colab": {
          "base_uri": "https://localhost:8080/"
        },
        "id": "tpYNVDXTNPGe",
        "outputId": "8686fd09-f28b-4fe5-c12f-60fc9926c4c5"
      },
      "execution_count": 18,
      "outputs": [
        {
          "output_type": "execute_result",
          "data": {
            "text/plain": [
              "400000"
            ]
          },
          "metadata": {},
          "execution_count": 18
        }
      ]
    },
    {
      "cell_type": "code",
      "source": [
        "wordToIndex_new = {\"<PAD>\": 0,\"<START>\": 1,\"<UNK>\":2,\"<EOS>\":3 }\n",
        "wordToIndex_new.update(wordToIndex)"
      ],
      "metadata": {
        "id": "Ahj_OUBOTAm2"
      },
      "execution_count": 19,
      "outputs": []
    },
    {
      "cell_type": "code",
      "source": [
        "print(wordToIndex[\"you\"])\n",
        "print(indexToWord[394475])"
      ],
      "metadata": {
        "colab": {
          "base_uri": "https://localhost:8080/"
        },
        "id": "Nik19rqgNPDv",
        "outputId": "3b7c217e-eb07-4c3b-9d77-f67487fd8dc5"
      },
      "execution_count": 20,
      "outputs": [
        {
          "output_type": "stream",
          "name": "stdout",
          "text": [
            "394475\n",
            "you\n"
          ]
        }
      ]
    },
    {
      "cell_type": "code",
      "source": [
        "import copy\n",
        "def glove_data(data,data2):\n",
        "  X_data_glove=[]\n",
        "  X_data_glove_2=[]\n",
        "  i=0\n",
        "  for i in range(len(data)):\n",
        "    X_data_glove.append(tf.keras.preprocessing.text.text_to_word_sequence(data[i]))\n",
        "\n",
        "  for i in range(len(data2)):\n",
        "    X_data_glove_2.append(tf.keras.preprocessing.text.text_to_word_sequence(data2[i]))\n",
        "\n",
        "  X_data_glove_int= copy.deepcopy(X_data_glove)\n",
        "\n",
        "  for list1 in X_data_glove_int:\n",
        "    for i in list1:\n",
        "      if i in wordToIndex_new.keys():\n",
        "        index = list1.index(i)\n",
        "        list1[index]=wordToIndex_new.get(i) \n",
        "      else:\n",
        "        index = list1.index(i) #get the index of each word\n",
        "        list1[index]='<UNK>'#if not in wordToIndex_new replace it with <UNK>\n",
        "        list1[index]=wordToIndex_new.get(list1[index])  #replace each word with integer present in wordToIndex_new dictionary\n",
        "\n",
        "\n",
        "\n",
        "  X_data2_glove_int= copy.deepcopy(X_data_glove_2) \n",
        "\n",
        "  for list1 in X_data2_glove_int:\n",
        "    for i in list1:\n",
        "      if i in wordToIndex_new.keys():\n",
        "        index = list1.index(i)\n",
        "        list1[index]=wordToIndex_new.get(i) \n",
        "      else:\n",
        "        index = list1.index(i)\n",
        "        list1[index]='<UNK>'\n",
        "        list1[index]=wordToIndex_new.get(list1[index])  \n",
        "\n",
        "  return (X_data_glove_int,X_data2_glove_int)\n"
      ],
      "metadata": {
        "id": "F1FYrgtLO79M"
      },
      "execution_count": 21,
      "outputs": []
    },
    {
      "cell_type": "code",
      "source": [
        "df_train_text_list=list(df_train['Text'])\n",
        "df_train_hate_list=list(df_train['hate_words'])"
      ],
      "metadata": {
        "id": "TVYrQ8zjRPMY"
      },
      "execution_count": 22,
      "outputs": []
    },
    {
      "cell_type": "code",
      "source": [
        "df_test_text_list=list(df_test['Text'])\n",
        "df_test_hate_list=list(df_test['hate_words'])\n",
        "\n",
        "df_val_text_list=list(df_val['Text'])\n",
        "df_val_hate_list=list(df_val['hate_words'])"
      ],
      "metadata": {
        "id": "RCAa_1gUR5g1"
      },
      "execution_count": 23,
      "outputs": []
    },
    {
      "cell_type": "code",
      "source": [
        "x_train_glove,x_train_glove_2=glove_data(df_train_text_list,df_train_hate_list)\n",
        "x_test_glove,x_test_glove_2=glove_data(df_test_text_list,df_test_hate_list)\n",
        "x_val_glove,x_val_glove_2=glove_data(df_val_text_list,df_val_hate_list)"
      ],
      "metadata": {
        "id": "WYpigzigNO-q"
      },
      "execution_count": 24,
      "outputs": []
    },
    {
      "cell_type": "code",
      "source": [
        "import keras\n",
        "x_train_pad_glove = keras.preprocessing.sequence.pad_sequences(x_train_glove,\n",
        "                                                        value=0,\n",
        "                                                        padding='post',\n",
        "                                                        maxlen=200)\n",
        "\n",
        "x_test_pad_glove = keras.preprocessing.sequence.pad_sequences(x_test_glove,\n",
        "                                                       value=0,\n",
        "                                                       padding='post',\n",
        "                                                       maxlen=200)\n",
        "\n",
        "x_val_pad_glove = keras.preprocessing.sequence.pad_sequences(x_val_glove,\n",
        "                                                       value=0,\n",
        "                                                       padding='post',\n",
        "                                                       maxlen=200)"
      ],
      "metadata": {
        "id": "ljfm9osRNO8J"
      },
      "execution_count": 25,
      "outputs": []
    },
    {
      "cell_type": "code",
      "source": [
        "x_train_pad_glove_2 = keras.preprocessing.sequence.pad_sequences(x_train_glove_2,\n",
        "                                                        value=0,\n",
        "                                                        padding='post',\n",
        "                                                        maxlen=200)\n",
        "\n",
        "x_test_pad_glove_2 = keras.preprocessing.sequence.pad_sequences(x_test_glove_2,\n",
        "                                                       value=0,\n",
        "                                                       padding='post',\n",
        "                                                       maxlen=200)\n",
        "\n",
        "x_val_pad_glove_2 = keras.preprocessing.sequence.pad_sequences(x_val_glove_2,\n",
        "                                                       value=0,\n",
        "                                                       padding='post',\n",
        "                                                       maxlen=200)"
      ],
      "metadata": {
        "id": "4vLfa_erNO5X"
      },
      "execution_count": 26,
      "outputs": []
    },
    {
      "cell_type": "code",
      "source": [
        "from keras.initializers import Constant\n",
        "\n",
        "def createPretrainedEmbeddingLayer(wordToGlove, wordToIndex, isTrainable):\n",
        "    vocabLen = len(wordToIndex) + 1  \n",
        "    embDim = next(iter(wordToGlove.values())).shape[0]  \n",
        "   \n",
        "    embeddingMatrix = np.zeros((vocabLen, embDim))  \n",
        "    for word, index in wordToIndex.items():\n",
        "        embeddingMatrix[index, :] = wordToGlove[word] \n",
        "\n",
        "    embeddingLayer = Embedding(vocabLen, embDim, embeddings_initializer=Constant(embeddingMatrix), trainable=isTrainable, name='GloVe_Embeddings')\n",
        "    return embeddingLayer"
      ],
      "metadata": {
        "id": "sISi4d71YcUd"
      },
      "execution_count": 27,
      "outputs": []
    },
    {
      "cell_type": "code",
      "source": [
        "from keras.initializers import Constant\n",
        "\n",
        "def createPretrainedEmbeddingLayer_2(wordToGlove, wordToIndex, isTrainable):\n",
        "    vocabLen = len(wordToIndex) + 1  \n",
        "    embDim = next(iter(wordToGlove.values())).shape[0]  \n",
        "   \n",
        "    embeddingMatrix = np.zeros((vocabLen, embDim))  \n",
        "    for word, index in wordToIndex.items():\n",
        "        embeddingMatrix[index, :] = wordToGlove[word] \n",
        "\n",
        "    embeddingLayer = Embedding(vocabLen, embDim, embeddings_initializer=Constant(embeddingMatrix), trainable=isTrainable, name='GloVe_Embeddings_2')\n",
        "    return embeddingLayer"
      ],
      "metadata": {
        "id": "tT0M4RnKYeAk"
      },
      "execution_count": 28,
      "outputs": []
    },
    {
      "cell_type": "code",
      "source": [
        "from keras.layers import Lambda, GlobalAveragePooling1D\n",
        "class GlobalAveragePooling1DMasked(GlobalAveragePooling1D):\n",
        "    def call(self, x, mask=None):\n",
        "        if mask != None:\n",
        "            return K.sum(x, axis=1) / K.sum(mask, axis=1)\n",
        "        else:\n",
        "            return super().call(x)"
      ],
      "metadata": {
        "id": "3pJ7ze5ufj9L"
      },
      "execution_count": 29,
      "outputs": []
    },
    {
      "cell_type": "markdown",
      "source": [
        "##1.4 GLOVE embeddings + LSTM "
      ],
      "metadata": {
        "id": "aJplBJheFfnL"
      }
    },
    {
      "cell_type": "code",
      "metadata": {
        "id": "U5xjPzdSf1sx"
      },
      "source": [
        "sequence_input = Input(shape=(200,), dtype='int32')\n",
        "sequence_input2 = Input(shape=(200,), dtype='int32')\n",
        "embeddingLayer=createPretrainedEmbeddingLayer(wordToGlove,wordToIndex,isTrainable=True)(sequence_input)\n",
        "embeddingLayer2=createPretrainedEmbeddingLayer_2(wordToGlove,wordToIndex,isTrainable=True)(sequence_input2)\n",
        "combined=tf.keras.layers.Concatenate()([embeddingLayer, embeddingLayer2])\n",
        "x = LSTM(60, return_sequences=True,name='lstm_layer')(combined)\n",
        "x=GlobalAveragePooling1DMasked()(x)\n",
        "x = Dropout(0.1)(x)\n",
        "preds = Dense(1, activation=\"sigmoid\")(x)"
      ],
      "execution_count": 30,
      "outputs": []
    },
    {
      "cell_type": "code",
      "source": [
        "METRICS = [\n",
        "      tf.keras.metrics.Precision(name='precision'),\n",
        "      tf.keras.metrics.Recall(name='recall'),\n",
        "      tf.keras.metrics.TruePositives(name='TP')\n",
        "]"
      ],
      "metadata": {
        "id": "tFrFgHpldL5x"
      },
      "execution_count": 31,
      "outputs": []
    },
    {
      "cell_type": "code",
      "metadata": {
        "colab": {
          "base_uri": "https://localhost:8080/"
        },
        "id": "IxzLRbG9jRy7",
        "outputId": "4a925934-dca8-4a4a-fe29-12611a116bd0"
      },
      "source": [
        "model = Model([sequence_input,sequence_input2], preds)\n",
        "model.compile(optimizer='adam',loss = tf.keras.losses.BinaryCrossentropy(from_logits=True), metrics=METRICS)\n",
        "model.summary()"
      ],
      "execution_count": 32,
      "outputs": [
        {
          "output_type": "stream",
          "name": "stdout",
          "text": [
            "Model: \"model\"\n",
            "__________________________________________________________________________________________________\n",
            " Layer (type)                   Output Shape         Param #     Connected to                     \n",
            "==================================================================================================\n",
            " input_1 (InputLayer)           [(None, 200)]        0           []                               \n",
            "                                                                                                  \n",
            " input_2 (InputLayer)           [(None, 200)]        0           []                               \n",
            "                                                                                                  \n",
            " GloVe_Embeddings (Embedding)   (None, 200, 300)     120000300   ['input_1[0][0]']                \n",
            "                                                                                                  \n",
            " GloVe_Embeddings_2 (Embedding)  (None, 200, 300)    120000300   ['input_2[0][0]']                \n",
            "                                                                                                  \n",
            " concatenate (Concatenate)      (None, 200, 600)     0           ['GloVe_Embeddings[0][0]',       \n",
            "                                                                  'GloVe_Embeddings_2[0][0]']     \n",
            "                                                                                                  \n",
            " lstm_layer (LSTM)              (None, 200, 60)      158640      ['concatenate[0][0]']            \n",
            "                                                                                                  \n",
            " global_average_pooling1d_maske  (None, 60)          0           ['lstm_layer[0][0]']             \n",
            " d (GlobalAveragePooling1DMaske                                                                   \n",
            " d)                                                                                               \n",
            "                                                                                                  \n",
            " dropout (Dropout)              (None, 60)           0           ['global_average_pooling1d_masked\n",
            "                                                                 [0][0]']                         \n",
            "                                                                                                  \n",
            " dense (Dense)                  (None, 1)            61          ['dropout[0][0]']                \n",
            "                                                                                                  \n",
            "==================================================================================================\n",
            "Total params: 240,159,301\n",
            "Trainable params: 240,159,301\n",
            "Non-trainable params: 0\n",
            "__________________________________________________________________________________________________\n"
          ]
        }
      ]
    },
    {
      "cell_type": "code",
      "metadata": {
        "colab": {
          "base_uri": "https://localhost:8080/",
          "height": 661
        },
        "id": "3doRCFHlloev",
        "outputId": "58e58f24-966b-453d-a169-03e3f5f04156"
      },
      "source": [
        "tf.keras.utils.plot_model(model)"
      ],
      "execution_count": 33,
      "outputs": [
        {
          "output_type": "execute_result",
          "data": {
            "text/plain": [
              "<IPython.core.display.Image object>"
            ],
            "image/png": "[encoded data removed]"
          },
          "metadata": {},
          "execution_count": 33
        }
      ]
    },
    {
      "cell_type": "code",
      "source": [
        "y_train=np.array(df_train['Label'])\n",
        "y_test=np.array(df_test['Label'])\n",
        "y_val=np.array(df_val['Label'])"
      ],
      "metadata": {
        "id": "Lt_7XtX5cauK"
      },
      "execution_count": 34,
      "outputs": []
    },
    {
      "cell_type": "code",
      "source": [
        "from keras.callbacks import ModelCheckpoint, EarlyStopping\n",
        "checkpoint = ModelCheckpoint(\"golve_load_file.h5\",\n",
        "                             monitor=\"val_TP\",\n",
        "                             mode=\"max\",\n",
        "                             save_best_only = True,\n",
        "                             verbose=1)"
      ],
      "metadata": {
        "id": "D8hB7IoIMJ2A"
      },
      "execution_count": 35,
      "outputs": []
    },
    {
      "cell_type": "code",
      "source": [
        "earlystop = EarlyStopping(monitor = 'val_TP', # value being monitored for improvement\n",
        "                          min_delta = 0, #Abs value and is the min change required before we stop\n",
        "                          patience = 2, #Number of epochs we wait before stopping \n",
        "                          verbose = 1,\n",
        "                          restore_best_weights = True) #keeps the best weigths once stopped\n",
        "\n",
        "# we put our call backs into a callback list\n",
        "callbacks = [earlystop, checkpoint]"
      ],
      "metadata": {
        "id": "9KykdXmRMVVW"
      },
      "execution_count": 36,
      "outputs": []
    },
    {
      "cell_type": "code",
      "metadata": {
        "colab": {
          "base_uri": "https://localhost:8080/"
        },
        "id": "2J6MEEhimilt",
        "outputId": "90bfd64b-1fab-4af7-e08b-454f783de39a"
      },
      "source": [
        "print('Training progress:')\n",
        "history = model.fit([x_train_pad_glove,x_train_pad_glove_2], \n",
        "                    y_train,\n",
        "                    epochs = 10, \n",
        "                    batch_size=32, \n",
        "                    callbacks = callbacks,\n",
        "                    validation_data=([x_val_pad_glove,x_val_pad_glove_2],y_val))"
      ],
      "execution_count": 37,
      "outputs": [
        {
          "output_type": "stream",
          "name": "stdout",
          "text": [
            "Training progress:\n",
            "Epoch 1/10\n"
          ]
        },
        {
          "output_type": "stream",
          "name": "stderr",
          "text": [
            "/usr/local/lib/python3.7/dist-packages/tensorflow/python/util/dispatch.py:1082: UserWarning: \"`binary_crossentropy` received `from_logits=True`, but the `output` argument was produced by a sigmoid or softmax activation and thus does not represent logits. Was this intended?\"\n",
            "  return dispatch_target(*args, **kwargs)\n"
          ]
        },
        {
          "output_type": "stream",
          "name": "stdout",
          "text": [
            "431/431 [==============================] - ETA: 0s - loss: 0.1454 - precision: 0.9362 - recall: 0.8342 - TP: 2305.0000\n",
            "Epoch 1: val_TP improved from -inf to 293.00000, saving model to golve_load_file.h5\n",
            "431/431 [==============================] - 298s 674ms/step - loss: 0.1454 - precision: 0.9362 - recall: 0.8342 - TP: 2305.0000 - val_loss: 0.0688 - val_precision: 0.9832 - val_recall: 0.9544 - val_TP: 293.0000\n",
            "Epoch 2/10\n",
            "431/431 [==============================] - ETA: 0s - loss: 0.0860 - precision: 0.9695 - recall: 0.9425 - TP: 2604.0000\n",
            "Epoch 2: val_TP did not improve from 293.00000\n",
            "431/431 [==============================] - 32s 74ms/step - loss: 0.0860 - precision: 0.9695 - recall: 0.9425 - TP: 2604.0000 - val_loss: 0.0712 - val_precision: 0.9799 - val_recall: 0.9511 - val_TP: 292.0000\n",
            "Epoch 3/10\n",
            "431/431 [==============================] - ETA: 0s - loss: 0.0787 - precision: 0.9711 - recall: 0.9486 - TP: 2621.0000\n",
            "Epoch 3: val_TP did not improve from 293.00000\n",
            "431/431 [==============================] - 32s 74ms/step - loss: 0.0787 - precision: 0.9711 - recall: 0.9486 - TP: 2621.0000 - val_loss: 0.0668 - val_precision: 0.9799 - val_recall: 0.9544 - val_TP: 293.0000\n",
            "Epoch 4/10\n",
            "431/431 [==============================] - ETA: 0s - loss: 0.0786 - precision: 0.9789 - recall: 0.9388 - TP: 2594.0000Restoring model weights from the end of the best epoch: 2.\n",
            "\n",
            "Epoch 4: val_TP improved from 293.00000 to 294.00000, saving model to golve_load_file.h5\n",
            "431/431 [==============================] - 212s 492ms/step - loss: 0.0786 - precision: 0.9789 - recall: 0.9388 - TP: 2594.0000 - val_loss: 0.0628 - val_precision: 0.9800 - val_recall: 0.9577 - val_TP: 294.0000\n",
            "Epoch 4: early stopping\n"
          ]
        }
      ]
    },
    {
      "cell_type": "code",
      "source": [
        "history_dict = history.history\n",
        "print(history_dict.keys())\n",
        "\n",
        "TP = history_dict['TP']\n",
        "val_TP = history_dict['val_TP']\n",
        "precision = history_dict['precision']\n",
        "val_precision = history_dict['val_precision']\n",
        "\n",
        "recall = history_dict['recall']\n",
        "val_recall = history_dict['val_recall']\n",
        "\n",
        "epochs = range(1, len(TP) + 1)\n",
        "fig = plt.figure(figsize=(12, 10))\n",
        "fig.tight_layout()\n",
        "\n",
        "plt.subplot(3, 1, 1)\n",
        "plt.plot(epochs, precision, 'r', label='Training precision')\n",
        "plt.plot(epochs, val_precision, 'b', label='Validation precision')\n",
        "plt.title('Training and validation precision')\n",
        "# plt.xlabel('Epochs')\n",
        "plt.ylabel('precision')\n",
        "plt.legend()\n",
        "\n",
        "plt.subplot(3, 1, 2)\n",
        "# \"bo\" is for \"blue dot\"\n",
        "plt.plot(epochs, recall, 'r', label='Training recall')\n",
        "# b is for \"solid blue line\"\n",
        "plt.plot(epochs, val_recall, 'b', label='Validation recall')\n",
        "plt.title('Training and validation recall')\n",
        "#plt.xlabel('Epochs')\n",
        "plt.ylabel('recall')\n",
        "plt.legend()\n",
        "\n",
        "plt.subplot(3, 1, 3)\n",
        "plt.plot(epochs, TP, 'r', label='Training True positive')\n",
        "plt.plot(epochs, val_TP, 'b', label='Validation True positive')\n",
        "plt.title('Training and validation True positive')\n",
        "plt.xlabel('Epochs')\n",
        "plt.ylabel('True positive')\n",
        "plt.legend(loc='lower right')"
      ],
      "metadata": {
        "colab": {
          "base_uri": "https://localhost:8080/",
          "height": 656
        },
        "id": "dViTVQqJReGQ",
        "outputId": "62da94ee-6ba4-46bc-f97a-1d30a0e26063"
      },
      "execution_count": 38,
      "outputs": [
        {
          "output_type": "stream",
          "name": "stdout",
          "text": [
            "dict_keys(['loss', 'precision', 'recall', 'TP', 'val_loss', 'val_precision', 'val_recall', 'val_TP'])\n"
          ]
        },
        {
          "output_type": "execute_result",
          "data": {
            "text/plain": [
              "<matplotlib.legend.Legend at 0x7faced4d2e10>"
            ]
          },
          "metadata": {},
          "execution_count": 38
        },
        {
          "output_type": "display_data",
          "data": {
            "text/plain": [
              "<Figure size 864x720 with 3 Axes>"
            ],
            "image/png": "[encoded data removed]"
          },
          "metadata": {
            "needs_background": "light"
          }
        }
      ]
    },
    {
      "cell_type": "code",
      "metadata": {
        "id": "2t2icmxIn2Hd",
        "colab": {
          "base_uri": "https://localhost:8080/"
        },
        "outputId": "2c482668-c015-44c9-86f7-1bcde45e43e4"
      },
      "source": [
        "results = model.evaluate([x_test_pad_glove,x_test_pad_glove_2],y_test)\n",
        "print(results)"
      ],
      "execution_count": null,
      "outputs": [
        {
          "output_type": "stream",
          "name": "stdout",
          "text": [
            "126/126 [==============================] - 1s 8ms/step - loss: 0.0426 - precision: 0.9686 - recall: 0.9417 - TP: 339.0000\n",
            "[0.04257204011082649, 0.9685714244842529, 0.9416666626930237, 339.0]\n"
          ]
        }
      ]
    },
    {
      "cell_type": "markdown",
      "source": [
        "###1.4.1 Results"
      ],
      "metadata": {
        "id": "3MrYLhooFtS8"
      }
    },
    {
      "cell_type": "markdown",
      "source": [
        "####1.4.1.1 Predicting"
      ],
      "metadata": {
        "id": "ccWcxawtF37X"
      }
    },
    {
      "cell_type": "code",
      "source": [
        "y_pred=model.predict([x_test_pad_glove,x_test_pad_glove_2])\n",
        "y_pred"
      ],
      "metadata": {
        "colab": {
          "base_uri": "https://localhost:8080/"
        },
        "id": "gcZrV_sOhbjA",
        "outputId": "da48c18a-8e85-41be-910b-7898adfc3d7f"
      },
      "execution_count": 39,
      "outputs": [
        {
          "output_type": "execute_result",
          "data": {
            "text/plain": [
              "array([[0.01843361],\n",
              "       [0.01385116],\n",
              "       [0.01565431],\n",
              "       ...,\n",
              "       [0.97079515],\n",
              "       [0.97417974],\n",
              "       [0.9727208 ]], dtype=float32)"
            ]
          },
          "metadata": {},
          "execution_count": 39
        }
      ]
    },
    {
      "cell_type": "code",
      "source": [
        "y_pred_mod=[]\n",
        "for i in y_pred.tolist():\n",
        "  for k in i:\n",
        "    y_pred_mod.append(k)"
      ],
      "metadata": {
        "id": "Y04kbHihok3Z"
      },
      "execution_count": 40,
      "outputs": []
    },
    {
      "cell_type": "code",
      "source": [
        "for i in range(len(y_pred_mod)):\n",
        "  if y_pred_mod[i] <= float(0.5):\n",
        "    y_pred_mod[i]= 0\n",
        "  else:\n",
        "    y_pred_mod[i]=1"
      ],
      "metadata": {
        "id": "vTC4798FpsVt"
      },
      "execution_count": 41,
      "outputs": []
    },
    {
      "cell_type": "code",
      "source": [
        "from sklearn.metrics import precision_recall_fscore_support\n",
        "result=precision_recall_fscore_support(y_test, y_pred_mod, average='macro')\n",
        "print('Precision for GLOVE embeddings + hate words + LSTM in FormSpring Dataset is:',round(result[0],3))\n",
        "print('Recall for GLOVE embeddings + hate words +LSTM in FormSpring Dataset is:',round(result[1],3))\n",
        "print('macro F1 score for GLOVE embeddings + hate words +LSTM in FormSpring Dataset is:',round(result[2],3))"
      ],
      "metadata": {
        "id": "AWoimm0S_NT7",
        "outputId": "cf3459a9-ddad-424e-9d85-10e64c4b3e9d",
        "colab": {
          "base_uri": "https://localhost:8080/"
        }
      },
      "execution_count": 42,
      "outputs": [
        {
          "output_type": "stream",
          "name": "stdout",
          "text": [
            "Precision for GLOVE embeddings + hate words + LSTM in FormSpring Dataset is: 0.979\n",
            "Recall for GLOVE embeddings + hate words +LSTM in FormSpring Dataset is: 0.967\n",
            "macro F1 score for GLOVE embeddings + hate words +LSTM in FormSpring Dataset is: 0.973\n"
          ]
        }
      ]
    },
    {
      "cell_type": "code",
      "source": [
        "from sklearn.metrics import f1_score\n",
        "f1_score(y_test, y_pred_mod, average='macro')"
      ],
      "metadata": {
        "colab": {
          "base_uri": "https://localhost:8080/"
        },
        "id": "brXcBskgg3fk",
        "outputId": "46afb742-506f-4fe4-b44b-62529234f17d"
      },
      "execution_count": 43,
      "outputs": [
        {
          "output_type": "execute_result",
          "data": {
            "text/plain": [
              "0.973088816658811"
            ]
          },
          "metadata": {},
          "execution_count": 43
        }
      ]
    },
    {
      "cell_type": "markdown",
      "source": [
        "###1.4.2 Confusion Matrix"
      ],
      "metadata": {
        "id": "Jn_17oKsF7Fh"
      }
    },
    {
      "cell_type": "code",
      "source": [
        "def matrix_per(cf_matrix):\n",
        "  group_percentages_list=[]\n",
        "  k=cf_matrix.flatten()\n",
        "  for i in range(0,len(cf_matrix.flatten())):\n",
        "    if i == 0 or i == 1:\n",
        "      group_percentages_list.append(k[i]/(k[0] + k[1]))\n",
        "    else:\n",
        "      group_percentages_list.append(k[i]/(k[2] + k[3]))\n",
        "  return group_percentages_list"
      ],
      "metadata": {
        "id": "KxYh_WeziloQ"
      },
      "execution_count": 44,
      "outputs": []
    },
    {
      "cell_type": "code",
      "source": [
        "import seaborn as sns\n",
        "from sklearn.metrics import confusion_matrix, ConfusionMatrixDisplay\n",
        "cf_matrix=confusion_matrix(y_test, y_pred_mod)\n",
        "\n",
        "group_names = ['True Neg','False Pos','False Neg','True Pos']\n",
        "\n",
        "group_counts = [\"{0:0.0f}\".format(value) for value in\n",
        "                cf_matrix.flatten()]\n",
        "\n",
        "group_percentages = [\"{0:.2%}\".format(value) for value in\n",
        "                     matrix_per(cf_matrix)]\n",
        "\n",
        "labels = [f\"{v1}\\n{v2}\\n{v3}\" for v1, v2, v3 in\n",
        "          zip(group_names,group_counts,group_percentages)]\n",
        "\n",
        "labels = np.asarray(labels).reshape(2,2)\n",
        "\n",
        "ax = sns.heatmap(cf_matrix, annot=labels, fmt='', cmap='Blues')\n",
        "\n",
        "ax.set_title('Confusion Matrix for GLOVE embeddings + hate words +LSTM in FormSpring Dataset');\n",
        "ax.set_xlabel('\\nnon_hate_speech')\n",
        "ax.set_ylabel('hate_speech');\n",
        "\n",
        "\n",
        "ax.xaxis.set_ticklabels(['non_hate_speech','hate_speech'])\n",
        "ax.yaxis.set_ticklabels(['non_hate_speech','hate_speech'])\n",
        "\n",
        "## Display the visualization of the Confusion Matrix.\n",
        "plt.show()"
      ],
      "metadata": {
        "colab": {
          "base_uri": "https://localhost:8080/",
          "height": 309
        },
        "id": "3i73Y7FIOPZf",
        "outputId": "9e3df866-d2bf-4164-80d8-c426db92e867"
      },
      "execution_count": 46,
      "outputs": [
        {
          "output_type": "display_data",
          "data": {
            "text/plain": [
              "<Figure size 432x288 with 2 Axes>"
            ],
            "image/png": "[encoded data removed]"
          },
          "metadata": {
            "needs_background": "light"
          }
        }
      ]
    },
    {
      "cell_type": "code",
      "source": [
        ""
      ],
      "metadata": {
        "id": "_rdYxLdUR1bU"
      },
      "execution_count": null,
      "outputs": []
    },
    {
      "cell_type": "code",
      "source": [
        ""
      ],
      "metadata": {
        "id": "6t76HBw_SGPk"
      },
      "execution_count": null,
      "outputs": []
    },
    {
      "cell_type": "markdown",
      "source": [
        "# 2.YouTube Dataset"
      ],
      "metadata": {
        "id": "HgxNjhT0SG8A"
      }
    },
    {
      "cell_type": "markdown",
      "source": [
        "##2.1 Installing dependencies and importing packages"
      ],
      "metadata": {
        "id": "LC8Jfkj4HOx5"
      }
    },
    {
      "cell_type": "code",
      "metadata": {
        "colab": {
          "base_uri": "https://localhost:8080/"
        },
        "outputId": "045f84fc-59ea-4658-b766-f7d1539c418b",
        "id": "_ppNlvo9SG8A"
      },
      "source": [
        "import tensorflow as tf\n",
        "from tensorflow.keras.preprocessing.text import Tokenizer\n",
        "from tensorflow.keras.preprocessing.sequence import pad_sequences\n",
        "from tensorflow.keras.models import Sequential\n",
        "from tensorflow.keras.layers import Dense,Flatten,Embedding,Activation, Dropout,Input\n",
        "from tensorflow.keras.layers import Conv1D, MaxPooling1D, GlobalMaxPooling1D, LSTM \n",
        "from tensorflow.keras.optimizers import Adam\n",
        "from tensorflow.keras.models import Model\n",
        "\n",
        "import numpy as np\n",
        "from numpy import array\n",
        "import pandas as pd\n",
        "\n",
        "from sklearn.model_selection import train_test_split\n",
        "from keras.callbacks import ModelCheckpoint, EarlyStopping\n",
        "\n",
        "import re\n",
        "from tqdm import tqdm_notebook\n",
        "\n",
        "from nltk.corpus import stopwords\n",
        "\n",
        "import nltk\n",
        "nltk.download('stopwords')\n",
        "\n",
        "import matplotlib.pyplot as plt"
      ],
      "execution_count": 1,
      "outputs": [
        {
          "output_type": "stream",
          "name": "stderr",
          "text": [
            "[nltk_data] Downloading package stopwords to /root/nltk_data...\n",
            "[nltk_data]   Package stopwords is already up-to-date!\n"
          ]
        }
      ]
    },
    {
      "cell_type": "markdown",
      "source": [
        "##2.2. Reading and preparing the dataset"
      ],
      "metadata": {
        "id": "08qKilIRHVbT"
      }
    },
    {
      "cell_type": "code",
      "metadata": {
        "colab": {
          "base_uri": "https://localhost:8080/",
          "height": 354
        },
        "outputId": "d761e7e4-9fe6-44d1-a73a-7f03d834d863",
        "id": "JX9GQv6JSG8B"
      },
      "source": [
        "#Reading dataset\n",
        "df_utube= pd.read_csv('utube_clean.csv')\n",
        "df_utube.head()"
      ],
      "execution_count": 2,
      "outputs": [
        {
          "output_type": "execute_result",
          "data": {
            "text/plain": [
              "                                                Text  \\\n",
              "0  Does N.e.bodyelse Hear her Crazy ass Screamin ...   \n",
              "1  There are so many things that are incorrect wi...   \n",
              "2  3:26 hahah my boyfriend showed this song to me...   \n",
              "3  dick beyonce fuck y a ass hole you are truely ...   \n",
              "4  DongHaeTaemin and Kai ;A; luhansehun and bacon...   \n",
              "\n",
              "                                          hate_words  Label  \\\n",
              "0                                                  0      0   \n",
              "1                                                  0      0   \n",
              "2                                                  0      0   \n",
              "3  \"\"dick beyonce fuck y a ass hole you are truel...      1   \n",
              "4                                                  0      0   \n",
              "\n",
              "                                          Text_clean  \\\n",
              "0  does n e bodyelse hear crazy ass screamin hoe ...   \n",
              "1  there many things incorrect comment unbelievab...   \n",
              "2  326 hahah boyfriend showed song i love me tooo...   \n",
              "3  dick beyonce fuck ass hole truely dog bitch ph...   \n",
              "4  donghaetaemin kai a luhansehun bacon xd taemin...   \n",
              "\n",
              "                                    hate_words_clean         category  \n",
              "0                                                  0  non_hate_speech  \n",
              "1                                                  0  non_hate_speech  \n",
              "2                                                  0  non_hate_speech  \n",
              "3  dick beyonce fuck ass hole truely dog bitch ma...      hate_speech  \n",
              "4                                                  0  non_hate_speech  "
            ],
            "text/html": [
              "\n",
              "  <div id=\"df-ee364100-ed3e-467b-9956-1d100b220adc\">\n",
              "    <div class=\"colab-df-container\">\n",
              "      <div>\n",
              "<style scoped>\n",
              "    .dataframe tbody tr th:only-of-type {\n",
              "        vertical-align: middle;\n",
              "    }\n",
              "\n",
              "    .dataframe tbody tr th {\n",
              "        vertical-align: top;\n",
              "    }\n",
              "\n",
              "    .dataframe thead th {\n",
              "        text-align: right;\n",
              "    }\n",
              "</style>\n",
              "<table border=\"1\" class=\"dataframe\">\n",
              "  <thead>\n",
              "    <tr style=\"text-align: right;\">\n",
              "      <th></th>\n",
              "      <th>Text</th>\n",
              "      <th>hate_words</th>\n",
              "      <th>Label</th>\n",
              "      <th>Text_clean</th>\n",
              "      <th>hate_words_clean</th>\n",
              "      <th>category</th>\n",
              "    </tr>\n",
              "  </thead>\n",
              "  <tbody>\n",
              "    <tr>\n",
              "      <th>0</th>\n",
              "      <td>Does N.e.bodyelse Hear her Crazy ass Screamin ...</td>\n",
              "      <td>0</td>\n",
              "      <td>0</td>\n",
              "      <td>does n e bodyelse hear crazy ass screamin hoe ...</td>\n",
              "      <td>0</td>\n",
              "      <td>non_hate_speech</td>\n",
              "    </tr>\n",
              "    <tr>\n",
              "      <th>1</th>\n",
              "      <td>There are so many things that are incorrect wi...</td>\n",
              "      <td>0</td>\n",
              "      <td>0</td>\n",
              "      <td>there many things incorrect comment unbelievab...</td>\n",
              "      <td>0</td>\n",
              "      <td>non_hate_speech</td>\n",
              "    </tr>\n",
              "    <tr>\n",
              "      <th>2</th>\n",
              "      <td>3:26 hahah my boyfriend showed this song to me...</td>\n",
              "      <td>0</td>\n",
              "      <td>0</td>\n",
              "      <td>326 hahah boyfriend showed song i love me tooo...</td>\n",
              "      <td>0</td>\n",
              "      <td>non_hate_speech</td>\n",
              "    </tr>\n",
              "    <tr>\n",
              "      <th>3</th>\n",
              "      <td>dick beyonce fuck y a ass hole you are truely ...</td>\n",
              "      <td>\"\"dick beyonce fuck y a ass hole you are truel...</td>\n",
              "      <td>1</td>\n",
              "      <td>dick beyonce fuck ass hole truely dog bitch ph...</td>\n",
              "      <td>dick beyonce fuck ass hole truely dog bitch ma...</td>\n",
              "      <td>hate_speech</td>\n",
              "    </tr>\n",
              "    <tr>\n",
              "      <th>4</th>\n",
              "      <td>DongHaeTaemin and Kai ;A; luhansehun and bacon...</td>\n",
              "      <td>0</td>\n",
              "      <td>0</td>\n",
              "      <td>donghaetaemin kai a luhansehun bacon xd taemin...</td>\n",
              "      <td>0</td>\n",
              "      <td>non_hate_speech</td>\n",
              "    </tr>\n",
              "  </tbody>\n",
              "</table>\n",
              "</div>\n",
              "      <button class=\"colab-df-convert\" onclick=\"convertToInteractive('df-ee364100-ed3e-467b-9956-1d100b220adc')\"\n",
              "              title=\"Convert this dataframe to an interactive table.\"\n",
              "              style=\"display:none;\">\n",
              "        \n",
              "  <svg xmlns=\"http://www.w3.org/2000/svg\" height=\"24px\"viewBox=\"0 0 24 24\"\n",
              "       width=\"24px\">\n",
              "    <path d=\"M0 0h24v24H0V0z\" fill=\"none\"/>\n",
              "    <path d=\"M18.56 5.44l.94 2.06.94-2.06 2.06-.94-2.06-.94-.94-2.06-.94 2.06-2.06.94zm-11 1L8.5 8.5l.94-2.06 2.06-.94-2.06-.94L8.5 2.5l-.94 2.06-2.06.94zm10 10l.94 2.06.94-2.06 2.06-.94-2.06-.94-.94-2.06-.94 2.06-2.06.94z\"/><path d=\"M17.41 7.96l-1.37-1.37c-.4-.4-.92-.59-1.43-.59-.52 0-1.04.2-1.43.59L10.3 9.45l-7.72 7.72c-.78.78-.78 2.05 0 2.83L4 21.41c.39.39.9.59 1.41.59.51 0 1.02-.2 1.41-.59l7.78-7.78 2.81-2.81c.8-.78.8-2.07 0-2.86zM5.41 20L4 18.59l7.72-7.72 1.47 1.35L5.41 20z\"/>\n",
              "  </svg>\n",
              "      </button>\n",
              "      \n",
              "  <style>\n",
              "    .colab-df-container {\n",
              "      display:flex;\n",
              "      flex-wrap:wrap;\n",
              "      gap: 12px;\n",
              "    }\n",
              "\n",
              "    .colab-df-convert {\n",
              "      background-color: #E8F0FE;\n",
              "      border: none;\n",
              "      border-radius: 50%;\n",
              "      cursor: pointer;\n",
              "      display: none;\n",
              "      fill: #1967D2;\n",
              "      height: 32px;\n",
              "      padding: 0 0 0 0;\n",
              "      width: 32px;\n",
              "    }\n",
              "\n",
              "    .colab-df-convert:hover {\n",
              "      background-color: #E2EBFA;\n",
              "      box-shadow: 0px 1px 2px rgba(60, 64, 67, 0.3), 0px 1px 3px 1px rgba(60, 64, 67, 0.15);\n",
              "      fill: #174EA6;\n",
              "    }\n",
              "\n",
              "    [theme=dark] .colab-df-convert {\n",
              "      background-color: #3B4455;\n",
              "      fill: #D2E3FC;\n",
              "    }\n",
              "\n",
              "    [theme=dark] .colab-df-convert:hover {\n",
              "      background-color: #434B5C;\n",
              "      box-shadow: 0px 1px 3px 1px rgba(0, 0, 0, 0.15);\n",
              "      filter: drop-shadow(0px 1px 2px rgba(0, 0, 0, 0.3));\n",
              "      fill: #FFFFFF;\n",
              "    }\n",
              "  </style>\n",
              "\n",
              "      <script>\n",
              "        const buttonEl =\n",
              "          document.querySelector('#df-ee364100-ed3e-467b-9956-1d100b220adc button.colab-df-convert');\n",
              "        buttonEl.style.display =\n",
              "          google.colab.kernel.accessAllowed ? 'block' : 'none';\n",
              "\n",
              "        async function convertToInteractive(key) {\n",
              "          const element = document.querySelector('#df-ee364100-ed3e-467b-9956-1d100b220adc');\n",
              "          const dataTable =\n",
              "            await google.colab.kernel.invokeFunction('convertToInteractive',\n",
              "                                                     [key], {});\n",
              "          if (!dataTable) return;\n",
              "\n",
              "          const docLinkHtml = 'Like what you see? Visit the ' +\n",
              "            '<a target=\"_blank\" href=https://colab.research.google.com/notebooks/data_table.ipynb>data table notebook</a>'\n",
              "            + ' to learn more about interactive tables.';\n",
              "          element.innerHTML = '';\n",
              "          dataTable['output_type'] = 'display_data';\n",
              "          await google.colab.output.renderOutput(dataTable, element);\n",
              "          const docLink = document.createElement('div');\n",
              "          docLink.innerHTML = docLinkHtml;\n",
              "          element.appendChild(docLink);\n",
              "        }\n",
              "      </script>\n",
              "    </div>\n",
              "  </div>\n",
              "  "
            ]
          },
          "metadata": {},
          "execution_count": 2
        }
      ]
    },
    {
      "cell_type": "code",
      "source": [
        "df_utube['category']=df_utube['Label'].map({0: 'non_hate_speech', 1: 'hate_speech'})\n",
        "\n",
        "df_utube"
      ],
      "metadata": {
        "colab": {
          "base_uri": "https://localhost:8080/",
          "height": 658
        },
        "id": "rzBnNbLQSstl",
        "outputId": "11e7e827-6af0-4f18-a622-895c876979fd"
      },
      "execution_count": 3,
      "outputs": [
        {
          "output_type": "execute_result",
          "data": {
            "text/plain": [
              "                                                   Text  \\\n",
              "0     Does N.e.bodyelse Hear her Crazy ass Screamin ...   \n",
              "1     There are so many things that are incorrect wi...   \n",
              "2     3:26 hahah my boyfriend showed this song to me...   \n",
              "3     dick beyonce fuck y a ass hole you are truely ...   \n",
              "4     DongHaeTaemin and Kai ;A; luhansehun and bacon...   \n",
              "...                                                 ...   \n",
              "3455  She pretty I love this song I miss the old kel...   \n",
              "3456  Status-Online Im ZxkillergirlzX! I'm Zxkillerg...   \n",
              "3457  JR so cute EXO M Better I agree like yeah yeah...   \n",
              "3458                                                ! !   \n",
              "3459  great video and MERRY CHRISTMAS from greece :*...   \n",
              "\n",
              "                                             hate_words  Label  \\\n",
              "0                                                     0      0   \n",
              "1                                                     0      0   \n",
              "2                                                     0      0   \n",
              "3     \"\"dick beyonce fuck y a ass hole you are truel...      1   \n",
              "4                                                     0      0   \n",
              "...                                                 ...    ...   \n",
              "3455                                                  0      0   \n",
              "3456                                                  0      0   \n",
              "3457                                                  0      0   \n",
              "3458                                                  0      0   \n",
              "3459                                                  0      0   \n",
              "\n",
              "                                             Text_clean  \\\n",
              "0     does n e bodyelse hear crazy ass screamin hoe ...   \n",
              "1     there many things incorrect comment unbelievab...   \n",
              "2     326 hahah boyfriend showed song i love me tooo...   \n",
              "3     dick beyonce fuck ass hole truely dog bitch ph...   \n",
              "4     donghaetaemin kai a luhansehun bacon xd taemin...   \n",
              "...                                                 ...   \n",
              "3455  she pretty i love song i miss old kelly ok rih...   \n",
              "3456  statusonline im zxkillergirlzx im zxkillergirl...   \n",
              "3457  jr cute exo m better i agree like yeah yeah ye...   \n",
              "3458                                                NaN   \n",
              "3459  great video merry christmas greece _ 33333 wha...   \n",
              "\n",
              "                                       hate_words_clean         category  \n",
              "0                                                     0  non_hate_speech  \n",
              "1                                                     0  non_hate_speech  \n",
              "2                                                     0  non_hate_speech  \n",
              "3     dick beyonce fuck ass hole truely dog bitch ma...      hate_speech  \n",
              "4                                                     0  non_hate_speech  \n",
              "...                                                 ...              ...  \n",
              "3455                                                  0  non_hate_speech  \n",
              "3456                                                  0  non_hate_speech  \n",
              "3457                                                  0  non_hate_speech  \n",
              "3458                                                  0  non_hate_speech  \n",
              "3459                                                  0  non_hate_speech  \n",
              "\n",
              "[3460 rows x 6 columns]"
            ],
            "text/html": [
              "\n",
              "  <div id=\"df-ea0cc272-595d-4b5a-bbf4-9a8e9a27f4dc\">\n",
              "    <div class=\"colab-df-container\">\n",
              "      <div>\n",
              "<style scoped>\n",
              "    .dataframe tbody tr th:only-of-type {\n",
              "        vertical-align: middle;\n",
              "    }\n",
              "\n",
              "    .dataframe tbody tr th {\n",
              "        vertical-align: top;\n",
              "    }\n",
              "\n",
              "    .dataframe thead th {\n",
              "        text-align: right;\n",
              "    }\n",
              "</style>\n",
              "<table border=\"1\" class=\"dataframe\">\n",
              "  <thead>\n",
              "    <tr style=\"text-align: right;\">\n",
              "      <th></th>\n",
              "      <th>Text</th>\n",
              "      <th>hate_words</th>\n",
              "      <th>Label</th>\n",
              "      <th>Text_clean</th>\n",
              "      <th>hate_words_clean</th>\n",
              "      <th>category</th>\n",
              "    </tr>\n",
              "  </thead>\n",
              "  <tbody>\n",
              "    <tr>\n",
              "      <th>0</th>\n",
              "      <td>Does N.e.bodyelse Hear her Crazy ass Screamin ...</td>\n",
              "      <td>0</td>\n",
              "      <td>0</td>\n",
              "      <td>does n e bodyelse hear crazy ass screamin hoe ...</td>\n",
              "      <td>0</td>\n",
              "      <td>non_hate_speech</td>\n",
              "    </tr>\n",
              "    <tr>\n",
              "      <th>1</th>\n",
              "      <td>There are so many things that are incorrect wi...</td>\n",
              "      <td>0</td>\n",
              "      <td>0</td>\n",
              "      <td>there many things incorrect comment unbelievab...</td>\n",
              "      <td>0</td>\n",
              "      <td>non_hate_speech</td>\n",
              "    </tr>\n",
              "    <tr>\n",
              "      <th>2</th>\n",
              "      <td>3:26 hahah my boyfriend showed this song to me...</td>\n",
              "      <td>0</td>\n",
              "      <td>0</td>\n",
              "      <td>326 hahah boyfriend showed song i love me tooo...</td>\n",
              "      <td>0</td>\n",
              "      <td>non_hate_speech</td>\n",
              "    </tr>\n",
              "    <tr>\n",
              "      <th>3</th>\n",
              "      <td>dick beyonce fuck y a ass hole you are truely ...</td>\n",
              "      <td>\"\"dick beyonce fuck y a ass hole you are truel...</td>\n",
              "      <td>1</td>\n",
              "      <td>dick beyonce fuck ass hole truely dog bitch ph...</td>\n",
              "      <td>dick beyonce fuck ass hole truely dog bitch ma...</td>\n",
              "      <td>hate_speech</td>\n",
              "    </tr>\n",
              "    <tr>\n",
              "      <th>4</th>\n",
              "      <td>DongHaeTaemin and Kai ;A; luhansehun and bacon...</td>\n",
              "      <td>0</td>\n",
              "      <td>0</td>\n",
              "      <td>donghaetaemin kai a luhansehun bacon xd taemin...</td>\n",
              "      <td>0</td>\n",
              "      <td>non_hate_speech</td>\n",
              "    </tr>\n",
              "    <tr>\n",
              "      <th>...</th>\n",
              "      <td>...</td>\n",
              "      <td>...</td>\n",
              "      <td>...</td>\n",
              "      <td>...</td>\n",
              "      <td>...</td>\n",
              "      <td>...</td>\n",
              "    </tr>\n",
              "    <tr>\n",
              "      <th>3455</th>\n",
              "      <td>She pretty I love this song I miss the old kel...</td>\n",
              "      <td>0</td>\n",
              "      <td>0</td>\n",
              "      <td>she pretty i love song i miss old kelly ok rih...</td>\n",
              "      <td>0</td>\n",
              "      <td>non_hate_speech</td>\n",
              "    </tr>\n",
              "    <tr>\n",
              "      <th>3456</th>\n",
              "      <td>Status-Online Im ZxkillergirlzX! I'm Zxkillerg...</td>\n",
              "      <td>0</td>\n",
              "      <td>0</td>\n",
              "      <td>statusonline im zxkillergirlzx im zxkillergirl...</td>\n",
              "      <td>0</td>\n",
              "      <td>non_hate_speech</td>\n",
              "    </tr>\n",
              "    <tr>\n",
              "      <th>3457</th>\n",
              "      <td>JR so cute EXO M Better I agree like yeah yeah...</td>\n",
              "      <td>0</td>\n",
              "      <td>0</td>\n",
              "      <td>jr cute exo m better i agree like yeah yeah ye...</td>\n",
              "      <td>0</td>\n",
              "      <td>non_hate_speech</td>\n",
              "    </tr>\n",
              "    <tr>\n",
              "      <th>3458</th>\n",
              "      <td>! !</td>\n",
              "      <td>0</td>\n",
              "      <td>0</td>\n",
              "      <td>NaN</td>\n",
              "      <td>0</td>\n",
              "      <td>non_hate_speech</td>\n",
              "    </tr>\n",
              "    <tr>\n",
              "      <th>3459</th>\n",
              "      <td>great video and MERRY CHRISTMAS from greece :*...</td>\n",
              "      <td>0</td>\n",
              "      <td>0</td>\n",
              "      <td>great video merry christmas greece _ 33333 wha...</td>\n",
              "      <td>0</td>\n",
              "      <td>non_hate_speech</td>\n",
              "    </tr>\n",
              "  </tbody>\n",
              "</table>\n",
              "<p>3460 rows × 6 columns</p>\n",
              "</div>\n",
              "      <button class=\"colab-df-convert\" onclick=\"convertToInteractive('df-ea0cc272-595d-4b5a-bbf4-9a8e9a27f4dc')\"\n",
              "              title=\"Convert this dataframe to an interactive table.\"\n",
              "              style=\"display:none;\">\n",
              "        \n",
              "  <svg xmlns=\"http://www.w3.org/2000/svg\" height=\"24px\"viewBox=\"0 0 24 24\"\n",
              "       width=\"24px\">\n",
              "    <path d=\"M0 0h24v24H0V0z\" fill=\"none\"/>\n",
              "    <path d=\"M18.56 5.44l.94 2.06.94-2.06 2.06-.94-2.06-.94-.94-2.06-.94 2.06-2.06.94zm-11 1L8.5 8.5l.94-2.06 2.06-.94-2.06-.94L8.5 2.5l-.94 2.06-2.06.94zm10 10l.94 2.06.94-2.06 2.06-.94-2.06-.94-.94-2.06-.94 2.06-2.06.94z\"/><path d=\"M17.41 7.96l-1.37-1.37c-.4-.4-.92-.59-1.43-.59-.52 0-1.04.2-1.43.59L10.3 9.45l-7.72 7.72c-.78.78-.78 2.05 0 2.83L4 21.41c.39.39.9.59 1.41.59.51 0 1.02-.2 1.41-.59l7.78-7.78 2.81-2.81c.8-.78.8-2.07 0-2.86zM5.41 20L4 18.59l7.72-7.72 1.47 1.35L5.41 20z\"/>\n",
              "  </svg>\n",
              "      </button>\n",
              "      \n",
              "  <style>\n",
              "    .colab-df-container {\n",
              "      display:flex;\n",
              "      flex-wrap:wrap;\n",
              "      gap: 12px;\n",
              "    }\n",
              "\n",
              "    .colab-df-convert {\n",
              "      background-color: #E8F0FE;\n",
              "      border: none;\n",
              "      border-radius: 50%;\n",
              "      cursor: pointer;\n",
              "      display: none;\n",
              "      fill: #1967D2;\n",
              "      height: 32px;\n",
              "      padding: 0 0 0 0;\n",
              "      width: 32px;\n",
              "    }\n",
              "\n",
              "    .colab-df-convert:hover {\n",
              "      background-color: #E2EBFA;\n",
              "      box-shadow: 0px 1px 2px rgba(60, 64, 67, 0.3), 0px 1px 3px 1px rgba(60, 64, 67, 0.15);\n",
              "      fill: #174EA6;\n",
              "    }\n",
              "\n",
              "    [theme=dark] .colab-df-convert {\n",
              "      background-color: #3B4455;\n",
              "      fill: #D2E3FC;\n",
              "    }\n",
              "\n",
              "    [theme=dark] .colab-df-convert:hover {\n",
              "      background-color: #434B5C;\n",
              "      box-shadow: 0px 1px 3px 1px rgba(0, 0, 0, 0.15);\n",
              "      filter: drop-shadow(0px 1px 2px rgba(0, 0, 0, 0.3));\n",
              "      fill: #FFFFFF;\n",
              "    }\n",
              "  </style>\n",
              "\n",
              "      <script>\n",
              "        const buttonEl =\n",
              "          document.querySelector('#df-ea0cc272-595d-4b5a-bbf4-9a8e9a27f4dc button.colab-df-convert');\n",
              "        buttonEl.style.display =\n",
              "          google.colab.kernel.accessAllowed ? 'block' : 'none';\n",
              "\n",
              "        async function convertToInteractive(key) {\n",
              "          const element = document.querySelector('#df-ea0cc272-595d-4b5a-bbf4-9a8e9a27f4dc');\n",
              "          const dataTable =\n",
              "            await google.colab.kernel.invokeFunction('convertToInteractive',\n",
              "                                                     [key], {});\n",
              "          if (!dataTable) return;\n",
              "\n",
              "          const docLinkHtml = 'Like what you see? Visit the ' +\n",
              "            '<a target=\"_blank\" href=https://colab.research.google.com/notebooks/data_table.ipynb>data table notebook</a>'\n",
              "            + ' to learn more about interactive tables.';\n",
              "          element.innerHTML = '';\n",
              "          dataTable['output_type'] = 'display_data';\n",
              "          await google.colab.output.renderOutput(dataTable, element);\n",
              "          const docLink = document.createElement('div');\n",
              "          docLink.innerHTML = docLinkHtml;\n",
              "          element.appendChild(docLink);\n",
              "        }\n",
              "      </script>\n",
              "    </div>\n",
              "  </div>\n",
              "  "
            ]
          },
          "metadata": {},
          "execution_count": 3
        }
      ]
    },
    {
      "cell_type": "code",
      "source": [
        "# Grouping data by label\n",
        "df_utube.groupby('Label').count()"
      ],
      "metadata": {
        "colab": {
          "base_uri": "https://localhost:8080/",
          "height": 143
        },
        "outputId": "63603d8d-03ea-4564-f80c-a8758918903e",
        "id": "tKZlooEBSG8B"
      },
      "execution_count": 4,
      "outputs": [
        {
          "output_type": "execute_result",
          "data": {
            "text/plain": [
              "       Text  hate_words  Text_clean  hate_words_clean  category\n",
              "Label                                                          \n",
              "0      3144        3144        3139              3144      3144\n",
              "1       316         316         316               316       316"
            ],
            "text/html": [
              "\n",
              "  <div id=\"df-6280758a-f431-4a2a-8c83-481c2f5a3c4e\">\n",
              "    <div class=\"colab-df-container\">\n",
              "      <div>\n",
              "<style scoped>\n",
              "    .dataframe tbody tr th:only-of-type {\n",
              "        vertical-align: middle;\n",
              "    }\n",
              "\n",
              "    .dataframe tbody tr th {\n",
              "        vertical-align: top;\n",
              "    }\n",
              "\n",
              "    .dataframe thead th {\n",
              "        text-align: right;\n",
              "    }\n",
              "</style>\n",
              "<table border=\"1\" class=\"dataframe\">\n",
              "  <thead>\n",
              "    <tr style=\"text-align: right;\">\n",
              "      <th></th>\n",
              "      <th>Text</th>\n",
              "      <th>hate_words</th>\n",
              "      <th>Text_clean</th>\n",
              "      <th>hate_words_clean</th>\n",
              "      <th>category</th>\n",
              "    </tr>\n",
              "    <tr>\n",
              "      <th>Label</th>\n",
              "      <th></th>\n",
              "      <th></th>\n",
              "      <th></th>\n",
              "      <th></th>\n",
              "      <th></th>\n",
              "    </tr>\n",
              "  </thead>\n",
              "  <tbody>\n",
              "    <tr>\n",
              "      <th>0</th>\n",
              "      <td>3144</td>\n",
              "      <td>3144</td>\n",
              "      <td>3139</td>\n",
              "      <td>3144</td>\n",
              "      <td>3144</td>\n",
              "    </tr>\n",
              "    <tr>\n",
              "      <th>1</th>\n",
              "      <td>316</td>\n",
              "      <td>316</td>\n",
              "      <td>316</td>\n",
              "      <td>316</td>\n",
              "      <td>316</td>\n",
              "    </tr>\n",
              "  </tbody>\n",
              "</table>\n",
              "</div>\n",
              "      <button class=\"colab-df-convert\" onclick=\"convertToInteractive('df-6280758a-f431-4a2a-8c83-481c2f5a3c4e')\"\n",
              "              title=\"Convert this dataframe to an interactive table.\"\n",
              "              style=\"display:none;\">\n",
              "        \n",
              "  <svg xmlns=\"http://www.w3.org/2000/svg\" height=\"24px\"viewBox=\"0 0 24 24\"\n",
              "       width=\"24px\">\n",
              "    <path d=\"M0 0h24v24H0V0z\" fill=\"none\"/>\n",
              "    <path d=\"M18.56 5.44l.94 2.06.94-2.06 2.06-.94-2.06-.94-.94-2.06-.94 2.06-2.06.94zm-11 1L8.5 8.5l.94-2.06 2.06-.94-2.06-.94L8.5 2.5l-.94 2.06-2.06.94zm10 10l.94 2.06.94-2.06 2.06-.94-2.06-.94-.94-2.06-.94 2.06-2.06.94z\"/><path d=\"M17.41 7.96l-1.37-1.37c-.4-.4-.92-.59-1.43-.59-.52 0-1.04.2-1.43.59L10.3 9.45l-7.72 7.72c-.78.78-.78 2.05 0 2.83L4 21.41c.39.39.9.59 1.41.59.51 0 1.02-.2 1.41-.59l7.78-7.78 2.81-2.81c.8-.78.8-2.07 0-2.86zM5.41 20L4 18.59l7.72-7.72 1.47 1.35L5.41 20z\"/>\n",
              "  </svg>\n",
              "      </button>\n",
              "      \n",
              "  <style>\n",
              "    .colab-df-container {\n",
              "      display:flex;\n",
              "      flex-wrap:wrap;\n",
              "      gap: 12px;\n",
              "    }\n",
              "\n",
              "    .colab-df-convert {\n",
              "      background-color: #E8F0FE;\n",
              "      border: none;\n",
              "      border-radius: 50%;\n",
              "      cursor: pointer;\n",
              "      display: none;\n",
              "      fill: #1967D2;\n",
              "      height: 32px;\n",
              "      padding: 0 0 0 0;\n",
              "      width: 32px;\n",
              "    }\n",
              "\n",
              "    .colab-df-convert:hover {\n",
              "      background-color: #E2EBFA;\n",
              "      box-shadow: 0px 1px 2px rgba(60, 64, 67, 0.3), 0px 1px 3px 1px rgba(60, 64, 67, 0.15);\n",
              "      fill: #174EA6;\n",
              "    }\n",
              "\n",
              "    [theme=dark] .colab-df-convert {\n",
              "      background-color: #3B4455;\n",
              "      fill: #D2E3FC;\n",
              "    }\n",
              "\n",
              "    [theme=dark] .colab-df-convert:hover {\n",
              "      background-color: #434B5C;\n",
              "      box-shadow: 0px 1px 3px 1px rgba(0, 0, 0, 0.15);\n",
              "      filter: drop-shadow(0px 1px 2px rgba(0, 0, 0, 0.3));\n",
              "      fill: #FFFFFF;\n",
              "    }\n",
              "  </style>\n",
              "\n",
              "      <script>\n",
              "        const buttonEl =\n",
              "          document.querySelector('#df-6280758a-f431-4a2a-8c83-481c2f5a3c4e button.colab-df-convert');\n",
              "        buttonEl.style.display =\n",
              "          google.colab.kernel.accessAllowed ? 'block' : 'none';\n",
              "\n",
              "        async function convertToInteractive(key) {\n",
              "          const element = document.querySelector('#df-6280758a-f431-4a2a-8c83-481c2f5a3c4e');\n",
              "          const dataTable =\n",
              "            await google.colab.kernel.invokeFunction('convertToInteractive',\n",
              "                                                     [key], {});\n",
              "          if (!dataTable) return;\n",
              "\n",
              "          const docLinkHtml = 'Like what you see? Visit the ' +\n",
              "            '<a target=\"_blank\" href=https://colab.research.google.com/notebooks/data_table.ipynb>data table notebook</a>'\n",
              "            + ' to learn more about interactive tables.';\n",
              "          element.innerHTML = '';\n",
              "          dataTable['output_type'] = 'display_data';\n",
              "          await google.colab.output.renderOutput(dataTable, element);\n",
              "          const docLink = document.createElement('div');\n",
              "          docLink.innerHTML = docLinkHtml;\n",
              "          element.appendChild(docLink);\n",
              "        }\n",
              "      </script>\n",
              "    </div>\n",
              "  </div>\n",
              "  "
            ]
          },
          "metadata": {},
          "execution_count": 4
        }
      ]
    },
    {
      "cell_type": "code",
      "source": [
        "df_utube['category'].value_counts()"
      ],
      "metadata": {
        "colab": {
          "base_uri": "https://localhost:8080/"
        },
        "outputId": "d2bb2195-3beb-453f-eb59-2b95bbad0d89",
        "id": "Ap18Ayv0SG8C"
      },
      "execution_count": 5,
      "outputs": [
        {
          "output_type": "execute_result",
          "data": {
            "text/plain": [
              "non_hate_speech    3144\n",
              "hate_speech         316\n",
              "Name: category, dtype: int64"
            ]
          },
          "metadata": {},
          "execution_count": 5
        }
      ]
    },
    {
      "cell_type": "code",
      "source": [
        "non_hate_speech, hate_speech = np.bincount(df_utube['Label'])\n",
        "total = hate_speech + non_hate_speech\n",
        "print('Examples:\\n    Total: {}\\n    non_hate_speech: {} ({:.2f}% of total)\\n'.format(\n",
        "    total, non_hate_speech, 100 *  non_hate_speech / total))\n",
        "print('Examples:\\n    Total: {}\\n    hate_speech: {} ({:.2f}% of total)\\n'.format(\n",
        "    total, hate_speech, 100 * hate_speech / total))\n"
      ],
      "metadata": {
        "colab": {
          "base_uri": "https://localhost:8080/"
        },
        "outputId": "3e34ab2a-2638-4626-aa08-7ae8e64ed7c2",
        "id": "SOW0wdgRSG8C"
      },
      "execution_count": 6,
      "outputs": [
        {
          "output_type": "stream",
          "name": "stdout",
          "text": [
            "Examples:\n",
            "    Total: 3460\n",
            "    non_hate_speech: 3144 (90.87% of total)\n",
            "\n",
            "Examples:\n",
            "    Total: 3460\n",
            "    hate_speech: 316 (9.13% of total)\n",
            "\n"
          ]
        }
      ]
    },
    {
      "cell_type": "code",
      "source": [
        "weight_for_0 = (1 / non_hate_speech)*(total)/2.0 \n",
        "weight_for_1 = (1 / hate_speech)*(total)/2.0\n",
        "\n",
        "\n",
        "class_weights = {0: weight_for_0, 1: weight_for_1}\n",
        "\n",
        "print('Weight for class 0: {:.2f}'.format(weight_for_0))\n",
        "print('Weight for class 1: {:.2f}'.format(weight_for_1))"
      ],
      "metadata": {
        "colab": {
          "base_uri": "https://localhost:8080/"
        },
        "id": "eGpFawMbbOs8",
        "outputId": "cc066ac2-d031-4a69-bbc6-cd885759ae54"
      },
      "execution_count": 7,
      "outputs": [
        {
          "output_type": "stream",
          "name": "stdout",
          "text": [
            "Weight for class 0: 0.55\n",
            "Weight for class 1: 5.47\n"
          ]
        }
      ]
    },
    {
      "cell_type": "code",
      "source": [
        "strSer = df_utube['Text_clean'].str\n",
        "df_utube['word_count']=df_utube['Text_clean'].str.split().str.len()\n"
      ],
      "metadata": {
        "id": "T0yGTMSGZSoc"
      },
      "execution_count": 8,
      "outputs": []
    },
    {
      "cell_type": "code",
      "source": [
        "df_utube.shape"
      ],
      "metadata": {
        "colab": {
          "base_uri": "https://localhost:8080/"
        },
        "id": "cO8dXA_3Zy7V",
        "outputId": "0a8184f0-ebb0-4d37-e297-aa0a34733021"
      },
      "execution_count": 9,
      "outputs": [
        {
          "output_type": "execute_result",
          "data": {
            "text/plain": [
              "(3460, 7)"
            ]
          },
          "metadata": {},
          "execution_count": 9
        }
      ]
    },
    {
      "cell_type": "code",
      "source": [
        "df_utube.loc[(df_utube['word_count'] > 500) & (df_utube['category']=='hate_speech')]"
      ],
      "metadata": {
        "colab": {
          "base_uri": "https://localhost:8080/",
          "height": 1000
        },
        "id": "fOShMLsLZoul",
        "outputId": "da36ffbe-74c6-42ab-ba89-20d331ff7324"
      },
      "execution_count": 10,
      "outputs": [
        {
          "output_type": "execute_result",
          "data": {
            "text/plain": [
              "                                                   Text  \\\n",
              "106   Since when is Dick Cheney a pastor? Question: ...   \n",
              "256   its not his fault wenger was to stingy to take...   \n",
              "616   lol its great I love it those girls had a chan...   \n",
              "669   And MSNBC is not? Tell the truth now.... Actua...   \n",
              "728   I was so waiting for her to rub her blue hand ...   \n",
              "780   Even if you don't believe in a higher power. P...   \n",
              "1057  That fat sec guard prolly listens to gay ass t...   \n",
              "1223  Intellectually Stimulating - I learned somethi...   \n",
              "1316  that's a a dimebag signature series bro you do...   \n",
              "1337  Very cool. The 3D effect is super They make me...   \n",
              "1600  Great review Blunty. Been dithering over this ...   \n",
              "1641  They are fat pigs. That doesn't give them a ri...   \n",
              "2319  Who cares =D she makes more money than you eve...   \n",
              "2396  Hi you may want to consider learning something...   \n",
              "2979  PATERNO WAS WRONG VERY WRONG....HE HAD ALOT OF...   \n",
              "\n",
              "                                             hate_words  Label  \\\n",
              "106   \"\"fuck you\"\",\"\"fucktard now go choke on an AID...      1   \n",
              "256   \"\"u faggot\"\",\"\"dick face\"\",\"\"SO SUCK DICK MOTH...      1   \n",
              "616   \"\"This lady is a fucking phyco\"\",\"\"fucking idi...      1   \n",
              "669   \"\"Fuckin morons\"\",\"\"Apologize bitch or we kill...      1   \n",
              "728   \"\" Fat people are gross\"\",\"\"fatass ugly scumba...      1   \n",
              "780   \"\"pussy ass\"\",\"\" nigga\"\",\"\"Fuck My Life\"\",\"\"yo...      1   \n",
              "1057  \"\"fagsmack\"\",\"\"dick riding\"\",\"\"go kill yoursel...      1   \n",
              "1223                          \"\"pissing dick they are\"\"      1   \n",
              "1316            \"\"fucking attention whore\"\",\"\"gay ass\"\"      1   \n",
              "1337  \"\"obnoxious pain-in-the-arse entitled bitches ...      1   \n",
              "1600  \"\" sick little fuck\"\",\"\"appalling bastards\"\",\"...      1   \n",
              "1641  \"\"They are fat pigs\"\",\"\"Fucking nazi cunts\"\",\"...      1   \n",
              "2319  \"\"shit is really fucking annoying\"\",\"\"little b...      1   \n",
              "2396                           \"\"boyfriend was an ass\"\"      1   \n",
              "2979  \"\"BITCHES\"\",\"\"RACIEST ASS HOLES\"\",\"\"BIG ASS LI...      1   \n",
              "\n",
              "                                             Text_clean  \\\n",
              "106   since dick cheney pastor question is south lon...   \n",
              "256   fault wenger stingy take nandos hahaha case ro...   \n",
              "616   lol great i love girls chance go kid now hes g...   \n",
              "669   and msnbc tell truth actually it took month ev...   \n",
              "728   i waiting rub blue hand face fat people gross ...   \n",
              "780   even dont believe higher power praying means w...   \n",
              "1057  that fat sec guard prolly listens gay ass tool...   \n",
              "1223  intellectually stimulating i learned something...   \n",
              "1316  thats dimebag signature series bro dont make f...   \n",
              "1337  very cool the 3d effect super they make ill th...   \n",
              "1600  great review blunty been dithering something e...   \n",
              "1641  they fat pigs that doesnt give right beat teen...   \n",
              "2319  who cares d makes money ever how exactly lady ...   \n",
              "2396  hi may want consider learning something world ...   \n",
              "2979  paterno was wrong very wrong he had alot of po...   \n",
              "\n",
              "                                       hate_words_clean     category  \\\n",
              "106   fuck fucktard go choke aids positive cocks fun...  hate_speech   \n",
              "256   u faggot dick face so suck dick motherfucker c...  hate_speech   \n",
              "616   this lady fucking phyco fucking idiots gay peo...  hate_speech   \n",
              "669   fuckin morons apologize bitch kill steven kay ...  hate_speech   \n",
              "728   fat people gross fatass ugly scumbag people di...  hate_speech   \n",
              "780   pussy ass nigga fuck my life youre retarded so...  hate_speech   \n",
              "1057  fagsmack dick riding go kill nigga asshole dum...  hate_speech   \n",
              "1223                                       pissing dick  hate_speech   \n",
              "1316                    fucking attention whore gay ass  hate_speech   \n",
              "1337  obnoxious paininthearse entitled bitches insan...  hate_speech   \n",
              "1600           sick little fuck appalling bastards fuck  hate_speech   \n",
              "1641  they fat pigs fucking nazi cunts i fucking spi...  hate_speech   \n",
              "2319  shit really fucking annoying little bitch bitc...  hate_speech   \n",
              "2396                                      boyfriend ass  hate_speech   \n",
              "2979  bitches raciest ass holes big ass liar racist ...  hate_speech   \n",
              "\n",
              "      word_count  \n",
              "106        547.0  \n",
              "256        552.0  \n",
              "616        871.0  \n",
              "669        541.0  \n",
              "728        533.0  \n",
              "780        608.0  \n",
              "1057       617.0  \n",
              "1223       595.0  \n",
              "1316       556.0  \n",
              "1337       607.0  \n",
              "1600       598.0  \n",
              "1641       610.0  \n",
              "2319       527.0  \n",
              "2396       729.0  \n",
              "2979       765.0  "
            ],
            "text/html": [
              "\n",
              "  <div id=\"df-53db0fc4-faa1-4dab-aefb-a05da8642211\">\n",
              "    <div class=\"colab-df-container\">\n",
              "      <div>\n",
              "<style scoped>\n",
              "    .dataframe tbody tr th:only-of-type {\n",
              "        vertical-align: middle;\n",
              "    }\n",
              "\n",
              "    .dataframe tbody tr th {\n",
              "        vertical-align: top;\n",
              "    }\n",
              "\n",
              "    .dataframe thead th {\n",
              "        text-align: right;\n",
              "    }\n",
              "</style>\n",
              "<table border=\"1\" class=\"dataframe\">\n",
              "  <thead>\n",
              "    <tr style=\"text-align: right;\">\n",
              "      <th></th>\n",
              "      <th>Text</th>\n",
              "      <th>hate_words</th>\n",
              "      <th>Label</th>\n",
              "      <th>Text_clean</th>\n",
              "      <th>hate_words_clean</th>\n",
              "      <th>category</th>\n",
              "      <th>word_count</th>\n",
              "    </tr>\n",
              "  </thead>\n",
              "  <tbody>\n",
              "    <tr>\n",
              "      <th>106</th>\n",
              "      <td>Since when is Dick Cheney a pastor? Question: ...</td>\n",
              "      <td>\"\"fuck you\"\",\"\"fucktard now go choke on an AID...</td>\n",
              "      <td>1</td>\n",
              "      <td>since dick cheney pastor question is south lon...</td>\n",
              "      <td>fuck fucktard go choke aids positive cocks fun...</td>\n",
              "      <td>hate_speech</td>\n",
              "      <td>547.0</td>\n",
              "    </tr>\n",
              "    <tr>\n",
              "      <th>256</th>\n",
              "      <td>its not his fault wenger was to stingy to take...</td>\n",
              "      <td>\"\"u faggot\"\",\"\"dick face\"\",\"\"SO SUCK DICK MOTH...</td>\n",
              "      <td>1</td>\n",
              "      <td>fault wenger stingy take nandos hahaha case ro...</td>\n",
              "      <td>u faggot dick face so suck dick motherfucker c...</td>\n",
              "      <td>hate_speech</td>\n",
              "      <td>552.0</td>\n",
              "    </tr>\n",
              "    <tr>\n",
              "      <th>616</th>\n",
              "      <td>lol its great I love it those girls had a chan...</td>\n",
              "      <td>\"\"This lady is a fucking phyco\"\",\"\"fucking idi...</td>\n",
              "      <td>1</td>\n",
              "      <td>lol great i love girls chance go kid now hes g...</td>\n",
              "      <td>this lady fucking phyco fucking idiots gay peo...</td>\n",
              "      <td>hate_speech</td>\n",
              "      <td>871.0</td>\n",
              "    </tr>\n",
              "    <tr>\n",
              "      <th>669</th>\n",
              "      <td>And MSNBC is not? Tell the truth now.... Actua...</td>\n",
              "      <td>\"\"Fuckin morons\"\",\"\"Apologize bitch or we kill...</td>\n",
              "      <td>1</td>\n",
              "      <td>and msnbc tell truth actually it took month ev...</td>\n",
              "      <td>fuckin morons apologize bitch kill steven kay ...</td>\n",
              "      <td>hate_speech</td>\n",
              "      <td>541.0</td>\n",
              "    </tr>\n",
              "    <tr>\n",
              "      <th>728</th>\n",
              "      <td>I was so waiting for her to rub her blue hand ...</td>\n",
              "      <td>\"\" Fat people are gross\"\",\"\"fatass ugly scumba...</td>\n",
              "      <td>1</td>\n",
              "      <td>i waiting rub blue hand face fat people gross ...</td>\n",
              "      <td>fat people gross fatass ugly scumbag people di...</td>\n",
              "      <td>hate_speech</td>\n",
              "      <td>533.0</td>\n",
              "    </tr>\n",
              "    <tr>\n",
              "      <th>780</th>\n",
              "      <td>Even if you don't believe in a higher power. P...</td>\n",
              "      <td>\"\"pussy ass\"\",\"\" nigga\"\",\"\"Fuck My Life\"\",\"\"yo...</td>\n",
              "      <td>1</td>\n",
              "      <td>even dont believe higher power praying means w...</td>\n",
              "      <td>pussy ass nigga fuck my life youre retarded so...</td>\n",
              "      <td>hate_speech</td>\n",
              "      <td>608.0</td>\n",
              "    </tr>\n",
              "    <tr>\n",
              "      <th>1057</th>\n",
              "      <td>That fat sec guard prolly listens to gay ass t...</td>\n",
              "      <td>\"\"fagsmack\"\",\"\"dick riding\"\",\"\"go kill yoursel...</td>\n",
              "      <td>1</td>\n",
              "      <td>that fat sec guard prolly listens gay ass tool...</td>\n",
              "      <td>fagsmack dick riding go kill nigga asshole dum...</td>\n",
              "      <td>hate_speech</td>\n",
              "      <td>617.0</td>\n",
              "    </tr>\n",
              "    <tr>\n",
              "      <th>1223</th>\n",
              "      <td>Intellectually Stimulating - I learned somethi...</td>\n",
              "      <td>\"\"pissing dick they are\"\"</td>\n",
              "      <td>1</td>\n",
              "      <td>intellectually stimulating i learned something...</td>\n",
              "      <td>pissing dick</td>\n",
              "      <td>hate_speech</td>\n",
              "      <td>595.0</td>\n",
              "    </tr>\n",
              "    <tr>\n",
              "      <th>1316</th>\n",
              "      <td>that's a a dimebag signature series bro you do...</td>\n",
              "      <td>\"\"fucking attention whore\"\",\"\"gay ass\"\"</td>\n",
              "      <td>1</td>\n",
              "      <td>thats dimebag signature series bro dont make f...</td>\n",
              "      <td>fucking attention whore gay ass</td>\n",
              "      <td>hate_speech</td>\n",
              "      <td>556.0</td>\n",
              "    </tr>\n",
              "    <tr>\n",
              "      <th>1337</th>\n",
              "      <td>Very cool. The 3D effect is super They make me...</td>\n",
              "      <td>\"\"obnoxious pain-in-the-arse entitled bitches ...</td>\n",
              "      <td>1</td>\n",
              "      <td>very cool the 3d effect super they make ill th...</td>\n",
              "      <td>obnoxious paininthearse entitled bitches insan...</td>\n",
              "      <td>hate_speech</td>\n",
              "      <td>607.0</td>\n",
              "    </tr>\n",
              "    <tr>\n",
              "      <th>1600</th>\n",
              "      <td>Great review Blunty. Been dithering over this ...</td>\n",
              "      <td>\"\" sick little fuck\"\",\"\"appalling bastards\"\",\"...</td>\n",
              "      <td>1</td>\n",
              "      <td>great review blunty been dithering something e...</td>\n",
              "      <td>sick little fuck appalling bastards fuck</td>\n",
              "      <td>hate_speech</td>\n",
              "      <td>598.0</td>\n",
              "    </tr>\n",
              "    <tr>\n",
              "      <th>1641</th>\n",
              "      <td>They are fat pigs. That doesn't give them a ri...</td>\n",
              "      <td>\"\"They are fat pigs\"\",\"\"Fucking nazi cunts\"\",\"...</td>\n",
              "      <td>1</td>\n",
              "      <td>they fat pigs that doesnt give right beat teen...</td>\n",
              "      <td>they fat pigs fucking nazi cunts i fucking spi...</td>\n",
              "      <td>hate_speech</td>\n",
              "      <td>610.0</td>\n",
              "    </tr>\n",
              "    <tr>\n",
              "      <th>2319</th>\n",
              "      <td>Who cares =D she makes more money than you eve...</td>\n",
              "      <td>\"\"shit is really fucking annoying\"\",\"\"little b...</td>\n",
              "      <td>1</td>\n",
              "      <td>who cares d makes money ever how exactly lady ...</td>\n",
              "      <td>shit really fucking annoying little bitch bitc...</td>\n",
              "      <td>hate_speech</td>\n",
              "      <td>527.0</td>\n",
              "    </tr>\n",
              "    <tr>\n",
              "      <th>2396</th>\n",
              "      <td>Hi you may want to consider learning something...</td>\n",
              "      <td>\"\"boyfriend was an ass\"\"</td>\n",
              "      <td>1</td>\n",
              "      <td>hi may want consider learning something world ...</td>\n",
              "      <td>boyfriend ass</td>\n",
              "      <td>hate_speech</td>\n",
              "      <td>729.0</td>\n",
              "    </tr>\n",
              "    <tr>\n",
              "      <th>2979</th>\n",
              "      <td>PATERNO WAS WRONG VERY WRONG....HE HAD ALOT OF...</td>\n",
              "      <td>\"\"BITCHES\"\",\"\"RACIEST ASS HOLES\"\",\"\"BIG ASS LI...</td>\n",
              "      <td>1</td>\n",
              "      <td>paterno was wrong very wrong he had alot of po...</td>\n",
              "      <td>bitches raciest ass holes big ass liar racist ...</td>\n",
              "      <td>hate_speech</td>\n",
              "      <td>765.0</td>\n",
              "    </tr>\n",
              "  </tbody>\n",
              "</table>\n",
              "</div>\n",
              "      <button class=\"colab-df-convert\" onclick=\"convertToInteractive('df-53db0fc4-faa1-4dab-aefb-a05da8642211')\"\n",
              "              title=\"Convert this dataframe to an interactive table.\"\n",
              "              style=\"display:none;\">\n",
              "        \n",
              "  <svg xmlns=\"http://www.w3.org/2000/svg\" height=\"24px\"viewBox=\"0 0 24 24\"\n",
              "       width=\"24px\">\n",
              "    <path d=\"M0 0h24v24H0V0z\" fill=\"none\"/>\n",
              "    <path d=\"M18.56 5.44l.94 2.06.94-2.06 2.06-.94-2.06-.94-.94-2.06-.94 2.06-2.06.94zm-11 1L8.5 8.5l.94-2.06 2.06-.94-2.06-.94L8.5 2.5l-.94 2.06-2.06.94zm10 10l.94 2.06.94-2.06 2.06-.94-2.06-.94-.94-2.06-.94 2.06-2.06.94z\"/><path d=\"M17.41 7.96l-1.37-1.37c-.4-.4-.92-.59-1.43-.59-.52 0-1.04.2-1.43.59L10.3 9.45l-7.72 7.72c-.78.78-.78 2.05 0 2.83L4 21.41c.39.39.9.59 1.41.59.51 0 1.02-.2 1.41-.59l7.78-7.78 2.81-2.81c.8-.78.8-2.07 0-2.86zM5.41 20L4 18.59l7.72-7.72 1.47 1.35L5.41 20z\"/>\n",
              "  </svg>\n",
              "      </button>\n",
              "      \n",
              "  <style>\n",
              "    .colab-df-container {\n",
              "      display:flex;\n",
              "      flex-wrap:wrap;\n",
              "      gap: 12px;\n",
              "    }\n",
              "\n",
              "    .colab-df-convert {\n",
              "      background-color: #E8F0FE;\n",
              "      border: none;\n",
              "      border-radius: 50%;\n",
              "      cursor: pointer;\n",
              "      display: none;\n",
              "      fill: #1967D2;\n",
              "      height: 32px;\n",
              "      padding: 0 0 0 0;\n",
              "      width: 32px;\n",
              "    }\n",
              "\n",
              "    .colab-df-convert:hover {\n",
              "      background-color: #E2EBFA;\n",
              "      box-shadow: 0px 1px 2px rgba(60, 64, 67, 0.3), 0px 1px 3px 1px rgba(60, 64, 67, 0.15);\n",
              "      fill: #174EA6;\n",
              "    }\n",
              "\n",
              "    [theme=dark] .colab-df-convert {\n",
              "      background-color: #3B4455;\n",
              "      fill: #D2E3FC;\n",
              "    }\n",
              "\n",
              "    [theme=dark] .colab-df-convert:hover {\n",
              "      background-color: #434B5C;\n",
              "      box-shadow: 0px 1px 3px 1px rgba(0, 0, 0, 0.15);\n",
              "      filter: drop-shadow(0px 1px 2px rgba(0, 0, 0, 0.3));\n",
              "      fill: #FFFFFF;\n",
              "    }\n",
              "  </style>\n",
              "\n",
              "      <script>\n",
              "        const buttonEl =\n",
              "          document.querySelector('#df-53db0fc4-faa1-4dab-aefb-a05da8642211 button.colab-df-convert');\n",
              "        buttonEl.style.display =\n",
              "          google.colab.kernel.accessAllowed ? 'block' : 'none';\n",
              "\n",
              "        async function convertToInteractive(key) {\n",
              "          const element = document.querySelector('#df-53db0fc4-faa1-4dab-aefb-a05da8642211');\n",
              "          const dataTable =\n",
              "            await google.colab.kernel.invokeFunction('convertToInteractive',\n",
              "                                                     [key], {});\n",
              "          if (!dataTable) return;\n",
              "\n",
              "          const docLinkHtml = 'Like what you see? Visit the ' +\n",
              "            '<a target=\"_blank\" href=https://colab.research.google.com/notebooks/data_table.ipynb>data table notebook</a>'\n",
              "            + ' to learn more about interactive tables.';\n",
              "          element.innerHTML = '';\n",
              "          dataTable['output_type'] = 'display_data';\n",
              "          await google.colab.output.renderOutput(dataTable, element);\n",
              "          const docLink = document.createElement('div');\n",
              "          docLink.innerHTML = docLinkHtml;\n",
              "          element.appendChild(docLink);\n",
              "        }\n",
              "      </script>\n",
              "    </div>\n",
              "  </div>\n",
              "  "
            ]
          },
          "metadata": {},
          "execution_count": 10
        }
      ]
    },
    {
      "cell_type": "markdown",
      "source": [
        "###2.2.1 Splitting the data between train, validation and test sets"
      ],
      "metadata": {
        "id": "nET1_7KaHdON"
      }
    },
    {
      "cell_type": "code",
      "source": [
        "X_train_, X_test, y_train_, y_test = train_test_split(\n",
        "    df_utube.index.values,\n",
        "    df_utube.Label.values,\n",
        "    test_size=0.10,\n",
        "    random_state=42,\n",
        "    stratify=df_utube.Label.values,    \n",
        ")"
      ],
      "metadata": {
        "id": "1z8A_pl6SG8D"
      },
      "execution_count": 11,
      "outputs": []
    },
    {
      "cell_type": "code",
      "source": [
        "X_train, X_val, y_train, y_val = train_test_split(\n",
        "    df_utube.loc[X_train_].index.values,\n",
        "    df_utube.loc[X_train_].Label.values,\n",
        "    test_size=0.10,\n",
        "    random_state=42,\n",
        "    stratify=df_utube.loc[X_train_].Label.values,  \n",
        ")"
      ],
      "metadata": {
        "id": "kL_kXxhMSG8D"
      },
      "execution_count": 12,
      "outputs": []
    },
    {
      "cell_type": "code",
      "source": [
        "df_utube['data_type'] = ['not_set']*df_utube.shape[0]\n",
        "df_utube.loc[X_train, 'data_type'] = 'train'\n",
        "df_utube.loc[X_val, 'data_type'] = 'val'\n",
        "df_utube.loc[X_test, 'data_type'] = 'test'"
      ],
      "metadata": {
        "id": "wxyHkLakSG8D"
      },
      "execution_count": 13,
      "outputs": []
    },
    {
      "cell_type": "code",
      "source": [
        "df_utube.groupby(['category', 'Label', 'data_type']).count()"
      ],
      "metadata": {
        "colab": {
          "base_uri": "https://localhost:8080/",
          "height": 269
        },
        "outputId": "68e6dcd6-f5a7-4cb8-f20c-9c69ae936a64",
        "id": "S41_4FctSG8E"
      },
      "execution_count": 14,
      "outputs": [
        {
          "output_type": "execute_result",
          "data": {
            "text/plain": [
              "                                 Text  hate_words  Text_clean  \\\n",
              "category        Label data_type                                 \n",
              "hate_speech     1     test         32          32          32   \n",
              "                      train       256         256         256   \n",
              "                      val          28          28          28   \n",
              "non_hate_speech 0     test        314         314         313   \n",
              "                      train      2546        2546        2543   \n",
              "                      val         284         284         283   \n",
              "\n",
              "                                 hate_words_clean  word_count  \n",
              "category        Label data_type                                \n",
              "hate_speech     1     test                     32          32  \n",
              "                      train                   256         256  \n",
              "                      val                      28          28  \n",
              "non_hate_speech 0     test                    314         313  \n",
              "                      train                  2546        2543  \n",
              "                      val                     284         283  "
            ],
            "text/html": [
              "\n",
              "  <div id=\"df-55d52900-44f4-4e04-ac2b-5afb679761cd\">\n",
              "    <div class=\"colab-df-container\">\n",
              "      <div>\n",
              "<style scoped>\n",
              "    .dataframe tbody tr th:only-of-type {\n",
              "        vertical-align: middle;\n",
              "    }\n",
              "\n",
              "    .dataframe tbody tr th {\n",
              "        vertical-align: top;\n",
              "    }\n",
              "\n",
              "    .dataframe thead th {\n",
              "        text-align: right;\n",
              "    }\n",
              "</style>\n",
              "<table border=\"1\" class=\"dataframe\">\n",
              "  <thead>\n",
              "    <tr style=\"text-align: right;\">\n",
              "      <th></th>\n",
              "      <th></th>\n",
              "      <th></th>\n",
              "      <th>Text</th>\n",
              "      <th>hate_words</th>\n",
              "      <th>Text_clean</th>\n",
              "      <th>hate_words_clean</th>\n",
              "      <th>word_count</th>\n",
              "    </tr>\n",
              "    <tr>\n",
              "      <th>category</th>\n",
              "      <th>Label</th>\n",
              "      <th>data_type</th>\n",
              "      <th></th>\n",
              "      <th></th>\n",
              "      <th></th>\n",
              "      <th></th>\n",
              "      <th></th>\n",
              "    </tr>\n",
              "  </thead>\n",
              "  <tbody>\n",
              "    <tr>\n",
              "      <th rowspan=\"3\" valign=\"top\">hate_speech</th>\n",
              "      <th rowspan=\"3\" valign=\"top\">1</th>\n",
              "      <th>test</th>\n",
              "      <td>32</td>\n",
              "      <td>32</td>\n",
              "      <td>32</td>\n",
              "      <td>32</td>\n",
              "      <td>32</td>\n",
              "    </tr>\n",
              "    <tr>\n",
              "      <th>train</th>\n",
              "      <td>256</td>\n",
              "      <td>256</td>\n",
              "      <td>256</td>\n",
              "      <td>256</td>\n",
              "      <td>256</td>\n",
              "    </tr>\n",
              "    <tr>\n",
              "      <th>val</th>\n",
              "      <td>28</td>\n",
              "      <td>28</td>\n",
              "      <td>28</td>\n",
              "      <td>28</td>\n",
              "      <td>28</td>\n",
              "    </tr>\n",
              "    <tr>\n",
              "      <th rowspan=\"3\" valign=\"top\">non_hate_speech</th>\n",
              "      <th rowspan=\"3\" valign=\"top\">0</th>\n",
              "      <th>test</th>\n",
              "      <td>314</td>\n",
              "      <td>314</td>\n",
              "      <td>313</td>\n",
              "      <td>314</td>\n",
              "      <td>313</td>\n",
              "    </tr>\n",
              "    <tr>\n",
              "      <th>train</th>\n",
              "      <td>2546</td>\n",
              "      <td>2546</td>\n",
              "      <td>2543</td>\n",
              "      <td>2546</td>\n",
              "      <td>2543</td>\n",
              "    </tr>\n",
              "    <tr>\n",
              "      <th>val</th>\n",
              "      <td>284</td>\n",
              "      <td>284</td>\n",
              "      <td>283</td>\n",
              "      <td>284</td>\n",
              "      <td>283</td>\n",
              "    </tr>\n",
              "  </tbody>\n",
              "</table>\n",
              "</div>\n",
              "      <button class=\"colab-df-convert\" onclick=\"convertToInteractive('df-55d52900-44f4-4e04-ac2b-5afb679761cd')\"\n",
              "              title=\"Convert this dataframe to an interactive table.\"\n",
              "              style=\"display:none;\">\n",
              "        \n",
              "  <svg xmlns=\"http://www.w3.org/2000/svg\" height=\"24px\"viewBox=\"0 0 24 24\"\n",
              "       width=\"24px\">\n",
              "    <path d=\"M0 0h24v24H0V0z\" fill=\"none\"/>\n",
              "    <path d=\"M18.56 5.44l.94 2.06.94-2.06 2.06-.94-2.06-.94-.94-2.06-.94 2.06-2.06.94zm-11 1L8.5 8.5l.94-2.06 2.06-.94-2.06-.94L8.5 2.5l-.94 2.06-2.06.94zm10 10l.94 2.06.94-2.06 2.06-.94-2.06-.94-.94-2.06-.94 2.06-2.06.94z\"/><path d=\"M17.41 7.96l-1.37-1.37c-.4-.4-.92-.59-1.43-.59-.52 0-1.04.2-1.43.59L10.3 9.45l-7.72 7.72c-.78.78-.78 2.05 0 2.83L4 21.41c.39.39.9.59 1.41.59.51 0 1.02-.2 1.41-.59l7.78-7.78 2.81-2.81c.8-.78.8-2.07 0-2.86zM5.41 20L4 18.59l7.72-7.72 1.47 1.35L5.41 20z\"/>\n",
              "  </svg>\n",
              "      </button>\n",
              "      \n",
              "  <style>\n",
              "    .colab-df-container {\n",
              "      display:flex;\n",
              "      flex-wrap:wrap;\n",
              "      gap: 12px;\n",
              "    }\n",
              "\n",
              "    .colab-df-convert {\n",
              "      background-color: #E8F0FE;\n",
              "      border: none;\n",
              "      border-radius: 50%;\n",
              "      cursor: pointer;\n",
              "      display: none;\n",
              "      fill: #1967D2;\n",
              "      height: 32px;\n",
              "      padding: 0 0 0 0;\n",
              "      width: 32px;\n",
              "    }\n",
              "\n",
              "    .colab-df-convert:hover {\n",
              "      background-color: #E2EBFA;\n",
              "      box-shadow: 0px 1px 2px rgba(60, 64, 67, 0.3), 0px 1px 3px 1px rgba(60, 64, 67, 0.15);\n",
              "      fill: #174EA6;\n",
              "    }\n",
              "\n",
              "    [theme=dark] .colab-df-convert {\n",
              "      background-color: #3B4455;\n",
              "      fill: #D2E3FC;\n",
              "    }\n",
              "\n",
              "    [theme=dark] .colab-df-convert:hover {\n",
              "      background-color: #434B5C;\n",
              "      box-shadow: 0px 1px 3px 1px rgba(0, 0, 0, 0.15);\n",
              "      filter: drop-shadow(0px 1px 2px rgba(0, 0, 0, 0.3));\n",
              "      fill: #FFFFFF;\n",
              "    }\n",
              "  </style>\n",
              "\n",
              "      <script>\n",
              "        const buttonEl =\n",
              "          document.querySelector('#df-55d52900-44f4-4e04-ac2b-5afb679761cd button.colab-df-convert');\n",
              "        buttonEl.style.display =\n",
              "          google.colab.kernel.accessAllowed ? 'block' : 'none';\n",
              "\n",
              "        async function convertToInteractive(key) {\n",
              "          const element = document.querySelector('#df-55d52900-44f4-4e04-ac2b-5afb679761cd');\n",
              "          const dataTable =\n",
              "            await google.colab.kernel.invokeFunction('convertToInteractive',\n",
              "                                                     [key], {});\n",
              "          if (!dataTable) return;\n",
              "\n",
              "          const docLinkHtml = 'Like what you see? Visit the ' +\n",
              "            '<a target=\"_blank\" href=https://colab.research.google.com/notebooks/data_table.ipynb>data table notebook</a>'\n",
              "            + ' to learn more about interactive tables.';\n",
              "          element.innerHTML = '';\n",
              "          dataTable['output_type'] = 'display_data';\n",
              "          await google.colab.output.renderOutput(dataTable, element);\n",
              "          const docLink = document.createElement('div');\n",
              "          docLink.innerHTML = docLinkHtml;\n",
              "          element.appendChild(docLink);\n",
              "        }\n",
              "      </script>\n",
              "    </div>\n",
              "  </div>\n",
              "  "
            ]
          },
          "metadata": {},
          "execution_count": 14
        }
      ]
    },
    {
      "cell_type": "code",
      "source": [
        "df_train = df_utube.loc[df_utube[\"data_type\"]==\"train\"]\n",
        "df_train.head(5)"
      ],
      "metadata": {
        "colab": {
          "base_uri": "https://localhost:8080/",
          "height": 354
        },
        "outputId": "985bb43f-0788-45d9-9172-fb8d06306d93",
        "id": "Tuw9Ds5ESG8E"
      },
      "execution_count": 15,
      "outputs": [
        {
          "output_type": "execute_result",
          "data": {
            "text/plain": [
              "                                                Text hate_words  Label  \\\n",
              "0  Does N.e.bodyelse Hear her Crazy ass Screamin ...          0      0   \n",
              "4  DongHaeTaemin and Kai ;A; luhansehun and bacon...          0      0   \n",
              "5  jejus lindos de maiss carlos canta um ritmo ma...          0      0   \n",
              "6                                          Ale pajac          0      0   \n",
              "8  nicki's too sexy holy hell oh. my. god. DON'T ...          0      0   \n",
              "\n",
              "                                          Text_clean hate_words_clean  \\\n",
              "0  does n e bodyelse hear crazy ass screamin hoe ...                0   \n",
              "4  donghaetaemin kai a luhansehun bacon xd taemin...                0   \n",
              "5  jejus lindos de maiss carlos canta um ritmo ma...                0   \n",
              "6                                          ale pajac                0   \n",
              "8  nickis sexy holy hell oh god dont turn my musi...                0   \n",
              "\n",
              "          category  word_count data_type  \n",
              "0  non_hate_speech        67.0     train  \n",
              "4  non_hate_speech        62.0     train  \n",
              "5  non_hate_speech        66.0     train  \n",
              "6  non_hate_speech         2.0     train  \n",
              "8  non_hate_speech        45.0     train  "
            ],
            "text/html": [
              "\n",
              "  <div id=\"df-9305b260-5a1c-46e4-a433-1e3ae7bd0c1b\">\n",
              "    <div class=\"colab-df-container\">\n",
              "      <div>\n",
              "<style scoped>\n",
              "    .dataframe tbody tr th:only-of-type {\n",
              "        vertical-align: middle;\n",
              "    }\n",
              "\n",
              "    .dataframe tbody tr th {\n",
              "        vertical-align: top;\n",
              "    }\n",
              "\n",
              "    .dataframe thead th {\n",
              "        text-align: right;\n",
              "    }\n",
              "</style>\n",
              "<table border=\"1\" class=\"dataframe\">\n",
              "  <thead>\n",
              "    <tr style=\"text-align: right;\">\n",
              "      <th></th>\n",
              "      <th>Text</th>\n",
              "      <th>hate_words</th>\n",
              "      <th>Label</th>\n",
              "      <th>Text_clean</th>\n",
              "      <th>hate_words_clean</th>\n",
              "      <th>category</th>\n",
              "      <th>word_count</th>\n",
              "      <th>data_type</th>\n",
              "    </tr>\n",
              "  </thead>\n",
              "  <tbody>\n",
              "    <tr>\n",
              "      <th>0</th>\n",
              "      <td>Does N.e.bodyelse Hear her Crazy ass Screamin ...</td>\n",
              "      <td>0</td>\n",
              "      <td>0</td>\n",
              "      <td>does n e bodyelse hear crazy ass screamin hoe ...</td>\n",
              "      <td>0</td>\n",
              "      <td>non_hate_speech</td>\n",
              "      <td>67.0</td>\n",
              "      <td>train</td>\n",
              "    </tr>\n",
              "    <tr>\n",
              "      <th>4</th>\n",
              "      <td>DongHaeTaemin and Kai ;A; luhansehun and bacon...</td>\n",
              "      <td>0</td>\n",
              "      <td>0</td>\n",
              "      <td>donghaetaemin kai a luhansehun bacon xd taemin...</td>\n",
              "      <td>0</td>\n",
              "      <td>non_hate_speech</td>\n",
              "      <td>62.0</td>\n",
              "      <td>train</td>\n",
              "    </tr>\n",
              "    <tr>\n",
              "      <th>5</th>\n",
              "      <td>jejus lindos de maiss carlos canta um ritmo ma...</td>\n",
              "      <td>0</td>\n",
              "      <td>0</td>\n",
              "      <td>jejus lindos de maiss carlos canta um ritmo ma...</td>\n",
              "      <td>0</td>\n",
              "      <td>non_hate_speech</td>\n",
              "      <td>66.0</td>\n",
              "      <td>train</td>\n",
              "    </tr>\n",
              "    <tr>\n",
              "      <th>6</th>\n",
              "      <td>Ale pajac</td>\n",
              "      <td>0</td>\n",
              "      <td>0</td>\n",
              "      <td>ale pajac</td>\n",
              "      <td>0</td>\n",
              "      <td>non_hate_speech</td>\n",
              "      <td>2.0</td>\n",
              "      <td>train</td>\n",
              "    </tr>\n",
              "    <tr>\n",
              "      <th>8</th>\n",
              "      <td>nicki's too sexy holy hell oh. my. god. DON'T ...</td>\n",
              "      <td>0</td>\n",
              "      <td>0</td>\n",
              "      <td>nickis sexy holy hell oh god dont turn my musi...</td>\n",
              "      <td>0</td>\n",
              "      <td>non_hate_speech</td>\n",
              "      <td>45.0</td>\n",
              "      <td>train</td>\n",
              "    </tr>\n",
              "  </tbody>\n",
              "</table>\n",
              "</div>\n",
              "      <button class=\"colab-df-convert\" onclick=\"convertToInteractive('df-9305b260-5a1c-46e4-a433-1e3ae7bd0c1b')\"\n",
              "              title=\"Convert this dataframe to an interactive table.\"\n",
              "              style=\"display:none;\">\n",
              "        \n",
              "  <svg xmlns=\"http://www.w3.org/2000/svg\" height=\"24px\"viewBox=\"0 0 24 24\"\n",
              "       width=\"24px\">\n",
              "    <path d=\"M0 0h24v24H0V0z\" fill=\"none\"/>\n",
              "    <path d=\"M18.56 5.44l.94 2.06.94-2.06 2.06-.94-2.06-.94-.94-2.06-.94 2.06-2.06.94zm-11 1L8.5 8.5l.94-2.06 2.06-.94-2.06-.94L8.5 2.5l-.94 2.06-2.06.94zm10 10l.94 2.06.94-2.06 2.06-.94-2.06-.94-.94-2.06-.94 2.06-2.06.94z\"/><path d=\"M17.41 7.96l-1.37-1.37c-.4-.4-.92-.59-1.43-.59-.52 0-1.04.2-1.43.59L10.3 9.45l-7.72 7.72c-.78.78-.78 2.05 0 2.83L4 21.41c.39.39.9.59 1.41.59.51 0 1.02-.2 1.41-.59l7.78-7.78 2.81-2.81c.8-.78.8-2.07 0-2.86zM5.41 20L4 18.59l7.72-7.72 1.47 1.35L5.41 20z\"/>\n",
              "  </svg>\n",
              "      </button>\n",
              "      \n",
              "  <style>\n",
              "    .colab-df-container {\n",
              "      display:flex;\n",
              "      flex-wrap:wrap;\n",
              "      gap: 12px;\n",
              "    }\n",
              "\n",
              "    .colab-df-convert {\n",
              "      background-color: #E8F0FE;\n",
              "      border: none;\n",
              "      border-radius: 50%;\n",
              "      cursor: pointer;\n",
              "      display: none;\n",
              "      fill: #1967D2;\n",
              "      height: 32px;\n",
              "      padding: 0 0 0 0;\n",
              "      width: 32px;\n",
              "    }\n",
              "\n",
              "    .colab-df-convert:hover {\n",
              "      background-color: #E2EBFA;\n",
              "      box-shadow: 0px 1px 2px rgba(60, 64, 67, 0.3), 0px 1px 3px 1px rgba(60, 64, 67, 0.15);\n",
              "      fill: #174EA6;\n",
              "    }\n",
              "\n",
              "    [theme=dark] .colab-df-convert {\n",
              "      background-color: #3B4455;\n",
              "      fill: #D2E3FC;\n",
              "    }\n",
              "\n",
              "    [theme=dark] .colab-df-convert:hover {\n",
              "      background-color: #434B5C;\n",
              "      box-shadow: 0px 1px 3px 1px rgba(0, 0, 0, 0.15);\n",
              "      filter: drop-shadow(0px 1px 2px rgba(0, 0, 0, 0.3));\n",
              "      fill: #FFFFFF;\n",
              "    }\n",
              "  </style>\n",
              "\n",
              "      <script>\n",
              "        const buttonEl =\n",
              "          document.querySelector('#df-9305b260-5a1c-46e4-a433-1e3ae7bd0c1b button.colab-df-convert');\n",
              "        buttonEl.style.display =\n",
              "          google.colab.kernel.accessAllowed ? 'block' : 'none';\n",
              "\n",
              "        async function convertToInteractive(key) {\n",
              "          const element = document.querySelector('#df-9305b260-5a1c-46e4-a433-1e3ae7bd0c1b');\n",
              "          const dataTable =\n",
              "            await google.colab.kernel.invokeFunction('convertToInteractive',\n",
              "                                                     [key], {});\n",
              "          if (!dataTable) return;\n",
              "\n",
              "          const docLinkHtml = 'Like what you see? Visit the ' +\n",
              "            '<a target=\"_blank\" href=https://colab.research.google.com/notebooks/data_table.ipynb>data table notebook</a>'\n",
              "            + ' to learn more about interactive tables.';\n",
              "          element.innerHTML = '';\n",
              "          dataTable['output_type'] = 'display_data';\n",
              "          await google.colab.output.renderOutput(dataTable, element);\n",
              "          const docLink = document.createElement('div');\n",
              "          docLink.innerHTML = docLinkHtml;\n",
              "          element.appendChild(docLink);\n",
              "        }\n",
              "      </script>\n",
              "    </div>\n",
              "  </div>\n",
              "  "
            ]
          },
          "metadata": {},
          "execution_count": 15
        }
      ]
    },
    {
      "cell_type": "code",
      "source": [
        "df_val = df_utube.loc[df_utube[\"data_type\"]==\"val\"]\n",
        "df_val.head(5)"
      ],
      "metadata": {
        "colab": {
          "base_uri": "https://localhost:8080/",
          "height": 354
        },
        "outputId": "7d5d8436-9c15-4f0a-ea5a-8285329aa211",
        "id": "EW07xgvSSG8E"
      },
      "execution_count": 16,
      "outputs": [
        {
          "output_type": "execute_result",
          "data": {
            "text/plain": [
              "                                                 Text hate_words  Label  \\\n",
              "2   3:26 hahah my boyfriend showed this song to me...          0      0   \n",
              "7   How's ,freedom, working out for you? Still liv...          0      0   \n",
              "16  i like that song cool video but i hated the bl...          0      0   \n",
              "22  Osama Bin Ladin vs. Satan Note to self: Play t...          0      0   \n",
              "25  Monkey D. Ruffy *-*Tolles Video :)! Wow! Toll ...          0      0   \n",
              "\n",
              "                                           Text_clean hate_words_clean  \\\n",
              "2   326 hahah boyfriend showed song i love me tooo...                0   \n",
              "7   hows freedom working still living foreign aid ...                0   \n",
              "16  like song cool video hated black spots kept co...                0   \n",
              "22  osama bin ladin vs satan note self play turbo ...                0   \n",
              "25  monkey d ruffy tolles video wow toll gemacht e...                0   \n",
              "\n",
              "           category  word_count data_type  \n",
              "2   non_hate_speech        23.0       val  \n",
              "7   non_hate_speech       208.0       val  \n",
              "16  non_hate_speech        20.0       val  \n",
              "22  non_hate_speech       248.0       val  \n",
              "25  non_hate_speech        45.0       val  "
            ],
            "text/html": [
              "\n",
              "  <div id=\"df-ee3c6a0d-1b8c-47f7-898c-e39c1330563f\">\n",
              "    <div class=\"colab-df-container\">\n",
              "      <div>\n",
              "<style scoped>\n",
              "    .dataframe tbody tr th:only-of-type {\n",
              "        vertical-align: middle;\n",
              "    }\n",
              "\n",
              "    .dataframe tbody tr th {\n",
              "        vertical-align: top;\n",
              "    }\n",
              "\n",
              "    .dataframe thead th {\n",
              "        text-align: right;\n",
              "    }\n",
              "</style>\n",
              "<table border=\"1\" class=\"dataframe\">\n",
              "  <thead>\n",
              "    <tr style=\"text-align: right;\">\n",
              "      <th></th>\n",
              "      <th>Text</th>\n",
              "      <th>hate_words</th>\n",
              "      <th>Label</th>\n",
              "      <th>Text_clean</th>\n",
              "      <th>hate_words_clean</th>\n",
              "      <th>category</th>\n",
              "      <th>word_count</th>\n",
              "      <th>data_type</th>\n",
              "    </tr>\n",
              "  </thead>\n",
              "  <tbody>\n",
              "    <tr>\n",
              "      <th>2</th>\n",
              "      <td>3:26 hahah my boyfriend showed this song to me...</td>\n",
              "      <td>0</td>\n",
              "      <td>0</td>\n",
              "      <td>326 hahah boyfriend showed song i love me tooo...</td>\n",
              "      <td>0</td>\n",
              "      <td>non_hate_speech</td>\n",
              "      <td>23.0</td>\n",
              "      <td>val</td>\n",
              "    </tr>\n",
              "    <tr>\n",
              "      <th>7</th>\n",
              "      <td>How's ,freedom, working out for you? Still liv...</td>\n",
              "      <td>0</td>\n",
              "      <td>0</td>\n",
              "      <td>hows freedom working still living foreign aid ...</td>\n",
              "      <td>0</td>\n",
              "      <td>non_hate_speech</td>\n",
              "      <td>208.0</td>\n",
              "      <td>val</td>\n",
              "    </tr>\n",
              "    <tr>\n",
              "      <th>16</th>\n",
              "      <td>i like that song cool video but i hated the bl...</td>\n",
              "      <td>0</td>\n",
              "      <td>0</td>\n",
              "      <td>like song cool video hated black spots kept co...</td>\n",
              "      <td>0</td>\n",
              "      <td>non_hate_speech</td>\n",
              "      <td>20.0</td>\n",
              "      <td>val</td>\n",
              "    </tr>\n",
              "    <tr>\n",
              "      <th>22</th>\n",
              "      <td>Osama Bin Ladin vs. Satan Note to self: Play t...</td>\n",
              "      <td>0</td>\n",
              "      <td>0</td>\n",
              "      <td>osama bin ladin vs satan note self play turbo ...</td>\n",
              "      <td>0</td>\n",
              "      <td>non_hate_speech</td>\n",
              "      <td>248.0</td>\n",
              "      <td>val</td>\n",
              "    </tr>\n",
              "    <tr>\n",
              "      <th>25</th>\n",
              "      <td>Monkey D. Ruffy *-*Tolles Video :)! Wow! Toll ...</td>\n",
              "      <td>0</td>\n",
              "      <td>0</td>\n",
              "      <td>monkey d ruffy tolles video wow toll gemacht e...</td>\n",
              "      <td>0</td>\n",
              "      <td>non_hate_speech</td>\n",
              "      <td>45.0</td>\n",
              "      <td>val</td>\n",
              "    </tr>\n",
              "  </tbody>\n",
              "</table>\n",
              "</div>\n",
              "      <button class=\"colab-df-convert\" onclick=\"convertToInteractive('df-ee3c6a0d-1b8c-47f7-898c-e39c1330563f')\"\n",
              "              title=\"Convert this dataframe to an interactive table.\"\n",
              "              style=\"display:none;\">\n",
              "        \n",
              "  <svg xmlns=\"http://www.w3.org/2000/svg\" height=\"24px\"viewBox=\"0 0 24 24\"\n",
              "       width=\"24px\">\n",
              "    <path d=\"M0 0h24v24H0V0z\" fill=\"none\"/>\n",
              "    <path d=\"M18.56 5.44l.94 2.06.94-2.06 2.06-.94-2.06-.94-.94-2.06-.94 2.06-2.06.94zm-11 1L8.5 8.5l.94-2.06 2.06-.94-2.06-.94L8.5 2.5l-.94 2.06-2.06.94zm10 10l.94 2.06.94-2.06 2.06-.94-2.06-.94-.94-2.06-.94 2.06-2.06.94z\"/><path d=\"M17.41 7.96l-1.37-1.37c-.4-.4-.92-.59-1.43-.59-.52 0-1.04.2-1.43.59L10.3 9.45l-7.72 7.72c-.78.78-.78 2.05 0 2.83L4 21.41c.39.39.9.59 1.41.59.51 0 1.02-.2 1.41-.59l7.78-7.78 2.81-2.81c.8-.78.8-2.07 0-2.86zM5.41 20L4 18.59l7.72-7.72 1.47 1.35L5.41 20z\"/>\n",
              "  </svg>\n",
              "      </button>\n",
              "      \n",
              "  <style>\n",
              "    .colab-df-container {\n",
              "      display:flex;\n",
              "      flex-wrap:wrap;\n",
              "      gap: 12px;\n",
              "    }\n",
              "\n",
              "    .colab-df-convert {\n",
              "      background-color: #E8F0FE;\n",
              "      border: none;\n",
              "      border-radius: 50%;\n",
              "      cursor: pointer;\n",
              "      display: none;\n",
              "      fill: #1967D2;\n",
              "      height: 32px;\n",
              "      padding: 0 0 0 0;\n",
              "      width: 32px;\n",
              "    }\n",
              "\n",
              "    .colab-df-convert:hover {\n",
              "      background-color: #E2EBFA;\n",
              "      box-shadow: 0px 1px 2px rgba(60, 64, 67, 0.3), 0px 1px 3px 1px rgba(60, 64, 67, 0.15);\n",
              "      fill: #174EA6;\n",
              "    }\n",
              "\n",
              "    [theme=dark] .colab-df-convert {\n",
              "      background-color: #3B4455;\n",
              "      fill: #D2E3FC;\n",
              "    }\n",
              "\n",
              "    [theme=dark] .colab-df-convert:hover {\n",
              "      background-color: #434B5C;\n",
              "      box-shadow: 0px 1px 3px 1px rgba(0, 0, 0, 0.15);\n",
              "      filter: drop-shadow(0px 1px 2px rgba(0, 0, 0, 0.3));\n",
              "      fill: #FFFFFF;\n",
              "    }\n",
              "  </style>\n",
              "\n",
              "      <script>\n",
              "        const buttonEl =\n",
              "          document.querySelector('#df-ee3c6a0d-1b8c-47f7-898c-e39c1330563f button.colab-df-convert');\n",
              "        buttonEl.style.display =\n",
              "          google.colab.kernel.accessAllowed ? 'block' : 'none';\n",
              "\n",
              "        async function convertToInteractive(key) {\n",
              "          const element = document.querySelector('#df-ee3c6a0d-1b8c-47f7-898c-e39c1330563f');\n",
              "          const dataTable =\n",
              "            await google.colab.kernel.invokeFunction('convertToInteractive',\n",
              "                                                     [key], {});\n",
              "          if (!dataTable) return;\n",
              "\n",
              "          const docLinkHtml = 'Like what you see? Visit the ' +\n",
              "            '<a target=\"_blank\" href=https://colab.research.google.com/notebooks/data_table.ipynb>data table notebook</a>'\n",
              "            + ' to learn more about interactive tables.';\n",
              "          element.innerHTML = '';\n",
              "          dataTable['output_type'] = 'display_data';\n",
              "          await google.colab.output.renderOutput(dataTable, element);\n",
              "          const docLink = document.createElement('div');\n",
              "          docLink.innerHTML = docLinkHtml;\n",
              "          element.appendChild(docLink);\n",
              "        }\n",
              "      </script>\n",
              "    </div>\n",
              "  </div>\n",
              "  "
            ]
          },
          "metadata": {},
          "execution_count": 16
        }
      ]
    },
    {
      "cell_type": "code",
      "source": [
        "df_test = df_utube.loc[df_utube[\"data_type\"]==\"test\"]\n",
        "df_test.head(5)"
      ],
      "metadata": {
        "colab": {
          "base_uri": "https://localhost:8080/",
          "height": 441
        },
        "outputId": "2e6129f0-cc87-43ea-efef-91330fb43429",
        "id": "-P0SiALgSG8E"
      },
      "execution_count": 17,
      "outputs": [
        {
          "output_type": "execute_result",
          "data": {
            "text/plain": [
              "                                                 Text  \\\n",
              "1   There are so many things that are incorrect wi...   \n",
              "3   dick beyonce fuck y a ass hole you are truely ...   \n",
              "24  She is so cute and I like this song but why di...   \n",
              "38  I put that yesterday Thumbs Up if you got here...   \n",
              "72  this sucks... why only big arms ? fake Its fun...   \n",
              "\n",
              "                                           hate_words  Label  \\\n",
              "1                                                   0      0   \n",
              "3   \"\"dick beyonce fuck y a ass hole you are truel...      1   \n",
              "24                                                  0      0   \n",
              "38                                                  0      0   \n",
              "72                                                  0      0   \n",
              "\n",
              "                                           Text_clean  \\\n",
              "1   there many things incorrect comment unbelievab...   \n",
              "3   dick beyonce fuck ass hole truely dog bitch ph...   \n",
              "24  she cute i like song u shave hair you r pretty...   \n",
              "38  i put yesterday thumbs up got scary montage cl...   \n",
              "72  sucks big arms fake its funny fat black widow ...   \n",
              "\n",
              "                                     hate_words_clean         category  \\\n",
              "1                                                   0  non_hate_speech   \n",
              "3   dick beyonce fuck ass hole truely dog bitch ma...      hate_speech   \n",
              "24                                                  0  non_hate_speech   \n",
              "38                                                  0  non_hate_speech   \n",
              "72                                                  0  non_hate_speech   \n",
              "\n",
              "    word_count data_type  \n",
              "1         66.0      test  \n",
              "3        108.0      test  \n",
              "24        90.0      test  \n",
              "38       172.0      test  \n",
              "72       135.0      test  "
            ],
            "text/html": [
              "\n",
              "  <div id=\"df-555c3fc3-f8a8-4af0-a955-4fbe50ae8d18\">\n",
              "    <div class=\"colab-df-container\">\n",
              "      <div>\n",
              "<style scoped>\n",
              "    .dataframe tbody tr th:only-of-type {\n",
              "        vertical-align: middle;\n",
              "    }\n",
              "\n",
              "    .dataframe tbody tr th {\n",
              "        vertical-align: top;\n",
              "    }\n",
              "\n",
              "    .dataframe thead th {\n",
              "        text-align: right;\n",
              "    }\n",
              "</style>\n",
              "<table border=\"1\" class=\"dataframe\">\n",
              "  <thead>\n",
              "    <tr style=\"text-align: right;\">\n",
              "      <th></th>\n",
              "      <th>Text</th>\n",
              "      <th>hate_words</th>\n",
              "      <th>Label</th>\n",
              "      <th>Text_clean</th>\n",
              "      <th>hate_words_clean</th>\n",
              "      <th>category</th>\n",
              "      <th>word_count</th>\n",
              "      <th>data_type</th>\n",
              "    </tr>\n",
              "  </thead>\n",
              "  <tbody>\n",
              "    <tr>\n",
              "      <th>1</th>\n",
              "      <td>There are so many things that are incorrect wi...</td>\n",
              "      <td>0</td>\n",
              "      <td>0</td>\n",
              "      <td>there many things incorrect comment unbelievab...</td>\n",
              "      <td>0</td>\n",
              "      <td>non_hate_speech</td>\n",
              "      <td>66.0</td>\n",
              "      <td>test</td>\n",
              "    </tr>\n",
              "    <tr>\n",
              "      <th>3</th>\n",
              "      <td>dick beyonce fuck y a ass hole you are truely ...</td>\n",
              "      <td>\"\"dick beyonce fuck y a ass hole you are truel...</td>\n",
              "      <td>1</td>\n",
              "      <td>dick beyonce fuck ass hole truely dog bitch ph...</td>\n",
              "      <td>dick beyonce fuck ass hole truely dog bitch ma...</td>\n",
              "      <td>hate_speech</td>\n",
              "      <td>108.0</td>\n",
              "      <td>test</td>\n",
              "    </tr>\n",
              "    <tr>\n",
              "      <th>24</th>\n",
              "      <td>She is so cute and I like this song but why di...</td>\n",
              "      <td>0</td>\n",
              "      <td>0</td>\n",
              "      <td>she cute i like song u shave hair you r pretty...</td>\n",
              "      <td>0</td>\n",
              "      <td>non_hate_speech</td>\n",
              "      <td>90.0</td>\n",
              "      <td>test</td>\n",
              "    </tr>\n",
              "    <tr>\n",
              "      <th>38</th>\n",
              "      <td>I put that yesterday Thumbs Up if you got here...</td>\n",
              "      <td>0</td>\n",
              "      <td>0</td>\n",
              "      <td>i put yesterday thumbs up got scary montage cl...</td>\n",
              "      <td>0</td>\n",
              "      <td>non_hate_speech</td>\n",
              "      <td>172.0</td>\n",
              "      <td>test</td>\n",
              "    </tr>\n",
              "    <tr>\n",
              "      <th>72</th>\n",
              "      <td>this sucks... why only big arms ? fake Its fun...</td>\n",
              "      <td>0</td>\n",
              "      <td>0</td>\n",
              "      <td>sucks big arms fake its funny fat black widow ...</td>\n",
              "      <td>0</td>\n",
              "      <td>non_hate_speech</td>\n",
              "      <td>135.0</td>\n",
              "      <td>test</td>\n",
              "    </tr>\n",
              "  </tbody>\n",
              "</table>\n",
              "</div>\n",
              "      <button class=\"colab-df-convert\" onclick=\"convertToInteractive('df-555c3fc3-f8a8-4af0-a955-4fbe50ae8d18')\"\n",
              "              title=\"Convert this dataframe to an interactive table.\"\n",
              "              style=\"display:none;\">\n",
              "        \n",
              "  <svg xmlns=\"http://www.w3.org/2000/svg\" height=\"24px\"viewBox=\"0 0 24 24\"\n",
              "       width=\"24px\">\n",
              "    <path d=\"M0 0h24v24H0V0z\" fill=\"none\"/>\n",
              "    <path d=\"M18.56 5.44l.94 2.06.94-2.06 2.06-.94-2.06-.94-.94-2.06-.94 2.06-2.06.94zm-11 1L8.5 8.5l.94-2.06 2.06-.94-2.06-.94L8.5 2.5l-.94 2.06-2.06.94zm10 10l.94 2.06.94-2.06 2.06-.94-2.06-.94-.94-2.06-.94 2.06-2.06.94z\"/><path d=\"M17.41 7.96l-1.37-1.37c-.4-.4-.92-.59-1.43-.59-.52 0-1.04.2-1.43.59L10.3 9.45l-7.72 7.72c-.78.78-.78 2.05 0 2.83L4 21.41c.39.39.9.59 1.41.59.51 0 1.02-.2 1.41-.59l7.78-7.78 2.81-2.81c.8-.78.8-2.07 0-2.86zM5.41 20L4 18.59l7.72-7.72 1.47 1.35L5.41 20z\"/>\n",
              "  </svg>\n",
              "      </button>\n",
              "      \n",
              "  <style>\n",
              "    .colab-df-container {\n",
              "      display:flex;\n",
              "      flex-wrap:wrap;\n",
              "      gap: 12px;\n",
              "    }\n",
              "\n",
              "    .colab-df-convert {\n",
              "      background-color: #E8F0FE;\n",
              "      border: none;\n",
              "      border-radius: 50%;\n",
              "      cursor: pointer;\n",
              "      display: none;\n",
              "      fill: #1967D2;\n",
              "      height: 32px;\n",
              "      padding: 0 0 0 0;\n",
              "      width: 32px;\n",
              "    }\n",
              "\n",
              "    .colab-df-convert:hover {\n",
              "      background-color: #E2EBFA;\n",
              "      box-shadow: 0px 1px 2px rgba(60, 64, 67, 0.3), 0px 1px 3px 1px rgba(60, 64, 67, 0.15);\n",
              "      fill: #174EA6;\n",
              "    }\n",
              "\n",
              "    [theme=dark] .colab-df-convert {\n",
              "      background-color: #3B4455;\n",
              "      fill: #D2E3FC;\n",
              "    }\n",
              "\n",
              "    [theme=dark] .colab-df-convert:hover {\n",
              "      background-color: #434B5C;\n",
              "      box-shadow: 0px 1px 3px 1px rgba(0, 0, 0, 0.15);\n",
              "      filter: drop-shadow(0px 1px 2px rgba(0, 0, 0, 0.3));\n",
              "      fill: #FFFFFF;\n",
              "    }\n",
              "  </style>\n",
              "\n",
              "      <script>\n",
              "        const buttonEl =\n",
              "          document.querySelector('#df-555c3fc3-f8a8-4af0-a955-4fbe50ae8d18 button.colab-df-convert');\n",
              "        buttonEl.style.display =\n",
              "          google.colab.kernel.accessAllowed ? 'block' : 'none';\n",
              "\n",
              "        async function convertToInteractive(key) {\n",
              "          const element = document.querySelector('#df-555c3fc3-f8a8-4af0-a955-4fbe50ae8d18');\n",
              "          const dataTable =\n",
              "            await google.colab.kernel.invokeFunction('convertToInteractive',\n",
              "                                                     [key], {});\n",
              "          if (!dataTable) return;\n",
              "\n",
              "          const docLinkHtml = 'Like what you see? Visit the ' +\n",
              "            '<a target=\"_blank\" href=https://colab.research.google.com/notebooks/data_table.ipynb>data table notebook</a>'\n",
              "            + ' to learn more about interactive tables.';\n",
              "          element.innerHTML = '';\n",
              "          dataTable['output_type'] = 'display_data';\n",
              "          await google.colab.output.renderOutput(dataTable, element);\n",
              "          const docLink = document.createElement('div');\n",
              "          docLink.innerHTML = docLinkHtml;\n",
              "          element.appendChild(docLink);\n",
              "        }\n",
              "      </script>\n",
              "    </div>\n",
              "  </div>\n",
              "  "
            ]
          },
          "metadata": {},
          "execution_count": 17
        }
      ]
    },
    {
      "cell_type": "markdown",
      "source": [
        "##2.3 GLOVE embeddings pre-processing"
      ],
      "metadata": {
        "id": "ugSrc5SjLaj3"
      }
    },
    {
      "cell_type": "code",
      "source": [
        "def readGloveFile(gloveFile):\n",
        "    with open(gloveFile, 'r') as f:\n",
        "        wordToGlove = {}  \n",
        "        wordToIndex = {}  \n",
        "        indexToWord = {}  \n",
        "\n",
        "        for line in f:\n",
        "            record = line.strip().split()\n",
        "            token = record[0] \n",
        "            wordToGlove[token] = np.array(record[1:], dtype=np.float64) \n",
        "            \n",
        "        tokens = sorted(wordToGlove.keys())\n",
        "        for idx, tok in enumerate(tokens):\n",
        "            kerasIdx = idx + 1  \n",
        "            wordToIndex[tok] = kerasIdx \n",
        "            indexToWord[kerasIdx] = tok \n",
        "\n",
        "    return wordToIndex, indexToWord, wordToGlove"
      ],
      "metadata": {
        "id": "ICOo1wDJSG8F"
      },
      "execution_count": 18,
      "outputs": []
    },
    {
      "cell_type": "code",
      "source": [
        "from keras.initializers import Constant\n",
        "\n",
        "def createPretrainedEmbeddingLayer(wordToGlove, wordToIndex, isTrainable):\n",
        "    vocabLen = len(wordToIndex) + 1  \n",
        "    embDim = next(iter(wordToGlove.values())).shape[0]  \n",
        "   \n",
        "    embeddingMatrix = np.zeros((vocabLen, embDim))  \n",
        "    for word, index in wordToIndex.items():\n",
        "        embeddingMatrix[index, :] = wordToGlove[word] \n",
        "\n",
        "    embeddingLayer = Embedding(vocabLen, embDim, embeddings_initializer=Constant(embeddingMatrix), trainable=isTrainable, name='GloVe_Embeddings')\n",
        "    return embeddingLayer"
      ],
      "metadata": {
        "id": "yst9GZl7SG8F"
      },
      "execution_count": 19,
      "outputs": []
    },
    {
      "cell_type": "code",
      "source": [
        "!wget http://nlp.stanford.edu/data/glove.6B.zip\n",
        "!unzip '/content/glove.6B.zip'"
      ],
      "metadata": {
        "colab": {
          "base_uri": "https://localhost:8080/"
        },
        "outputId": "8d6f54c2-d44e-427a-f667-9bab2dd0f418",
        "id": "NE_GDtsVSG8F"
      },
      "execution_count": null,
      "outputs": [
        {
          "output_type": "stream",
          "name": "stdout",
          "text": [
            "--2022-08-05 19:26:13--  http://nlp.stanford.edu/data/glove.6B.zip\n",
            "Resolving nlp.stanford.edu (nlp.stanford.edu)... 171.64.67.140\n",
            "Connecting to nlp.stanford.edu (nlp.stanford.edu)|171.64.67.140|:80... connected.\n",
            "HTTP request sent, awaiting response... 302 Found\n",
            "Location: https://nlp.stanford.edu/data/glove.6B.zip [following]\n",
            "--2022-08-05 19:26:13--  https://nlp.stanford.edu/data/glove.6B.zip\n",
            "Connecting to nlp.stanford.edu (nlp.stanford.edu)|171.64.67.140|:443... connected.\n",
            "HTTP request sent, awaiting response... 301 Moved Permanently\n",
            "Location: https://downloads.cs.stanford.edu/nlp/data/glove.6B.zip [following]\n",
            "--2022-08-05 19:26:13--  https://downloads.cs.stanford.edu/nlp/data/glove.6B.zip\n",
            "Resolving downloads.cs.stanford.edu (downloads.cs.stanford.edu)... 171.64.64.22\n",
            "Connecting to downloads.cs.stanford.edu (downloads.cs.stanford.edu)|171.64.64.22|:443... connected.\n",
            "HTTP request sent, awaiting response... 200 OK\n",
            "Length: 862182613 (822M) [application/zip]\n",
            "Saving to: ‘glove.6B.zip’\n",
            "\n",
            "glove.6B.zip        100%[===================>] 822.24M  4.99MB/s    in 2m 39s  \n",
            "\n",
            "2022-08-05 19:28:52 (5.19 MB/s) - ‘glove.6B.zip’ saved [862182613/862182613]\n",
            "\n",
            "Archive:  /content/glove.6B.zip\n",
            "  inflating: glove.6B.50d.txt        \n",
            "  inflating: glove.6B.100d.txt       \n",
            "  inflating: glove.6B.200d.txt       \n",
            "  inflating: glove.6B.300d.txt       \n"
          ]
        }
      ]
    },
    {
      "cell_type": "code",
      "source": [
        "wordToIndex,indexToWord,wordToGlove=readGloveFile('/content/glove.6B.300d.txt')\n",
        "EMBED_SIZE = next(iter(wordToGlove.values())).shape[0]\n",
        "print('Size of Embedding: ',EMBED_SIZE)"
      ],
      "metadata": {
        "colab": {
          "base_uri": "https://localhost:8080/"
        },
        "outputId": "c1d3a0b2-5844-4234-b6d1-ca36a3e40791",
        "id": "Pq6v2eeLSG8G"
      },
      "execution_count": 20,
      "outputs": [
        {
          "output_type": "stream",
          "name": "stdout",
          "text": [
            "Size of Embedding:  300\n"
          ]
        }
      ]
    },
    {
      "cell_type": "code",
      "source": [
        "len(wordToIndex)"
      ],
      "metadata": {
        "colab": {
          "base_uri": "https://localhost:8080/"
        },
        "outputId": "a8ceb8ed-5724-4459-9802-e3d270bd2614",
        "id": "QG-UswvOSG8G"
      },
      "execution_count": 21,
      "outputs": [
        {
          "output_type": "execute_result",
          "data": {
            "text/plain": [
              "400000"
            ]
          },
          "metadata": {},
          "execution_count": 21
        }
      ]
    },
    {
      "cell_type": "code",
      "source": [
        "wordToIndex_new = {\"<PAD>\": 0,\"<START>\": 1,\"<UNK>\":2,\"<EOS>\":3 }\n",
        "wordToIndex_new.update(wordToIndex)"
      ],
      "metadata": {
        "id": "quaEFQXpSG8G"
      },
      "execution_count": 22,
      "outputs": []
    },
    {
      "cell_type": "code",
      "source": [
        "import copy\n",
        "def glove_data(data,data2):\n",
        "  X_data_glove=[]\n",
        "  X_data_glove_2=[]\n",
        "  i=0\n",
        "  for i in range(len(data)):\n",
        "    X_data_glove.append(tf.keras.preprocessing.text.text_to_word_sequence(data[i]))\n",
        "\n",
        "  for i in range(len(data2)):\n",
        "    X_data_glove_2.append(tf.keras.preprocessing.text.text_to_word_sequence(data2[i]))\n",
        "\n",
        "  X_data_glove_int= copy.deepcopy(X_data_glove)\n",
        "\n",
        "  for list1 in X_data_glove_int:\n",
        "    for i in list1:\n",
        "      if i in wordToIndex_new.keys():\n",
        "        index = list1.index(i)\n",
        "        list1[index]=wordToIndex_new.get(i) \n",
        "      else:\n",
        "        index = list1.index(i) #get the index of each word\n",
        "        list1[index]='<UNK>'#if not in wordToIndex_new replace it with <UNK>\n",
        "        list1[index]=wordToIndex_new.get(list1[index])  #replace each word with integer present in wordToIndex_new dictionary\n",
        "\n",
        "\n",
        "\n",
        "  X_data2_glove_int= copy.deepcopy(X_data_glove_2) \n",
        "\n",
        "  for list1 in X_data2_glove_int:\n",
        "    for i in list1:\n",
        "      if i in wordToIndex_new.keys():\n",
        "        index = list1.index(i)\n",
        "        list1[index]=wordToIndex_new.get(i) \n",
        "      else:\n",
        "        index = list1.index(i)\n",
        "        list1[index]='<UNK>'\n",
        "        list1[index]=wordToIndex_new.get(list1[index])  \n",
        "\n",
        "  return (X_data_glove_int,X_data2_glove_int)\n"
      ],
      "metadata": {
        "id": "MaYF1eoeSG8G"
      },
      "execution_count": 23,
      "outputs": []
    },
    {
      "cell_type": "code",
      "source": [
        "df_train_text_list=list(df_train['Text'])\n",
        "df_train_hate_list=list(df_train['hate_words'])"
      ],
      "metadata": {
        "id": "UWTeyxbQSG8H"
      },
      "execution_count": 24,
      "outputs": []
    },
    {
      "cell_type": "code",
      "source": [
        "df_test_text_list=list(df_test['Text'])\n",
        "df_test_hate_list=list(df_test['hate_words'])\n",
        "\n",
        "df_val_text_list=list(df_val['Text'])\n",
        "df_val_hate_list=list(df_val['hate_words'])"
      ],
      "metadata": {
        "id": "CQgjS_1FSG8H"
      },
      "execution_count": 25,
      "outputs": []
    },
    {
      "cell_type": "code",
      "source": [
        "x_train_glove,x_train_glove_2=glove_data(df_train_text_list,df_train_hate_list)\n",
        "x_test_glove,x_test_glove_2=glove_data(df_test_text_list,df_test_hate_list)\n",
        "x_val_glove,x_val_glove_2=glove_data(df_val_text_list,df_val_hate_list)"
      ],
      "metadata": {
        "id": "nDIhYZU1SG8H"
      },
      "execution_count": 26,
      "outputs": []
    },
    {
      "cell_type": "code",
      "source": [
        "import keras\n",
        "x_train_pad_glove = keras.preprocessing.sequence.pad_sequences(x_train_glove,\n",
        "                                                        value=0,\n",
        "                                                        padding='post',\n",
        "                                                        maxlen=500)\n",
        "\n",
        "x_test_pad_glove = keras.preprocessing.sequence.pad_sequences(x_test_glove,\n",
        "                                                       value=0,\n",
        "                                                       padding='post',\n",
        "                                                       maxlen=500)\n",
        "\n",
        "x_val_pad_glove = keras.preprocessing.sequence.pad_sequences(x_val_glove,\n",
        "                                                       value=0,\n",
        "                                                       padding='post',\n",
        "                                                       maxlen=500)"
      ],
      "metadata": {
        "id": "sBZXWuTcSG8I"
      },
      "execution_count": 27,
      "outputs": []
    },
    {
      "cell_type": "code",
      "source": [
        "x_train_pad_glove_2 = keras.preprocessing.sequence.pad_sequences(x_train_glove_2,\n",
        "                                                        value=0,\n",
        "                                                        padding='post',\n",
        "                                                        maxlen=500)\n",
        "\n",
        "x_test_pad_glove_2 = keras.preprocessing.sequence.pad_sequences(x_test_glove_2,\n",
        "                                                       value=0,\n",
        "                                                       padding='post',\n",
        "                                                       maxlen=500)\n",
        "\n",
        "x_val_pad_glove_2 = keras.preprocessing.sequence.pad_sequences(x_val_glove_2,\n",
        "                                                       value=0,\n",
        "                                                       padding='post',\n",
        "                                                       maxlen=500)"
      ],
      "metadata": {
        "id": "eS1L5B1bSG8I"
      },
      "execution_count": 28,
      "outputs": []
    },
    {
      "cell_type": "code",
      "source": [
        "from keras.initializers import Constant\n",
        "\n",
        "def createPretrainedEmbeddingLayer(wordToGlove, wordToIndex, isTrainable):\n",
        "    vocabLen = len(wordToIndex) + 1  \n",
        "    embDim = next(iter(wordToGlove.values())).shape[0]  \n",
        "   \n",
        "    embeddingMatrix = np.zeros((vocabLen, embDim))  \n",
        "    for word, index in wordToIndex.items():\n",
        "        embeddingMatrix[index, :] = wordToGlove[word] \n",
        "\n",
        "    embeddingLayer = Embedding(vocabLen, embDim, embeddings_initializer=Constant(embeddingMatrix), trainable=isTrainable, name='GloVe_Embeddings')\n",
        "    return embeddingLayer"
      ],
      "metadata": {
        "id": "Vp4wbtxvSG8I"
      },
      "execution_count": 29,
      "outputs": []
    },
    {
      "cell_type": "code",
      "source": [
        "from keras.initializers import Constant\n",
        "\n",
        "def createPretrainedEmbeddingLayer_2(wordToGlove, wordToIndex, isTrainable):\n",
        "    vocabLen = len(wordToIndex) + 1  \n",
        "    embDim = next(iter(wordToGlove.values())).shape[0]  \n",
        "   \n",
        "    embeddingMatrix = np.zeros((vocabLen, embDim))  \n",
        "    for word, index in wordToIndex.items():\n",
        "        embeddingMatrix[index, :] = wordToGlove[word] \n",
        "\n",
        "    embeddingLayer = Embedding(vocabLen, embDim, embeddings_initializer=Constant(embeddingMatrix), trainable=isTrainable, name='GloVe_Embeddings_2')\n",
        "    return embeddingLayer"
      ],
      "metadata": {
        "id": "ANzxw3r0SG8J"
      },
      "execution_count": 30,
      "outputs": []
    },
    {
      "cell_type": "code",
      "source": [
        "from keras.layers import Lambda, GlobalAveragePooling1D\n",
        "class GlobalAveragePooling1DMasked(GlobalAveragePooling1D):\n",
        "    def call(self, x, mask=None):\n",
        "        if mask != None:\n",
        "            return K.sum(x, axis=1) / K.sum(mask, axis=1)\n",
        "        else:\n",
        "            return super().call(x)"
      ],
      "metadata": {
        "id": "PMS4SqI6SG8J"
      },
      "execution_count": 31,
      "outputs": []
    },
    {
      "cell_type": "markdown",
      "source": [
        "##2.4 GLOVE embeddings + LSTM "
      ],
      "metadata": {
        "id": "wRjr1o-eLf-Q"
      }
    },
    {
      "cell_type": "code",
      "metadata": {
        "id": "WmPaBekwSG8J"
      },
      "source": [
        "sequence_input = Input(shape=(500,), dtype='int32')\n",
        "sequence_input2 = Input(shape=(500,), dtype='int32')\n",
        "embeddingLayer=createPretrainedEmbeddingLayer(wordToGlove,wordToIndex,isTrainable=True)(sequence_input)\n",
        "embeddingLayer2=createPretrainedEmbeddingLayer_2(wordToGlove,wordToIndex,isTrainable=True)(sequence_input2)\n",
        "combined=tf.keras.layers.Concatenate()([embeddingLayer, embeddingLayer2])\n",
        "x = LSTM(60, return_sequences=True,name='lstm_layer')(combined)\n",
        "x=GlobalAveragePooling1DMasked()(x)\n",
        "x = Dropout(0.1)(x)\n",
        "preds = Dense(1, activation=\"sigmoid\",kernel_regularizer='l2')(x)"
      ],
      "execution_count": 33,
      "outputs": []
    },
    {
      "cell_type": "code",
      "source": [
        "METRICS = [\n",
        "      tf.keras.metrics.Precision(name='precision'),\n",
        "      tf.keras.metrics.Recall(name='recall'),\n",
        "      tf.keras.metrics.TruePositives(name='TP')\n",
        "]"
      ],
      "metadata": {
        "id": "QUP2yUt_SG8J"
      },
      "execution_count": 34,
      "outputs": []
    },
    {
      "cell_type": "code",
      "metadata": {
        "colab": {
          "base_uri": "https://localhost:8080/"
        },
        "outputId": "26602a02-331b-446b-f81f-dee8e8fe10de",
        "id": "GyrvNRcpSG8J"
      },
      "source": [
        "model = Model([sequence_input,sequence_input2], preds)\n",
        "model.compile(optimizer='adam',loss = tf.keras.losses.BinaryCrossentropy(from_logits=True), metrics=METRICS)\n",
        "model.summary()"
      ],
      "execution_count": 35,
      "outputs": [
        {
          "output_type": "stream",
          "name": "stdout",
          "text": [
            "Model: \"model\"\n",
            "__________________________________________________________________________________________________\n",
            " Layer (type)                   Output Shape         Param #     Connected to                     \n",
            "==================================================================================================\n",
            " input_1 (InputLayer)           [(None, 500)]        0           []                               \n",
            "                                                                                                  \n",
            " input_2 (InputLayer)           [(None, 500)]        0           []                               \n",
            "                                                                                                  \n",
            " GloVe_Embeddings (Embedding)   (None, 500, 300)     120000300   ['input_1[0][0]']                \n",
            "                                                                                                  \n",
            " GloVe_Embeddings_2 (Embedding)  (None, 500, 300)    120000300   ['input_2[0][0]']                \n",
            "                                                                                                  \n",
            " concatenate (Concatenate)      (None, 500, 600)     0           ['GloVe_Embeddings[0][0]',       \n",
            "                                                                  'GloVe_Embeddings_2[0][0]']     \n",
            "                                                                                                  \n",
            " lstm_layer (LSTM)              (None, 500, 60)      158640      ['concatenate[0][0]']            \n",
            "                                                                                                  \n",
            " global_average_pooling1d_maske  (None, 60)          0           ['lstm_layer[0][0]']             \n",
            " d (GlobalAveragePooling1DMaske                                                                   \n",
            " d)                                                                                               \n",
            "                                                                                                  \n",
            " dropout (Dropout)              (None, 60)           0           ['global_average_pooling1d_masked\n",
            "                                                                 [0][0]']                         \n",
            "                                                                                                  \n",
            " dense (Dense)                  (None, 1)            61          ['dropout[0][0]']                \n",
            "                                                                                                  \n",
            "==================================================================================================\n",
            "Total params: 240,159,301\n",
            "Trainable params: 240,159,301\n",
            "Non-trainable params: 0\n",
            "__________________________________________________________________________________________________\n"
          ]
        }
      ]
    },
    {
      "cell_type": "code",
      "metadata": {
        "colab": {
          "base_uri": "https://localhost:8080/",
          "height": 661
        },
        "outputId": "5f2759ed-c738-47dd-e0ab-99217480d73b",
        "id": "tWX0DtMWSG8K"
      },
      "source": [
        "tf.keras.utils.plot_model(model)"
      ],
      "execution_count": 36,
      "outputs": [
        {
          "output_type": "execute_result",
          "data": {
            "text/plain": [
              "<IPython.core.display.Image object>"
            ],
            "image/png": "[encoded data removed]"
          },
          "metadata": {},
          "execution_count": 36
        }
      ]
    },
    {
      "cell_type": "code",
      "source": [
        "y_train=np.array(df_train['Label'])\n",
        "y_test=np.array(df_test['Label'])\n",
        "y_val=np.array(df_val['Label'])"
      ],
      "metadata": {
        "id": "1y1ls1uSSG8K"
      },
      "execution_count": 37,
      "outputs": []
    },
    {
      "cell_type": "code",
      "source": [
        "from keras.callbacks import ModelCheckpoint, EarlyStopping\n",
        "checkpoint = ModelCheckpoint(\"golve_load_file_utube.h5\",\n",
        "                             monitor=\"val_TP\",\n",
        "                             mode=\"max\",\n",
        "                             save_best_only = True,\n",
        "                             verbose=1)"
      ],
      "metadata": {
        "id": "cgbq6W-mSG8K"
      },
      "execution_count": 38,
      "outputs": []
    },
    {
      "cell_type": "code",
      "source": [
        "earlystop = EarlyStopping(monitor = 'val_TP', # value being monitored for improvement\n",
        "                          min_delta = 0, #Abs value and is the min change required before we stop\n",
        "                          patience = 2, #Number of epochs we wait before stopping \n",
        "                          verbose = 1,\n",
        "                          restore_best_weights = True) #keeps the best weigths once stopped\n",
        "\n",
        "# we put our call backs into a callback list\n",
        "callbacks = [earlystop, checkpoint]"
      ],
      "metadata": {
        "id": "qB1nGxo2SG8K"
      },
      "execution_count": 39,
      "outputs": []
    },
    {
      "cell_type": "code",
      "metadata": {
        "colab": {
          "base_uri": "https://localhost:8080/"
        },
        "outputId": "47feafe4-dfc2-4cee-cbff-864620aac819",
        "id": "DzblVuLDSG8K"
      },
      "source": [
        "print('Training progress:')\n",
        "history = model.fit([x_train_pad_glove,x_train_pad_glove_2], \n",
        "                    y_train,\n",
        "                    class_weight=class_weights,\n",
        "                    epochs = 10, \n",
        "                    batch_size=32, \n",
        "                    callbacks = callbacks,\n",
        "                    validation_data=([x_val_pad_glove,x_val_pad_glove_2],y_val))"
      ],
      "execution_count": 40,
      "outputs": [
        {
          "output_type": "stream",
          "name": "stdout",
          "text": [
            "Training progress:\n",
            "Epoch 1/10\n"
          ]
        },
        {
          "output_type": "stream",
          "name": "stderr",
          "text": [
            "/usr/local/lib/python3.7/dist-packages/tensorflow/python/util/dispatch.py:1082: UserWarning: \"`binary_crossentropy` received `from_logits=True`, but the `output` argument was produced by a sigmoid or softmax activation and thus does not represent logits. Was this intended?\"\n",
            "  return dispatch_target(*args, **kwargs)\n"
          ]
        },
        {
          "output_type": "stream",
          "name": "stdout",
          "text": [
            "88/88 [==============================] - ETA: 0s - loss: 0.6052 - precision: 0.1895 - recall: 0.6875 - TP: 176.0000\n",
            "Epoch 1: val_TP improved from -inf to 25.00000, saving model to golve_load_file_utube.h5\n",
            "88/88 [==============================] - 188s 2s/step - loss: 0.6052 - precision: 0.1895 - recall: 0.6875 - TP: 176.0000 - val_loss: 0.7078 - val_precision: 0.5208 - val_recall: 0.8929 - val_TP: 25.0000\n",
            "Epoch 2/10\n",
            "88/88 [==============================] - ETA: 0s - loss: 0.1047 - precision: 0.9653 - recall: 0.9766 - TP: 250.0000\n",
            "Epoch 2: val_TP did not improve from 25.00000\n",
            "88/88 [==============================] - 8s 90ms/step - loss: 0.1047 - precision: 0.9653 - recall: 0.9766 - TP: 250.0000 - val_loss: 0.0768 - val_precision: 1.0000 - val_recall: 0.8929 - val_TP: 25.0000\n",
            "Epoch 3/10\n",
            "88/88 [==============================] - ETA: 0s - loss: 0.0701 - precision: 1.0000 - recall: 0.9805 - TP: 251.0000Restoring model weights from the end of the best epoch: 1.\n",
            "\n",
            "Epoch 3: val_TP did not improve from 25.00000\n",
            "88/88 [==============================] - 8s 92ms/step - loss: 0.0701 - precision: 1.0000 - recall: 0.9805 - TP: 251.0000 - val_loss: 0.0745 - val_precision: 1.0000 - val_recall: 0.8929 - val_TP: 25.0000\n",
            "Epoch 3: early stopping\n"
          ]
        }
      ]
    },
    {
      "cell_type": "code",
      "source": [
        "history_dict = history.history\n",
        "print(history_dict.keys())\n",
        "\n",
        "TP = history_dict['TP']\n",
        "val_TP = history_dict['val_TP']\n",
        "precision = history_dict['precision']\n",
        "val_precision = history_dict['val_precision']\n",
        "\n",
        "recall = history_dict['recall']\n",
        "val_recall = history_dict['val_recall']\n",
        "\n",
        "epochs = range(1, len(TP) + 1)\n",
        "fig = plt.figure(figsize=(12, 10))\n",
        "fig.tight_layout()\n",
        "\n",
        "plt.subplot(3, 1, 1)\n",
        "plt.plot(epochs, precision, 'r', label='Training precision')\n",
        "plt.plot(epochs, val_precision, 'b', label='Validation precision')\n",
        "plt.title('Training and validation precision')\n",
        "# plt.xlabel('Epochs')\n",
        "plt.ylabel('precision')\n",
        "plt.legend()\n",
        "\n",
        "plt.subplot(3, 1, 2)\n",
        "# \"bo\" is for \"blue dot\"\n",
        "plt.plot(epochs, recall, 'r', label='Training recall')\n",
        "# b is for \"solid blue line\"\n",
        "plt.plot(epochs, val_recall, 'b', label='Validation recall')\n",
        "plt.title('Training and validation recall')\n",
        "#plt.xlabel('Epochs')\n",
        "plt.ylabel('recall')\n",
        "plt.legend()\n",
        "\n",
        "plt.subplot(3, 1, 3)\n",
        "plt.plot(epochs, TP, 'r', label='Training True positive')\n",
        "plt.plot(epochs, val_TP, 'b', label='Validation True positive')\n",
        "plt.title('Training and validation True positive')\n",
        "plt.xlabel('Epochs')\n",
        "plt.ylabel('True positive')\n",
        "plt.legend(loc='lower right')"
      ],
      "metadata": {
        "colab": {
          "base_uri": "https://localhost:8080/",
          "height": 656
        },
        "outputId": "e84e7e04-400f-4138-bf80-c236b00532d1",
        "id": "0xRvAqPgSG8L"
      },
      "execution_count": 41,
      "outputs": [
        {
          "output_type": "stream",
          "name": "stdout",
          "text": [
            "dict_keys(['loss', 'precision', 'recall', 'TP', 'val_loss', 'val_precision', 'val_recall', 'val_TP'])\n"
          ]
        },
        {
          "output_type": "execute_result",
          "data": {
            "text/plain": [
              "<matplotlib.legend.Legend at 0x7ff39d31a950>"
            ]
          },
          "metadata": {},
          "execution_count": 41
        },
        {
          "output_type": "display_data",
          "data": {
            "text/plain": [
              "<Figure size 864x720 with 3 Axes>"
            ],
            "image/png": "[encoded data removed]"
          },
          "metadata": {
            "needs_background": "light"
          }
        }
      ]
    },
    {
      "cell_type": "code",
      "source": [
        "from keras.models import load_model\n",
        "model = tf.keras.models.load_model(('golve_load_file_utube.h5'),custom_objects={'GlobalAveragePooling1DMasked': GlobalAveragePooling1DMasked})"
      ],
      "metadata": {
        "id": "3pe7nVXcW8mb"
      },
      "execution_count": null,
      "outputs": []
    },
    {
      "cell_type": "markdown",
      "source": [
        "###2.4.1 Results"
      ],
      "metadata": {
        "id": "BjloV0QQLkYm"
      }
    },
    {
      "cell_type": "markdown",
      "source": [
        "####2.4.1.1 Predicting"
      ],
      "metadata": {
        "id": "4TyzFx1rLnUK"
      }
    },
    {
      "cell_type": "code",
      "source": [
        "y_pred=model.predict([x_test_pad_glove,x_test_pad_glove_2])\n",
        "y_pred"
      ],
      "metadata": {
        "id": "v59mIlotSG8L"
      },
      "execution_count": null,
      "outputs": []
    },
    {
      "cell_type": "code",
      "source": [
        "y_pred_mod=[]\n",
        "for i in y_pred.tolist():\n",
        "  for k in i:\n",
        "    y_pred_mod.append(k)"
      ],
      "metadata": {
        "id": "eoEYNcV8SG8L"
      },
      "execution_count": 43,
      "outputs": []
    },
    {
      "cell_type": "code",
      "source": [
        "for i in range(len(y_pred_mod)):\n",
        "  if y_pred_mod[i] <= float(0.5):\n",
        "    y_pred_mod[i]= 0\n",
        "  else:\n",
        "    y_pred_mod[i]=1"
      ],
      "metadata": {
        "id": "79kk93eNSG8M"
      },
      "execution_count": 44,
      "outputs": []
    },
    {
      "cell_type": "code",
      "source": [
        "from sklearn.metrics import precision_recall_fscore_support\n",
        "result=precision_recall_fscore_support(y_test, y_pred_mod, average='macro')\n",
        "print('Precision for GLOVE embeddings + hate words + LSTM in YouTube Dataset is:',round(result[0],3))\n",
        "print('Recall for GLOVE embeddings + hate words +LSTM in YouTube Dataset is:',round(result[1],3))\n",
        "print('macro F1 score for GLOVE embeddings + hate words +LSTM in YouTube Dataset is:',round(result[2],3))"
      ],
      "metadata": {
        "id": "no6vSok_FS4d",
        "outputId": "d287a639-a193-4a41-cb4c-23daee393593",
        "colab": {
          "base_uri": "https://localhost:8080/"
        }
      },
      "execution_count": 48,
      "outputs": [
        {
          "output_type": "stream",
          "name": "stdout",
          "text": [
            "Precision for GLOVE embeddings + hate words + LSTM in YouTube Dataset is: 0.781\n",
            "Recall for GLOVE embeddings + hate words +LSTM in YouTube Dataset is: 0.96\n",
            "macro F1 score for GLOVE embeddings + hate words +LSTM in YouTube Dataset is: 0.839\n"
          ]
        }
      ]
    },
    {
      "cell_type": "code",
      "source": [
        "from sklearn.metrics import f1_score\n",
        "f1_score(y_test, y_pred_mod, average='macro')"
      ],
      "metadata": {
        "colab": {
          "base_uri": "https://localhost:8080/"
        },
        "outputId": "210cf536-1d3b-4040-f07b-72f6a8e2fc16",
        "id": "SxpZNuy-SG8M"
      },
      "execution_count": 49,
      "outputs": [
        {
          "output_type": "execute_result",
          "data": {
            "text/plain": [
              "0.8388208768889635"
            ]
          },
          "metadata": {},
          "execution_count": 49
        }
      ]
    },
    {
      "cell_type": "markdown",
      "source": [
        "###2.4.2 Confusion Matrix"
      ],
      "metadata": {
        "id": "irvxhdqkLqJE"
      }
    },
    {
      "cell_type": "code",
      "source": [
        "def matrix_per(cf_matrix):\n",
        "  group_percentages_list=[]\n",
        "  k=cf_matrix.flatten()\n",
        "  for i in range(0,len(cf_matrix.flatten())):\n",
        "    if i == 0 or i == 1:\n",
        "      group_percentages_list.append(k[i]/(k[0] + k[1]))\n",
        "    else:\n",
        "      group_percentages_list.append(k[i]/(k[2] + k[3]))\n",
        "  return group_percentages_list"
      ],
      "metadata": {
        "id": "H1DaHSvJSG8M"
      },
      "execution_count": 50,
      "outputs": []
    },
    {
      "cell_type": "code",
      "source": [
        "import seaborn as sns\n",
        "from sklearn.metrics import confusion_matrix, ConfusionMatrixDisplay\n",
        "cf_matrix=confusion_matrix(y_test, y_pred_mod)\n",
        "\n",
        "group_names = ['True Neg','False Pos','False Neg','True Pos']\n",
        "\n",
        "group_counts = [\"{0:0.0f}\".format(value) for value in\n",
        "                cf_matrix.flatten()]\n",
        "\n",
        "group_percentages = [\"{0:.2%}\".format(value) for value in\n",
        "                     matrix_per(cf_matrix)]\n",
        "\n",
        "labels = [f\"{v1}\\n{v2}\\n{v3}\" for v1, v2, v3 in\n",
        "          zip(group_names,group_counts,group_percentages)]\n",
        "\n",
        "labels = np.asarray(labels).reshape(2,2)\n",
        "\n",
        "ax = sns.heatmap(cf_matrix, annot=labels, fmt='', cmap='Blues')\n",
        "\n",
        "ax.set_title('Confusion Matrix for GLOVE embeddings + LSTM in YouTube Dataset');\n",
        "ax.set_xlabel('\\nnon_hate_speech')\n",
        "ax.set_ylabel('hate_speech');\n",
        "\n",
        "ax.xaxis.set_ticklabels(['non_hate_speech','hate_speech'])\n",
        "ax.yaxis.set_ticklabels(['non_hate_speech','hate_speech'])\n",
        "\n",
        "## Display the visualization of the Confusion Matrix.\n",
        "plt.show()"
      ],
      "metadata": {
        "colab": {
          "base_uri": "https://localhost:8080/",
          "height": 309
        },
        "outputId": "24d8bc9c-d490-40da-d4f1-ea1240f2e53c",
        "id": "uWuxiIF2SG8M"
      },
      "execution_count": 51,
      "outputs": [
        {
          "output_type": "display_data",
          "data": {
            "text/plain": [
              "<Figure size 432x288 with 2 Axes>"
            ],
            "image/png": "[encoded data removed]"
          },
          "metadata": {
            "needs_background": "light"
          }
        }
      ]
    },
    {
      "cell_type": "code",
      "source": [
        ""
      ],
      "metadata": {
        "id": "j1DkYy6wSG8N"
      },
      "execution_count": null,
      "outputs": []
    }
  ]
}